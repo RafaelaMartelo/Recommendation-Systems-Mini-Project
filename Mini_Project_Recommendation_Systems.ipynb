{
 "cells": [
  {
   "cell_type": "markdown",
   "metadata": {
    "colab_type": "text",
    "id": "KkqlbEEvsHuw"
   },
   "source": [
    "# Recommendation Systems"
   ]
  },
  {
   "cell_type": "markdown",
   "metadata": {
    "colab_type": "text",
    "id": "JXCjew2ItepU"
   },
   "source": [
    "Companies like Amazon(books, items), Netflix(movies), Google(News,Search), and Pandora/Spotify(music) leverage recommendation systems to help users discover new and relevant items (products, videos, jobs, music), creating a delightful user experience while driving incremental revenue. \n",
    "\n",
    "The need to build robust recommendation systems is extremely important given the huge demand for personalized content of modern consumers.\n"
   ]
  },
  {
   "cell_type": "markdown",
   "metadata": {
    "colab_type": "text",
    "id": "_lc420j2uhwZ"
   },
   "source": [
    "In this assignment, you will be applying your learning of recommendation systems in this Unit towards building the following four different types of recommendation systems:\n",
    "\n",
    "1.   Global Recommendation Systems (Statistical)   \n",
    "2.   Content-based Recommendation Systems\n",
    "3.   Collaborative Filtering (User-Item) Recommendation Systems\n",
    "4.   Hybrid Recommendation Systems\n",
    "\n",
    "The focus of the mini-project here would be to build a movie recommendation system.\n"
   ]
  },
  {
   "cell_type": "markdown",
   "metadata": {
    "colab_type": "text",
    "id": "CL3nuM_Kv17_"
   },
   "source": [
    "## 1. Dataset Acquisition\n",
    "\n",
    "Following are the key descriptions of the datasets you will be using. The data used here has been compiled from various movie datasets like Netflix and IMDb.\n",
    "\n",
    "1. __Filename: `movie_titles.csv`:__\n",
    "\n",
    "  - __`MovieID`__: MovieID does not correspond to actual Netflix movie ids or IMDB movie ids\n",
    "  - __`YearOfRelease`__: YearOfRelease can range from 1890 to 2005 and may correspond to the release of corresponding DVD, not necessarily its theaterical release\n",
    "  - __`Title`__: Title is the Netflix movie title and may not correspond to titles used on other sites. Titles are in English\n",
    "\n",
    "\n",
    "2. __Combined User-Ratings Dataset Description - `combined_data.csv`:__\n",
    "\n",
    "  - The first line of the contains the movie id followed by a colon.    \n",
    "  - Each subsequent line in the file corresponds to a rating from a customer and its date in the following format:\n",
    "\n",
    "    - MovieIDs range from 1 to 17770 sequentially.\n",
    "    - CustomerIDs range from 1 to 2649429, with gaps. There are 480189 users. \n",
    "    - Ratings are on a five star (integral) scale from 1 to 5.\n",
    "    - Dates have the format YYYY-MM-DD.\n",
    "\n",
    "\n",
    "3. __Filename: `movies_metadata.csv`__\n",
    "\n",
    "The main Movies Metadata file. Contains information on 45,000 movies featured in the Full MovieLens dataset. Features include posters, backdrops, budget, revenue, release dates, languages, production countries and companies.\n"
   ]
  },
  {
   "cell_type": "markdown",
   "metadata": {
    "colab_type": "text",
    "id": "aaic3a2Cw0T5"
   },
   "source": [
    "## 2: Import Necessary Dependencies\n",
    "\n",
    "We will be leveraging __`keras`__ on top of __`tensorflow`__ for building some of the collaborative filtering and hybrid models. There are compatibility issues with handling sparse layers with dense layers till now in TensorFlow 2 hence we are leveraging native Keras but in the long run once this issue is resolved we can leverage __`tf.keras`__ with minimal code updates."
   ]
  },
  {
   "cell_type": "code",
   "execution_count": 1,
   "metadata": {
    "colab": {},
    "colab_type": "code",
    "id": "iX9t8rYaxVGh"
   },
   "outputs": [],
   "source": [
    "# filter out unncessary warnings\n",
    "import warnings\n",
    "warnings.filterwarnings('ignore')"
   ]
  },
  {
   "cell_type": "code",
   "execution_count": 2,
   "metadata": {
    "colab": {
     "base_uri": "https://localhost:8080/",
     "height": 79
    },
    "colab_type": "code",
    "id": "JGWCPwAiP7vv",
    "outputId": "a0320c9e-dfa3-49e3-bf35-2095bce263d8"
   },
   "outputs": [],
   "source": [
    "# To store\\load the data\n",
    "import pandas as pd\n",
    "\n",
    "# To do linear algebra\n",
    "import numpy as np\n",
    "\n",
    "# To create plots\n",
    "import matplotlib.pyplot as plt\n",
    "import seaborn as sns\n",
    "\n",
    "\n",
    "# To compute similarities between vectors\n",
    "from sklearn.metrics import mean_squared_error\n",
    "from sklearn.metrics.pairwise import cosine_similarity\n",
    "from sklearn.feature_extraction.text import TfidfVectorizer\n",
    "\n",
    "# data load progress bars\n",
    "from tqdm import tqdm\n",
    "\n",
    "from collections import deque\n",
    "\n",
    "# To create deep learning models\n",
    "import tensorflow as tf\n",
    "import keras\n",
    "from keras.layers import Input, Embedding, Reshape, Dot, Concatenate, Dense, Dropout\n",
    "from keras.models import Model\n",
    "\n",
    "# To stack sparse matrices\n",
    "from scipy.sparse import vstack"
   ]
  },
  {
   "cell_type": "code",
   "execution_count": 3,
   "metadata": {
    "colab": {},
    "colab_type": "code",
    "id": "whZc1FgzyPyY"
   },
   "outputs": [],
   "source": [
    "# remove unnecessary TF logs\n",
    "import logging\n",
    "tf.get_logger().setLevel(logging.ERROR)"
   ]
  },
  {
   "cell_type": "code",
   "execution_count": 4,
   "metadata": {
    "colab": {
     "base_uri": "https://localhost:8080/",
     "height": 50
    },
    "colab_type": "code",
    "id": "Ce2tjPHPzWFd",
    "outputId": "f69dceec-26bc-44a3-b47c-5615a02ded51"
   },
   "outputs": [
    {
     "name": "stdout",
     "output_type": "stream",
     "text": [
      "TF Version: 2.13.0\n",
      "Keras Version: 2.13.1\n"
     ]
    }
   ],
   "source": [
    "# check keras and TF version used\n",
    "print('TF Version:', tf.__version__)\n",
    "print('Keras Version:', keras.__version__)\n",
    "# TF Version: 1.15.0\n",
    "# Keras Version: 2.2.5"
   ]
  },
  {
   "cell_type": "markdown",
   "metadata": {
    "colab_type": "text",
    "id": "lXXYudDD0Coy"
   },
   "source": [
    "Let's start loading data that will be used for building the recommendation systems"
   ]
  },
  {
   "cell_type": "markdown",
   "metadata": {
    "colab_type": "text",
    "id": "6FJZmUvExOYt"
   },
   "source": [
    "# 3. Load Datasets"
   ]
  },
  {
   "cell_type": "markdown",
   "metadata": {
    "colab_type": "text",
    "id": "AnAU78S7xz-H"
   },
   "source": [
    "## 3.1: Load Movie Metadata Datasets\n",
    "\n",
    "First, we will load the movie_titles.csv data from the Netflix prize data source"
   ]
  },
  {
   "cell_type": "code",
   "execution_count": 31,
   "metadata": {},
   "outputs": [
    {
     "name": "stdout",
     "output_type": "stream",
     "text": [
      "Shape Movie-Titles:\t(17770, 2)\n"
     ]
    },
    {
     "data": {
      "text/html": [
       "<div>\n",
       "<style scoped>\n",
       "    .dataframe tbody tr th:only-of-type {\n",
       "        vertical-align: middle;\n",
       "    }\n",
       "\n",
       "    .dataframe tbody tr th {\n",
       "        vertical-align: top;\n",
       "    }\n",
       "\n",
       "    .dataframe thead th {\n",
       "        text-align: right;\n",
       "    }\n",
       "</style>\n",
       "<table border=\"1\" class=\"dataframe\">\n",
       "  <thead>\n",
       "    <tr style=\"text-align: right;\">\n",
       "      <th></th>\n",
       "      <th>Year</th>\n",
       "      <th>Name</th>\n",
       "    </tr>\n",
       "    <tr>\n",
       "      <th>Id</th>\n",
       "      <th></th>\n",
       "      <th></th>\n",
       "    </tr>\n",
       "  </thead>\n",
       "  <tbody>\n",
       "    <tr>\n",
       "      <th>16374</th>\n",
       "      <td>2004.0</td>\n",
       "      <td>National Geographic: Forces of Nature</td>\n",
       "    </tr>\n",
       "    <tr>\n",
       "      <th>6871</th>\n",
       "      <td>2004.0</td>\n",
       "      <td>Disney Princess Sing-Along Songs: Once Upon a ...</td>\n",
       "    </tr>\n",
       "    <tr>\n",
       "      <th>15241</th>\n",
       "      <td>1957.0</td>\n",
       "      <td>Kiss Them for Me</td>\n",
       "    </tr>\n",
       "    <tr>\n",
       "      <th>14032</th>\n",
       "      <td>2001.0</td>\n",
       "      <td>UFOs and Aliens</td>\n",
       "    </tr>\n",
       "    <tr>\n",
       "      <th>4425</th>\n",
       "      <td>1985.0</td>\n",
       "      <td>Miranda (Tinto Brass)</td>\n",
       "    </tr>\n",
       "  </tbody>\n",
       "</table>\n",
       "</div>"
      ],
      "text/plain": [
       "         Year                                               Name\n",
       "Id                                                              \n",
       "16374  2004.0              National Geographic: Forces of Nature\n",
       "6871   2004.0  Disney Princess Sing-Along Songs: Once Upon a ...\n",
       "15241  1957.0                                   Kiss Them for Me\n",
       "14032  2001.0                                    UFOs and Aliens\n",
       "4425   1985.0                              Miranda (Tinto Brass)"
      ]
     },
     "execution_count": 31,
     "metadata": {},
     "output_type": "execute_result"
    }
   ],
   "source": [
    "# Load data for all movies \n",
    "movie_titles = pd.read_csv('./data/movie_titles_new.zip', \n",
    "                           encoding = 'ISO-8859-1', \n",
    "                           low_memory=False)[['Id', 'Year', 'Name']].set_index('Id')\n",
    "\n",
    "print('Shape Movie-Titles:\\t{}'.format(movie_titles.shape))\n",
    "movie_titles.sample(5)"
   ]
  },
  {
   "cell_type": "code",
   "execution_count": 36,
   "metadata": {},
   "outputs": [],
   "source": [
    "# Convert Year to Int\n",
    "movie_titles['Year'] = pd.to_numeric(movie_titles['Year'], errors='coerce').astype('Int64')"
   ]
  },
  {
   "cell_type": "code",
   "execution_count": 37,
   "metadata": {},
   "outputs": [
    {
     "data": {
      "text/html": [
       "<div>\n",
       "<style scoped>\n",
       "    .dataframe tbody tr th:only-of-type {\n",
       "        vertical-align: middle;\n",
       "    }\n",
       "\n",
       "    .dataframe tbody tr th {\n",
       "        vertical-align: top;\n",
       "    }\n",
       "\n",
       "    .dataframe thead th {\n",
       "        text-align: right;\n",
       "    }\n",
       "</style>\n",
       "<table border=\"1\" class=\"dataframe\">\n",
       "  <thead>\n",
       "    <tr style=\"text-align: right;\">\n",
       "      <th></th>\n",
       "      <th>Year</th>\n",
       "      <th>Name</th>\n",
       "    </tr>\n",
       "    <tr>\n",
       "      <th>Id</th>\n",
       "      <th></th>\n",
       "      <th></th>\n",
       "    </tr>\n",
       "  </thead>\n",
       "  <tbody>\n",
       "    <tr>\n",
       "      <th>10962</th>\n",
       "      <td>2002</td>\n",
       "      <td>Rollerball</td>\n",
       "    </tr>\n",
       "    <tr>\n",
       "      <th>6314</th>\n",
       "      <td>1998</td>\n",
       "      <td>Boys Life 2</td>\n",
       "    </tr>\n",
       "    <tr>\n",
       "      <th>13235</th>\n",
       "      <td>2000</td>\n",
       "      <td>Lisa Picard Is Famous</td>\n",
       "    </tr>\n",
       "    <tr>\n",
       "      <th>10034</th>\n",
       "      <td>1999</td>\n",
       "      <td>Miss Julie</td>\n",
       "    </tr>\n",
       "    <tr>\n",
       "      <th>11423</th>\n",
       "      <td>1998</td>\n",
       "      <td>Little Dieter Needs to Fly</td>\n",
       "    </tr>\n",
       "  </tbody>\n",
       "</table>\n",
       "</div>"
      ],
      "text/plain": [
       "       Year                        Name\n",
       "Id                                     \n",
       "10962  2002                  Rollerball\n",
       "6314   1998                 Boys Life 2\n",
       "13235  2000       Lisa Picard Is Famous\n",
       "10034  1999                  Miss Julie\n",
       "11423  1998  Little Dieter Needs to Fly"
      ]
     },
     "execution_count": 37,
     "metadata": {},
     "output_type": "execute_result"
    }
   ],
   "source": [
    "movie_titles.sample(5)"
   ]
  },
  {
   "cell_type": "markdown",
   "metadata": {
    "colab_type": "text",
    "id": "SYafEzcYxa09"
   },
   "source": [
    "There are approximately 18000 movies in the ratings dataset and the metadata information includes the year of release and movie title"
   ]
  },
  {
   "cell_type": "markdown",
   "metadata": {
    "colab_type": "text",
    "id": "aE4QaObcyAup"
   },
   "source": [
    "Next, we will load the movie_metadata.csv from The movies dataset source. This is to get the metadata information like description etc. related to each movie."
   ]
  },
  {
   "cell_type": "code",
   "execution_count": 42,
   "metadata": {
    "colab": {
     "base_uri": "https://localhost:8080/",
     "height": 242
    },
    "colab_type": "code",
    "id": "WWig4ePBqGSD",
    "outputId": "3dff280d-bb3e-4701-b0fb-ced2eecbee1b"
   },
   "outputs": [
    {
     "name": "stdout",
     "output_type": "stream",
     "text": [
      "Shape Movie-Metadata:\t(21604, 1)\n"
     ]
    },
    {
     "data": {
      "text/html": [
       "<div>\n",
       "<style scoped>\n",
       "    .dataframe tbody tr th:only-of-type {\n",
       "        vertical-align: middle;\n",
       "    }\n",
       "\n",
       "    .dataframe tbody tr th {\n",
       "        vertical-align: top;\n",
       "    }\n",
       "\n",
       "    .dataframe thead th {\n",
       "        text-align: right;\n",
       "    }\n",
       "</style>\n",
       "<table border=\"1\" class=\"dataframe\">\n",
       "  <thead>\n",
       "    <tr style=\"text-align: right;\">\n",
       "      <th></th>\n",
       "      <th>overview</th>\n",
       "    </tr>\n",
       "    <tr>\n",
       "      <th>original_title</th>\n",
       "      <th></th>\n",
       "    </tr>\n",
       "  </thead>\n",
       "  <tbody>\n",
       "    <tr>\n",
       "      <th>Before Sunrise</th>\n",
       "      <td>A dialogue marathon of a film, this fairytale ...</td>\n",
       "    </tr>\n",
       "    <tr>\n",
       "      <th>Ironweed</th>\n",
       "      <td>Albany, New York, Halloween, 1938. Francis Phe...</td>\n",
       "    </tr>\n",
       "    <tr>\n",
       "      <th>龍虎門</th>\n",
       "      <td>Dragon Tiger Gate is a 2006 Hong Kong martial ...</td>\n",
       "    </tr>\n",
       "    <tr>\n",
       "      <th>C'eravamo tanto amati</th>\n",
       "      <td>Gianni, Nicola and Antonio become close friend...</td>\n",
       "    </tr>\n",
       "    <tr>\n",
       "      <th>Kelebeğin Rüyası</th>\n",
       "      <td>In a small Turkish town, two young tuberculous...</td>\n",
       "    </tr>\n",
       "  </tbody>\n",
       "</table>\n",
       "</div>"
      ],
      "text/plain": [
       "                                                                overview\n",
       "original_title                                                          \n",
       "Before Sunrise         A dialogue marathon of a film, this fairytale ...\n",
       "Ironweed               Albany, New York, Halloween, 1938. Francis Phe...\n",
       "龍虎門                    Dragon Tiger Gate is a 2006 Hong Kong martial ...\n",
       "C'eravamo tanto amati  Gianni, Nicola and Antonio become close friend...\n",
       "Kelebeğin Rüyası       In a small Turkish town, two young tuberculous..."
      ]
     },
     "execution_count": 42,
     "metadata": {},
     "output_type": "execute_result"
    }
   ],
   "source": [
    "# Load a movie metadata dataset\n",
    "movie_metadata = (pd.read_csv('./data/movies_metadata.csv.zip', \n",
    "                              low_memory=False)[['original_title', 'overview', 'vote_count']]\n",
    "                    .set_index('original_title')\n",
    "                    .dropna())\n",
    "\n",
    "# Remove the long tail of rarly rated moves\n",
    "movie_metadata = movie_metadata[movie_metadata['vote_count']>10].drop('vote_count', axis=1)\n",
    "\n",
    "print('Shape Movie-Metadata:\\t{}'.format(movie_metadata.shape))\n",
    "movie_metadata.sample(5)"
   ]
  },
  {
   "cell_type": "markdown",
   "metadata": {
    "colab_type": "text",
    "id": "dElmRUSWyYoh"
   },
   "source": [
    "Around 21,000 entries in the movies metadata dataset"
   ]
  },
  {
   "cell_type": "markdown",
   "metadata": {
    "colab_type": "text",
    "id": "XJ3cHW1eyhwR"
   },
   "source": [
    "## 3.2: Load User-Movie-Rating Dataset"
   ]
  },
  {
   "cell_type": "code",
   "execution_count": 14,
   "metadata": {},
   "outputs": [
    {
     "name": "stdout",
     "output_type": "stream",
     "text": [
      "Collecting gdown\n",
      "  Downloading gdown-4.7.1-py3-none-any.whl (15 kB)\n",
      "Requirement already satisfied: filelock in c:\\users\\rafae\\anaconda3\\lib\\site-packages (from gdown) (3.9.0)\n",
      "Requirement already satisfied: requests[socks] in c:\\users\\rafae\\anaconda3\\lib\\site-packages (from gdown) (2.31.0)\n",
      "Requirement already satisfied: six in c:\\users\\rafae\\anaconda3\\lib\\site-packages (from gdown) (1.16.0)\n",
      "Requirement already satisfied: tqdm in c:\\users\\rafae\\anaconda3\\lib\\site-packages (from gdown) (4.65.0)\n",
      "Requirement already satisfied: beautifulsoup4 in c:\\users\\rafae\\anaconda3\\lib\\site-packages (from gdown) (4.12.2)\n",
      "Requirement already satisfied: soupsieve>1.2 in c:\\users\\rafae\\anaconda3\\lib\\site-packages (from beautifulsoup4->gdown) (2.4)\n",
      "Requirement already satisfied: charset-normalizer<4,>=2 in c:\\users\\rafae\\anaconda3\\lib\\site-packages (from requests[socks]->gdown) (2.0.4)\n",
      "Requirement already satisfied: idna<4,>=2.5 in c:\\users\\rafae\\anaconda3\\lib\\site-packages (from requests[socks]->gdown) (3.4)\n",
      "Requirement already satisfied: urllib3<3,>=1.21.1 in c:\\users\\rafae\\anaconda3\\lib\\site-packages (from requests[socks]->gdown) (1.26.16)\n",
      "Requirement already satisfied: certifi>=2017.4.17 in c:\\users\\rafae\\anaconda3\\lib\\site-packages (from requests[socks]->gdown) (2023.7.22)\n",
      "Requirement already satisfied: PySocks!=1.5.7,>=1.5.6 in c:\\users\\rafae\\anaconda3\\lib\\site-packages (from requests[socks]->gdown) (1.7.1)\n",
      "Requirement already satisfied: colorama in c:\\users\\rafae\\anaconda3\\lib\\site-packages (from tqdm->gdown) (0.4.6)\n",
      "Installing collected packages: gdown\n",
      "Successfully installed gdown-4.7.1\n",
      "^C\n"
     ]
    }
   ],
   "source": [
    "# Dowload large file from the shared GDrive folder\n",
    "# !pip install gdown"
   ]
  },
  {
   "cell_type": "code",
   "execution_count": 18,
   "metadata": {},
   "outputs": [
    {
     "name": "stderr",
     "output_type": "stream",
     "text": [
      "Downloading...\n",
      "From (uriginal): https://drive.google.com/uc?export=download&id=1z0O0fXuofdsbpL8fkCVgjeIwFP_LxGX2\n",
      "From (redirected): https://drive.google.com/uc?export=download&id=1z0O0fXuofdsbpL8fkCVgjeIwFP_LxGX2&confirm=t&uuid=129c5069-da3b-46d4-ab0a-c9073104b2e0\n",
      "To: C:\\Users\\rafae\\Documents\\Bootcamp_mini-projects\\Bootcamp_mp2\\Recommendation-Systems-Mini-project\\data\n",
      "\n",
      "  0%|          | 0.00/161M [00:00<?, ?B/s]\n",
      "  1%|          | 1.05M/161M [00:00<00:40, 3.92MB/s]\n",
      "  1%|          | 1.57M/161M [00:00<00:54, 2.95MB/s]\n",
      "  1%|1         | 2.10M/161M [00:00<00:56, 2.82MB/s]\n",
      "  2%|1         | 2.62M/161M [00:00<01:03, 2.49MB/s]\n",
      "  2%|1         | 3.15M/161M [00:01<01:09, 2.27MB/s]\n",
      "  2%|2         | 3.67M/161M [00:01<01:26, 1.83MB/s]\n",
      "  3%|2         | 4.19M/161M [00:02<01:44, 1.50MB/s]\n",
      "  3%|2         | 4.72M/161M [00:02<01:42, 1.53MB/s]\n",
      "  3%|3         | 5.24M/161M [00:02<01:48, 1.43MB/s]\n",
      "  4%|3         | 5.77M/161M [00:03<01:38, 1.58MB/s]\n",
      "  4%|3         | 6.29M/161M [00:03<01:33, 1.65MB/s]\n",
      "  4%|4         | 6.82M/161M [00:03<01:45, 1.47MB/s]\n",
      "  5%|4         | 7.34M/161M [00:04<01:57, 1.31MB/s]\n",
      "  5%|4         | 7.86M/161M [00:04<02:01, 1.26MB/s]\n",
      "  5%|5         | 8.39M/161M [00:05<02:06, 1.20MB/s]\n",
      "  6%|5         | 8.91M/161M [00:06<02:58, 852kB/s] \n",
      "  6%|5         | 9.44M/161M [00:07<03:41, 684kB/s]\n",
      "  6%|6         | 9.96M/161M [00:08<03:32, 711kB/s]\n",
      "  7%|6         | 10.5M/161M [00:08<03:30, 715kB/s]\n",
      "  7%|6         | 11.0M/161M [00:09<03:14, 774kB/s]\n",
      "  7%|7         | 11.5M/161M [00:10<03:20, 746kB/s]\n",
      "  7%|7         | 12.1M/161M [00:11<03:54, 637kB/s]\n",
      "  8%|7         | 12.6M/161M [00:13<05:25, 456kB/s]\n",
      "  8%|8         | 13.1M/161M [00:13<04:47, 515kB/s]\n",
      "  8%|8         | 13.6M/161M [00:14<04:43, 520kB/s]\n",
      "  9%|8         | 14.2M/161M [00:17<06:39, 368kB/s]\n",
      "  9%|9         | 14.7M/161M [00:20<09:35, 255kB/s]\n",
      "  9%|9         | 15.2M/161M [00:23<10:06, 241kB/s]\n",
      " 10%|9         | 15.7M/161M [00:23<07:46, 312kB/s]\n",
      " 10%|#         | 16.3M/161M [00:24<05:57, 406kB/s]\n",
      " 10%|#         | 16.8M/161M [00:24<04:36, 522kB/s]\n",
      " 11%|#         | 17.3M/161M [00:24<03:39, 655kB/s]\n",
      " 11%|#1        | 17.8M/161M [00:25<03:04, 778kB/s]\n",
      " 11%|#1        | 18.4M/161M [00:25<02:28, 962kB/s]\n",
      " 12%|#1        | 18.9M/161M [00:25<02:02, 1.16MB/s]\n",
      " 12%|#2        | 19.4M/161M [00:25<01:46, 1.33MB/s]\n",
      " 12%|#2        | 19.9M/161M [00:26<01:57, 1.20MB/s]\n",
      " 13%|#2        | 20.4M/161M [00:30<06:42, 349kB/s] \n",
      " 13%|#3        | 21.0M/161M [00:31<05:59, 390kB/s]\n",
      " 13%|#3        | 21.5M/161M [00:34<08:10, 285kB/s]\n",
      " 14%|#3        | 22.0M/161M [00:42<16:03, 144kB/s]\n",
      " 14%|#3        | 22.5M/161M [00:43<12:18, 188kB/s]\n",
      " 14%|#4        | 23.1M/161M [00:43<09:19, 247kB/s]\n",
      " 15%|#4        | 23.6M/161M [00:45<08:20, 275kB/s]\n",
      " 15%|#4        | 24.1M/161M [00:45<06:31, 350kB/s]\n",
      " 15%|#5        | 24.6M/161M [00:45<05:03, 450kB/s]\n",
      " 16%|#5        | 25.2M/161M [00:46<03:46, 601kB/s]\n",
      " 16%|#5        | 25.7M/161M [00:46<02:49, 799kB/s]\n",
      " 16%|#6        | 26.2M/161M [00:46<02:12, 1.02MB/s]\n",
      " 17%|#6        | 26.7M/161M [00:52<08:37, 260kB/s] \n",
      " 17%|#6        | 27.3M/161M [00:52<06:52, 325kB/s]\n",
      " 17%|#7        | 27.8M/161M [01:00<14:30, 153kB/s]\n",
      " 18%|#7        | 28.3M/161M [01:02<12:15, 181kB/s]\n",
      " 18%|#7        | 28.8M/161M [01:02<09:26, 234kB/s]\n",
      " 18%|#8        | 29.4M/161M [01:19<28:13, 77.9kB/s]\n",
      " 19%|#8        | 29.9M/161M [01:23<23:43, 92.3kB/s]\n",
      " 19%|#8        | 30.4M/161M [01:27<21:53, 99.6kB/s]\n",
      " 19%|#9        | 30.9M/161M [01:27<15:32, 140kB/s] \n",
      " 20%|#9        | 31.5M/161M [01:27<11:01, 196kB/s]\n",
      " 20%|#9        | 32.0M/161M [01:28<07:57, 271kB/s]\n",
      " 20%|##        | 32.5M/161M [01:28<05:47, 370kB/s]\n",
      " 20%|##        | 33.0M/161M [01:28<04:21, 491kB/s]\n",
      " 21%|##        | 33.6M/161M [01:29<03:52, 550kB/s]\n",
      " 21%|##1       | 34.1M/161M [01:29<03:37, 583kB/s]\n",
      " 21%|##1       | 34.6M/161M [01:33<07:21, 287kB/s]\n",
      " 22%|##1       | 35.1M/161M [01:34<05:59, 351kB/s]\n",
      " 22%|##2       | 35.7M/161M [01:36<05:47, 361kB/s]\n",
      " 22%|##2       | 36.2M/161M [01:38<07:09, 292kB/s]\n",
      " 23%|##2       | 36.7M/161M [01:39<05:30, 377kB/s]\n",
      " 23%|##3       | 37.2M/161M [01:39<04:37, 447kB/s]\n",
      " 23%|##3       | 37.7M/161M [01:41<05:41, 362kB/s]\n",
      " 24%|##3       | 38.3M/161M [01:42<04:41, 436kB/s]\n",
      " 24%|##4       | 38.8M/161M [01:44<06:03, 337kB/s]\n",
      " 24%|##4       | 39.3M/161M [01:45<04:57, 410kB/s]\n",
      " 25%|##4       | 39.8M/161M [01:46<04:36, 440kB/s]\n",
      " 25%|##5       | 40.4M/161M [01:46<03:38, 554kB/s]\n",
      " 25%|##5       | 40.9M/161M [01:47<03:04, 653kB/s]\n",
      " 26%|##5       | 41.4M/161M [01:47<02:38, 758kB/s]\n",
      " 26%|##6       | 41.9M/161M [01:48<02:59, 666kB/s]\n",
      " 26%|##6       | 42.5M/161M [01:49<02:31, 783kB/s]\n",
      " 27%|##6       | 43.0M/161M [01:49<02:32, 774kB/s]\n",
      " 27%|##6       | 43.5M/161M [01:50<02:22, 827kB/s]\n",
      " 27%|##7       | 44.0M/161M [01:51<03:05, 631kB/s]\n",
      " 28%|##7       | 44.6M/161M [01:54<05:37, 346kB/s]\n",
      " 28%|##7       | 45.1M/161M [01:55<04:38, 416kB/s]\n",
      " 28%|##8       | 45.6M/161M [01:57<05:55, 326kB/s]\n",
      " 29%|##8       | 46.1M/161M [01:58<04:26, 431kB/s]\n",
      " 29%|##8       | 46.7M/161M [01:58<03:59, 478kB/s]\n",
      " 29%|##9       | 47.2M/161M [01:59<03:10, 598kB/s]\n",
      " 30%|##9       | 47.7M/161M [01:59<02:31, 748kB/s]\n",
      " 30%|##9       | 48.2M/161M [02:02<04:23, 429kB/s]\n",
      " 30%|###       | 48.8M/161M [02:02<03:33, 528kB/s]\n",
      " 31%|###       | 49.3M/161M [02:04<04:57, 377kB/s]\n",
      " 31%|###       | 49.8M/161M [02:05<04:12, 441kB/s]\n",
      " 31%|###1      | 50.3M/161M [02:07<05:06, 362kB/s]\n",
      " 32%|###1      | 50.9M/161M [02:07<03:54, 471kB/s]\n",
      " 32%|###1      | 51.4M/161M [02:09<04:21, 420kB/s]\n",
      " 32%|###2      | 51.9M/161M [02:12<05:57, 306kB/s]\n",
      " 33%|###2      | 52.4M/161M [02:16<08:27, 214kB/s]\n",
      " 33%|###2      | 53.0M/161M [02:17<06:50, 264kB/s]\n",
      " 33%|###3      | 53.5M/161M [02:17<05:18, 339kB/s]\n",
      " 33%|###3      | 54.0M/161M [02:18<04:47, 373kB/s]\n",
      " 34%|###3      | 54.5M/161M [02:19<03:51, 460kB/s]\n",
      " 34%|###4      | 55.1M/161M [02:21<05:04, 348kB/s]\n",
      " 34%|###4      | 55.6M/161M [02:22<04:02, 436kB/s]\n",
      " 35%|###4      | 56.1M/161M [02:22<03:27, 506kB/s]\n",
      " 35%|###5      | 56.6M/161M [02:23<02:35, 673kB/s]\n",
      " 35%|###5      | 57.1M/161M [02:23<02:02, 852kB/s]\n",
      " 36%|###5      | 57.7M/161M [02:23<01:34, 1.09MB/s]\n",
      " 36%|###6      | 58.2M/161M [02:23<01:20, 1.28MB/s]\n",
      " 36%|###6      | 58.7M/161M [02:24<01:08, 1.51MB/s]\n",
      " 37%|###6      | 59.2M/161M [02:24<01:02, 1.64MB/s]\n",
      " 37%|###7      | 59.8M/161M [02:24<01:12, 1.41MB/s]\n",
      " 37%|###7      | 60.3M/161M [02:25<01:10, 1.43MB/s]\n",
      " 38%|###7      | 60.8M/161M [02:25<01:02, 1.62MB/s]\n",
      " 38%|###8      | 61.3M/161M [02:25<00:57, 1.74MB/s]\n",
      " 38%|###8      | 61.9M/161M [02:25<00:53, 1.85MB/s]\n",
      " 39%|###8      | 62.4M/161M [02:26<01:03, 1.55MB/s]\n",
      " 39%|###9      | 62.9M/161M [02:27<01:31, 1.08MB/s]\n",
      " 39%|###9      | 63.4M/161M [02:27<01:21, 1.20MB/s]\n",
      " 40%|###9      | 64.0M/161M [02:27<01:20, 1.20MB/s]\n",
      " 40%|###9      | 64.5M/161M [02:28<01:10, 1.38MB/s]\n",
      " 40%|####      | 65.0M/161M [02:28<01:10, 1.37MB/s]\n",
      " 41%|####      | 65.5M/161M [02:29<01:31, 1.04MB/s]\n",
      " 41%|####      | 66.1M/161M [02:29<01:18, 1.22MB/s]\n",
      " 41%|####1     | 66.6M/161M [02:29<01:09, 1.35MB/s]\n",
      " 42%|####1     | 67.1M/161M [02:30<01:06, 1.42MB/s]\n",
      " 42%|####1     | 67.6M/161M [02:30<01:20, 1.16MB/s]\n",
      " 42%|####2     | 68.2M/161M [02:31<01:15, 1.23MB/s]\n",
      " 43%|####2     | 68.7M/161M [02:31<01:18, 1.18MB/s]\n",
      " 43%|####2     | 69.2M/161M [02:32<01:57, 784kB/s] \n",
      " 43%|####3     | 69.7M/161M [02:33<01:36, 948kB/s]\n",
      " 44%|####3     | 70.3M/161M [02:33<01:26, 1.06MB/s]\n",
      " 44%|####3     | 70.8M/161M [02:34<01:32, 977kB/s] \n",
      " 44%|####4     | 71.3M/161M [02:37<03:32, 423kB/s]\n",
      " 45%|####4     | 71.8M/161M [02:37<03:16, 454kB/s]\n",
      " 45%|####4     | 72.4M/161M [02:38<02:39, 559kB/s]\n",
      " 45%|####5     | 72.9M/161M [02:38<02:12, 668kB/s]\n",
      " 46%|####5     | 73.4M/161M [02:39<01:58, 740kB/s]\n",
      " 46%|####5     | 73.9M/161M [02:39<01:37, 891kB/s]\n",
      " 46%|####6     | 74.4M/161M [02:39<01:19, 1.09MB/s]\n",
      " 46%|####6     | 75.0M/161M [02:40<01:07, 1.27MB/s]\n",
      " 47%|####6     | 75.5M/161M [02:40<01:03, 1.36MB/s]\n",
      " 47%|####7     | 76.0M/161M [02:40<01:06, 1.29MB/s]\n",
      " 47%|####7     | 76.5M/161M [02:41<01:05, 1.29MB/s]\n",
      " 48%|####7     | 77.1M/161M [02:41<00:58, 1.45MB/s]\n",
      " 48%|####8     | 77.6M/161M [02:41<00:52, 1.59MB/s]\n",
      " 48%|####8     | 78.1M/161M [02:42<00:48, 1.73MB/s]\n",
      " 49%|####8     | 78.6M/161M [02:44<02:09, 637kB/s] \n",
      " 49%|####9     | 79.2M/161M [02:46<03:40, 373kB/s]\n",
      " 49%|####9     | 79.7M/161M [02:47<02:49, 480kB/s]\n",
      " 50%|####9     | 80.2M/161M [02:48<02:49, 478kB/s]\n",
      " 50%|#####     | 80.7M/161M [02:52<05:11, 258kB/s]\n",
      " 50%|#####     | 81.3M/161M [02:53<04:04, 328kB/s]\n",
      " 51%|#####     | 81.8M/161M [02:53<03:19, 397kB/s]\n",
      " 51%|#####1    | 82.3M/161M [02:55<03:55, 335kB/s]\n",
      " 51%|#####1    | 82.8M/161M [02:57<03:37, 361kB/s]\n",
      " 52%|#####1    | 83.4M/161M [02:59<04:17, 302kB/s]\n",
      " 52%|#####2    | 83.9M/161M [03:00<03:55, 329kB/s]\n",
      " 52%|#####2    | 84.4M/161M [03:02<03:35, 356kB/s]\n",
      " 53%|#####2    | 84.9M/161M [03:02<03:07, 407kB/s]\n",
      " 53%|#####2    | 85.5M/161M [03:03<02:33, 493kB/s]\n",
      " 53%|#####3    | 86.0M/161M [03:05<03:29, 359kB/s]\n",
      " 54%|#####3    | 86.5M/161M [03:07<03:46, 330kB/s]\n",
      " 54%|#####3    | 87.0M/161M [03:09<04:08, 299kB/s]\n",
      " 54%|#####4    | 87.6M/161M [03:11<03:48, 322kB/s]\n",
      " 55%|#####4    | 88.1M/161M [03:13<04:07, 295kB/s]\n",
      " 55%|#####4    | 88.6M/161M [03:15<04:21, 278kB/s]\n",
      " 55%|#####5    | 89.1M/161M [03:16<04:02, 297kB/s]\n",
      " 56%|#####5    | 89.7M/161M [03:18<03:33, 335kB/s]\n",
      " 56%|#####5    | 90.2M/161M [03:18<02:50, 418kB/s]\n",
      " 56%|#####6    | 90.7M/161M [03:19<02:42, 434kB/s]\n",
      " 57%|#####6    | 91.2M/161M [03:21<03:18, 353kB/s]\n",
      " 57%|#####6    | 91.8M/161M [03:25<04:49, 240kB/s]\n",
      " 57%|#####7    | 92.3M/161M [03:27<04:26, 259kB/s]\n",
      " 58%|#####7    | 92.8M/161M [03:28<04:14, 269kB/s]\n",
      " 58%|#####7    | 93.3M/161M [03:30<04:08, 274kB/s]\n",
      " 58%|#####8    | 93.8M/161M [03:33<04:25, 254kB/s]\n",
      " 59%|#####8    | 94.4M/161M [03:33<03:29, 320kB/s]\n",
      " 59%|#####8    | 94.9M/161M [03:34<02:47, 396kB/s]\n",
      " 59%|#####9    | 95.4M/161M [03:35<02:27, 448kB/s]\n",
      " 59%|#####9    | 95.9M/161M [03:36<02:10, 500kB/s]\n",
      " 60%|#####9    | 96.5M/161M [03:36<01:52, 577kB/s]\n",
      " 60%|######    | 97.0M/161M [03:37<01:31, 702kB/s]\n",
      " 60%|######    | 97.5M/161M [03:37<01:38, 646kB/s]\n",
      " 61%|######    | 98.0M/161M [03:40<02:37, 402kB/s]\n",
      " 61%|######1   | 98.6M/161M [03:41<02:18, 454kB/s]\n",
      " 61%|######1   | 99.1M/161M [03:42<02:07, 488kB/s]\n",
      " 62%|######1   | 99.6M/161M [03:43<02:21, 436kB/s]\n",
      " 62%|######2   | 100M/161M [03:45<02:54, 351kB/s] \n",
      " 62%|######2   | 101M/161M [03:46<02:28, 407kB/s]\n",
      " 63%|######2   | 101M/161M [03:48<02:46, 361kB/s]\n",
      " 63%|######3   | 102M/161M [03:49<02:29, 397kB/s]\n",
      " 63%|######3   | 102M/161M [03:50<02:30, 392kB/s]\n",
      " 64%|######3   | 103M/161M [03:51<02:18, 423kB/s]\n",
      " 64%|######4   | 103M/161M [03:53<02:17, 421kB/s]\n",
      " 64%|######4   | 104M/161M [03:54<02:23, 401kB/s]\n",
      " 65%|######4   | 104M/161M [03:55<01:59, 475kB/s]\n",
      " 65%|######5   | 105M/161M [03:56<01:59, 470kB/s]\n",
      " 65%|######5   | 105M/161M [03:58<02:24, 387kB/s]\n",
      " 66%|######5   | 106M/161M [03:59<02:21, 392kB/s]\n",
      " 66%|######5   | 106M/161M [04:00<02:22, 385kB/s]\n",
      " 66%|######6   | 107M/161M [04:03<02:51, 316kB/s]\n",
      " 67%|######6   | 107M/161M [04:04<02:36, 344kB/s]\n",
      " 67%|######6   | 108M/161M [04:06<02:50, 312kB/s]\n",
      " 67%|######7   | 109M/161M [04:08<02:41, 326kB/s]\n",
      " 68%|######7   | 109M/161M [04:09<02:47, 312kB/s]\n",
      " 68%|######7   | 110M/161M [04:13<03:56, 218kB/s]\n",
      " 68%|######8   | 110M/161M [04:15<03:38, 235kB/s]\n",
      " 69%|######8   | 111M/161M [04:16<02:45, 305kB/s]\n",
      " 69%|######8   | 111M/161M [04:18<02:55, 285kB/s]\n",
      " 69%|######9   | 112M/161M [04:19<02:26, 338kB/s]\n",
      " 70%|######9   | 112M/161M [04:20<02:05, 391kB/s]\n",
      " 70%|######9   | 113M/161M [04:22<02:27, 330kB/s]\n",
      " 70%|#######   | 113M/161M [04:23<02:06, 379kB/s]\n",
      " 71%|#######   | 114M/161M [04:26<03:02, 261kB/s]\n",
      " 71%|#######   | 114M/161M [04:27<02:37, 298kB/s]\n",
      " 71%|#######1  | 115M/161M [04:28<02:02, 379kB/s]\n",
      " 72%|#######1  | 115M/161M [04:29<01:55, 399kB/s]\n",
      " 72%|#######1  | 116M/161M [04:30<01:47, 424kB/s]\n",
      " 72%|#######2  | 116M/161M [04:32<01:58, 377kB/s]\n",
      " 73%|#######2  | 117M/161M [04:33<01:45, 422kB/s]\n",
      " 73%|#######2  | 117M/161M [04:34<01:48, 405kB/s]\n",
      " 73%|#######3  | 118M/161M [04:36<01:51, 388kB/s]\n",
      " 73%|#######3  | 118M/161M [04:37<01:49, 391kB/s]\n",
      " 74%|#######3  | 119M/161M [04:38<01:50, 381kB/s]\n",
      " 74%|#######4  | 120M/161M [04:41<02:08, 325kB/s]\n",
      " 74%|#######4  | 120M/161M [04:52<06:01, 114kB/s]\n",
      " 75%|#######4  | 121M/161M [04:54<04:45, 143kB/s]\n",
      " 75%|#######5  | 121M/161M [04:57<04:44, 141kB/s]\n",
      " 75%|#######5  | 122M/161M [04:58<03:36, 183kB/s]\n",
      " 76%|#######5  | 122M/161M [04:59<02:49, 230kB/s]\n",
      " 76%|#######6  | 123M/161M [05:01<02:25, 264kB/s]\n",
      " 76%|#######6  | 123M/161M [05:02<02:06, 300kB/s]\n",
      " 77%|#######6  | 124M/161M [05:02<01:41, 369kB/s]\n",
      " 77%|#######7  | 124M/161M [05:03<01:21, 452kB/s]\n",
      " 77%|#######7  | 125M/161M [05:04<01:17, 471kB/s]\n",
      " 78%|#######7  | 125M/161M [05:05<01:16, 471kB/s]\n",
      " 78%|#######8  | 126M/161M [05:07<01:26, 411kB/s]\n",
      " 78%|#######8  | 126M/161M [05:08<01:18, 445kB/s]\n",
      " 79%|#######8  | 127M/161M [05:09<01:18, 437kB/s]\n",
      " 79%|#######9  | 127M/161M [05:10<01:14, 453kB/s]\n",
      " 79%|#######9  | 128M/161M [05:11<01:18, 427kB/s]\n",
      " 80%|#######9  | 128M/161M [05:12<01:02, 523kB/s]\n",
      " 80%|#######9  | 129M/161M [05:12<00:49, 656kB/s]\n",
      " 80%|########  | 129M/161M [05:13<00:40, 793kB/s]\n",
      " 81%|########  | 130M/161M [05:13<00:34, 909kB/s]\n",
      " 81%|########  | 131M/161M [05:14<00:39, 776kB/s]\n",
      " 81%|########1 | 131M/161M [05:15<00:46, 643kB/s]\n",
      " 82%|########1 | 132M/161M [05:16<00:49, 595kB/s]\n",
      " 82%|########1 | 132M/161M [05:17<00:46, 625kB/s]\n",
      " 82%|########2 | 133M/161M [05:18<00:47, 600kB/s]\n",
      " 83%|########2 | 133M/161M [05:20<01:10, 400kB/s]\n",
      " 83%|########2 | 134M/161M [05:21<01:05, 418kB/s]\n",
      " 83%|########3 | 134M/161M [05:22<01:05, 413kB/s]\n",
      " 84%|########3 | 135M/161M [05:24<01:08, 389kB/s]\n",
      " 84%|########3 | 135M/161M [05:25<01:00, 428kB/s]\n",
      " 84%|########4 | 136M/161M [05:27<01:15, 337kB/s]\n",
      " 85%|########4 | 136M/161M [05:29<01:12, 346kB/s]\n",
      " 85%|########4 | 137M/161M [05:30<01:08, 354kB/s]\n",
      " 85%|########5 | 137M/161M [05:31<01:07, 357kB/s]\n",
      " 86%|########5 | 138M/161M [05:33<01:08, 342kB/s]\n",
      " 86%|########5 | 138M/161M [05:34<00:51, 443kB/s]\n",
      " 86%|########6 | 139M/161M [05:34<00:47, 472kB/s]\n",
      " 86%|########6 | 139M/161M [05:35<00:43, 496kB/s]\n",
      " 87%|########6 | 140M/161M [05:36<00:40, 521kB/s]\n",
      " 87%|########7 | 141M/161M [05:39<00:57, 362kB/s]\n",
      " 87%|########7 | 141M/161M [05:40<00:55, 362kB/s]\n",
      " 88%|########7 | 142M/161M [05:42<00:58, 337kB/s]\n",
      " 88%|########8 | 142M/161M [05:44<00:56, 337kB/s]\n",
      " 88%|########8 | 143M/161M [05:46<01:03, 293kB/s]\n",
      " 89%|########8 | 143M/161M [05:47<00:58, 310kB/s]\n",
      " 89%|########9 | 144M/161M [05:48<00:45, 385kB/s]\n",
      " 89%|########9 | 144M/161M [05:49<00:36, 465kB/s]\n",
      " 90%|########9 | 145M/161M [05:50<00:36, 459kB/s]\n",
      " 90%|######### | 145M/161M [05:52<00:46, 343kB/s]\n",
      " 90%|######### | 146M/161M [05:53<00:38, 405kB/s]\n",
      " 91%|######### | 146M/161M [05:54<00:34, 434kB/s]\n",
      " 91%|#########1| 147M/161M [05:56<00:40, 359kB/s]\n",
      " 91%|#########1| 147M/161M [05:58<00:41, 339kB/s]\n",
      " 92%|#########1| 148M/161M [06:00<00:46, 286kB/s]\n",
      " 92%|#########2| 148M/161M [06:02<00:44, 288kB/s]\n",
      " 92%|#########2| 149M/161M [06:03<00:40, 307kB/s]\n",
      " 93%|#########2| 149M/161M [06:04<00:32, 361kB/s]\n",
      " 93%|#########2| 150M/161M [06:05<00:27, 407kB/s]\n",
      " 93%|#########3| 150M/161M [06:06<00:22, 489kB/s]\n",
      " 94%|#########3| 151M/161M [06:06<00:16, 616kB/s]\n",
      " 94%|#########3| 152M/161M [06:07<00:13, 731kB/s]\n",
      " 94%|#########4| 152M/161M [06:07<00:13, 693kB/s]\n",
      " 95%|#########4| 153M/161M [06:08<00:13, 630kB/s]\n",
      " 95%|#########4| 153M/161M [06:10<00:17, 455kB/s]\n",
      " 95%|#########5| 154M/161M [06:12<00:19, 401kB/s]\n",
      " 96%|#########5| 154M/161M [06:15<00:23, 307kB/s]\n",
      " 96%|#########5| 155M/161M [06:17<00:23, 279kB/s]\n",
      " 96%|#########6| 155M/161M [06:19<00:21, 282kB/s]\n",
      " 97%|#########6| 156M/161M [06:21<00:20, 270kB/s]\n",
      " 97%|#########6| 156M/161M [06:22<00:15, 320kB/s]\n",
      " 97%|#########7| 157M/161M [06:22<00:10, 418kB/s]\n",
      " 98%|#########7| 157M/161M [06:23<00:07, 523kB/s]\n",
      " 98%|#########7| 158M/161M [06:23<00:05, 602kB/s]\n",
      " 98%|#########8| 158M/161M [06:24<00:04, 621kB/s]\n",
      " 99%|#########8| 159M/161M [06:26<00:05, 424kB/s]\n",
      " 99%|#########8| 159M/161M [06:27<00:04, 416kB/s]\n",
      " 99%|#########9| 160M/161M [06:29<00:03, 422kB/s]\n",
      " 99%|#########9| 160M/161M [06:30<00:02, 388kB/s]\n",
      "100%|#########9| 161M/161M [06:31<00:00, 416kB/s]\n",
      "100%|##########| 161M/161M [06:32<00:00, 399kB/s]\n",
      "100%|##########| 161M/161M [06:32<00:00, 411kB/s]\n",
      "Destination path 'data/9ymm2un3tmp' already exists\n"
     ]
    },
    {
     "name": "stderr",
     "output_type": "stream",
     "text": [
      "Downloading...\n",
      "From (uriginal): https://drive.google.com/uc?export=download&id=1z0O0fXuofdsbpL8fkCVgjeIwFP_LxGX2\n",
      "From (redirected): https://drive.google.com/uc?export=download&id=1z0O0fXuofdsbpL8fkCVgjeIwFP_LxGX2&confirm=t&uuid=df6b5803-4007-4d80-985f-5e29d907a893\n",
      "To: C:\\Users\\rafae\\Documents\\Bootcamp_mini-projects\\Bootcamp_mp2\\Recommendation-Systems-Mini-project\\data\n",
      "\n",
      "  0%|          | 0.00/161M [00:00<?, ?B/s]\n",
      "  0%|          | 524k/161M [00:00<01:15, 2.12MB/s]\n",
      "  1%|          | 1.05M/161M [00:00<01:07, 2.38MB/s]\n",
      "  1%|          | 1.57M/161M [00:00<01:01, 2.60MB/s]\n",
      "  1%|1         | 2.10M/161M [00:00<01:11, 2.24MB/s]\n",
      "  2%|1         | 2.62M/161M [00:02<03:18, 798kB/s] \n",
      "  2%|1         | 3.15M/161M [00:02<02:59, 882kB/s]\n",
      "  2%|2         | 3.67M/161M [00:02<02:18, 1.14MB/s]\n",
      "  3%|2         | 4.19M/161M [00:03<01:58, 1.33MB/s]\n",
      "  3%|2         | 4.72M/161M [00:03<01:46, 1.47MB/s]\n",
      "  3%|3         | 5.24M/161M [00:03<01:27, 1.78MB/s]\n",
      "  4%|3         | 5.77M/161M [00:03<01:13, 2.12MB/s]\n",
      "  4%|3         | 6.29M/161M [00:03<01:05, 2.35MB/s]\n",
      "  4%|4         | 6.82M/161M [00:04<01:12, 2.12MB/s]\n",
      "  5%|4         | 7.34M/161M [00:04<01:40, 1.54MB/s]\n",
      "  5%|4         | 7.86M/161M [00:05<02:08, 1.20MB/s]\n",
      "  5%|5         | 8.39M/161M [00:06<02:37, 972kB/s] \n",
      "  6%|5         | 8.91M/161M [00:07<03:11, 795kB/s]\n",
      "  6%|5         | 9.44M/161M [00:08<03:39, 691kB/s]\n",
      "  6%|6         | 9.96M/161M [00:08<03:05, 814kB/s]\n",
      "  7%|6         | 10.5M/161M [00:08<02:43, 923kB/s]\n",
      "  7%|6         | 11.0M/161M [00:09<02:25, 1.03MB/s]\n",
      "  7%|7         | 11.5M/161M [00:10<03:05, 806kB/s] \n",
      "  7%|7         | 12.1M/161M [00:10<02:54, 853kB/s]\n",
      "  8%|7         | 12.6M/161M [00:11<02:46, 893kB/s]\n",
      "  8%|8         | 13.1M/161M [00:11<02:49, 875kB/s]\n",
      "  8%|8         | 13.6M/161M [00:12<02:49, 869kB/s]\n",
      "  9%|8         | 14.2M/161M [00:13<02:46, 884kB/s]\n",
      "  9%|9         | 14.7M/161M [00:13<02:23, 1.02MB/s]\n",
      "  9%|9         | 15.2M/161M [00:15<04:07, 590kB/s] \n",
      " 10%|9         | 15.7M/161M [00:16<04:52, 497kB/s]\n",
      " 10%|#         | 16.3M/161M [00:17<04:55, 491kB/s]\n",
      " 10%|#         | 16.8M/161M [00:20<07:25, 324kB/s]\n",
      " 11%|#         | 17.3M/161M [00:21<06:55, 347kB/s]\n",
      " 11%|#1        | 17.8M/161M [00:22<05:57, 401kB/s]\n",
      " 11%|#1        | 18.4M/161M [00:23<05:13, 456kB/s]\n",
      " 12%|#1        | 18.9M/161M [00:25<06:03, 392kB/s]\n",
      " 12%|#2        | 19.4M/161M [00:27<06:54, 342kB/s]\n",
      " 12%|#2        | 19.9M/161M [00:28<06:19, 372kB/s]\n",
      " 13%|#2        | 20.4M/161M [00:28<05:03, 463kB/s]\n",
      " 13%|#3        | 21.0M/161M [00:29<04:12, 556kB/s]\n",
      " 13%|#3        | 21.5M/161M [00:31<05:40, 411kB/s]\n",
      " 14%|#3        | 22.0M/161M [00:35<09:38, 241kB/s]\n",
      " 14%|#3        | 22.5M/161M [00:37<09:10, 252kB/s]\n",
      " 14%|#4        | 23.1M/161M [00:39<08:21, 276kB/s]\n",
      " 15%|#4        | 23.6M/161M [00:40<07:55, 289kB/s]\n",
      " 15%|#4        | 24.1M/161M [00:41<06:45, 339kB/s]\n",
      " 15%|#5        | 24.6M/161M [00:43<06:29, 351kB/s]\n",
      " 16%|#5        | 25.2M/161M [00:44<05:48, 391kB/s]\n",
      " 16%|#5        | 25.7M/161M [00:44<05:18, 426kB/s]\n",
      " 16%|#6        | 26.2M/161M [00:46<06:10, 364kB/s]\n",
      " 17%|#6        | 26.7M/161M [00:48<06:47, 330kB/s]\n",
      " 17%|#6        | 27.3M/161M [00:50<07:00, 319kB/s]\n",
      " 17%|#7        | 27.8M/161M [00:51<05:53, 378kB/s]\n",
      " 18%|#7        | 28.3M/161M [00:52<05:10, 428kB/s]\n",
      " 18%|#7        | 28.8M/161M [00:53<05:04, 435kB/s]\n",
      " 18%|#8        | 29.4M/161M [00:54<05:20, 412kB/s]\n",
      " 19%|#8        | 29.9M/161M [00:56<05:52, 372kB/s]\n",
      " 19%|#8        | 30.4M/161M [00:57<05:28, 399kB/s]\n",
      " 19%|#9        | 30.9M/161M [00:59<05:34, 390kB/s]\n",
      " 20%|#9        | 31.5M/161M [01:00<05:07, 422kB/s]\n",
      " 20%|#9        | 32.0M/161M [01:01<05:05, 423kB/s]\n",
      " 20%|##        | 32.5M/161M [01:02<05:23, 398kB/s]\n",
      " 20%|##        | 33.0M/161M [01:03<05:06, 418kB/s]\n",
      " 21%|##        | 33.6M/161M [01:04<04:02, 526kB/s]\n",
      " 21%|##1       | 34.1M/161M [01:05<03:47, 559kB/s]\n",
      " 21%|##1       | 34.6M/161M [01:06<04:27, 473kB/s]\n",
      " 22%|##1       | 35.1M/161M [01:07<04:07, 509kB/s]\n",
      " 22%|##2       | 35.7M/161M [01:08<03:45, 557kB/s]\n",
      " 22%|##2       | 36.2M/161M [01:08<03:03, 680kB/s]\n",
      " 23%|##2       | 36.7M/161M [01:09<02:45, 750kB/s]\n",
      " 23%|##3       | 37.2M/161M [01:10<03:52, 533kB/s]\n",
      " 23%|##3       | 37.7M/161M [01:11<03:21, 614kB/s]\n",
      " 24%|##3       | 38.3M/161M [01:12<03:15, 630kB/s]\n",
      " 24%|##4       | 38.8M/161M [01:13<04:22, 466kB/s]\n",
      " 24%|##4       | 39.3M/161M [01:14<04:01, 505kB/s]\n",
      " 25%|##4       | 39.8M/161M [01:16<04:24, 459kB/s]\n",
      " 25%|##5       | 40.4M/161M [01:17<04:45, 424kB/s]\n",
      " 25%|##5       | 40.9M/161M [01:19<05:17, 380kB/s]\n",
      " 26%|##5       | 41.4M/161M [01:22<07:34, 263kB/s]\n",
      " 26%|##6       | 41.9M/161M [01:24<06:56, 286kB/s]\n",
      " 26%|##6       | 42.5M/161M [01:25<06:06, 324kB/s]\n",
      " 27%|##6       | 43.0M/161M [01:28<07:25, 266kB/s]\n",
      " 27%|##6       | 43.5M/161M [01:28<06:01, 326kB/s]\n",
      " 27%|##7       | 44.0M/161M [01:29<05:02, 388kB/s]\n",
      " 28%|##7       | 44.6M/161M [01:31<05:43, 339kB/s]\n",
      " 28%|##7       | 45.1M/161M [01:37<10:41, 181kB/s]\n",
      " 28%|##8       | 45.6M/161M [01:38<08:10, 236kB/s]\n",
      " 29%|##8       | 46.1M/161M [01:38<06:08, 312kB/s]\n",
      " 29%|##8       | 46.7M/161M [01:39<04:59, 383kB/s]\n",
      " 29%|##9       | 47.2M/161M [01:40<04:35, 414kB/s]\n",
      " 30%|##9       | 47.7M/161M [01:41<04:31, 418kB/s]\n",
      " 30%|##9       | 48.2M/161M [01:44<05:55, 318kB/s]\n",
      " 30%|###       | 48.8M/161M [01:46<06:50, 274kB/s]\n",
      " 31%|###       | 49.3M/161M [01:48<06:30, 287kB/s]\n",
      " 31%|###       | 49.8M/161M [01:50<06:56, 267kB/s]\n",
      " 31%|###1      | 50.3M/161M [01:51<05:45, 321kB/s]\n",
      " 32%|###1      | 50.9M/161M [02:00<13:34, 136kB/s]\n",
      " 32%|###1      | 51.4M/161M [02:02<11:05, 165kB/s]\n",
      " 32%|###2      | 51.9M/161M [02:04<09:56, 183kB/s]\n",
      " 33%|###2      | 52.4M/161M [02:06<09:31, 190kB/s]\n",
      " 33%|###2      | 53.0M/161M [02:08<08:04, 224kB/s]\n",
      " 33%|###3      | 53.5M/161M [02:09<07:21, 244kB/s]\n",
      " 33%|###3      | 54.0M/161M [02:11<06:21, 281kB/s]\n",
      " 34%|###3      | 54.5M/161M [02:12<05:25, 328kB/s]\n",
      " 34%|###4      | 55.1M/161M [02:13<04:59, 355kB/s]\n",
      " 34%|###4      | 55.6M/161M [02:14<04:59, 353kB/s]\n",
      " 35%|###4      | 56.1M/161M [02:15<04:17, 408kB/s]\n",
      " 35%|###5      | 56.6M/161M [02:15<03:26, 508kB/s]\n",
      " 35%|###5      | 57.1M/161M [02:16<03:03, 568kB/s]\n",
      " 36%|###5      | 57.7M/161M [02:17<02:34, 673kB/s]\n",
      " 36%|###6      | 58.2M/161M [02:17<02:08, 805kB/s]\n",
      " 36%|###6      | 58.7M/161M [02:17<01:52, 915kB/s]\n",
      " 37%|###6      | 59.2M/161M [02:18<01:47, 952kB/s]\n",
      " 37%|###7      | 59.8M/161M [02:19<02:33, 663kB/s]\n",
      " 37%|###7      | 60.3M/161M [02:20<03:02, 554kB/s]\n",
      " 38%|###7      | 60.8M/161M [02:22<03:42, 451kB/s]\n",
      " 38%|###8      | 61.3M/161M [02:23<03:43, 447kB/s]\n",
      " 38%|###8      | 61.9M/161M [02:25<03:46, 439kB/s]\n",
      " 39%|###8      | 62.4M/161M [02:26<03:56, 418kB/s]\n",
      " 39%|###9      | 62.9M/161M [02:27<04:04, 402kB/s]\n",
      " 39%|###9      | 63.4M/161M [02:30<05:27, 298kB/s]\n",
      " 40%|###9      | 64.0M/161M [02:31<04:49, 336kB/s]\n",
      " 40%|###9      | 64.5M/161M [02:33<04:36, 349kB/s]\n",
      " 40%|####      | 65.0M/161M [02:33<03:44, 429kB/s]\n",
      " 41%|####      | 65.5M/161M [02:34<03:38, 438kB/s]\n",
      " 41%|####      | 66.1M/161M [02:36<04:23, 361kB/s]\n",
      " 41%|####1     | 66.6M/161M [02:38<04:10, 378kB/s]\n",
      " 42%|####1     | 67.1M/161M [02:38<03:37, 433kB/s]\n",
      " 42%|####1     | 67.6M/161M [02:40<04:02, 386kB/s]\n",
      " 42%|####2     | 68.2M/161M [02:41<03:42, 419kB/s]\n",
      " 43%|####2     | 68.7M/161M [02:43<04:23, 351kB/s]\n",
      " 43%|####2     | 69.2M/161M [02:45<04:15, 361kB/s]\n",
      " 43%|####3     | 69.7M/161M [02:46<04:06, 371kB/s]\n",
      " 44%|####3     | 70.3M/161M [02:48<05:04, 299kB/s]\n",
      " 44%|####3     | 70.8M/161M [02:50<04:58, 303kB/s]\n",
      " 44%|####4     | 71.3M/161M [02:51<04:15, 352kB/s]\n",
      " 45%|####4     | 71.8M/161M [02:52<03:57, 377kB/s]\n",
      " 45%|####4     | 72.4M/161M [02:53<03:43, 398kB/s]\n",
      " 45%|####5     | 72.9M/161M [02:56<04:58, 296kB/s]\n",
      " 46%|####5     | 73.4M/161M [02:58<04:38, 315kB/s]\n",
      " 46%|####5     | 73.9M/161M [02:59<04:17, 339kB/s]\n",
      " 46%|####6     | 74.4M/161M [03:01<04:25, 327kB/s]\n",
      " 46%|####6     | 75.0M/161M [03:01<03:35, 401kB/s]\n",
      " 47%|####6     | 75.5M/161M [03:06<06:17, 227kB/s]\n",
      " 47%|####7     | 76.0M/161M [03:07<05:27, 261kB/s]\n",
      " 47%|####7     | 76.5M/161M [03:08<04:27, 317kB/s]\n",
      " 48%|####7     | 77.1M/161M [03:09<03:42, 379kB/s]\n",
      " 48%|####8     | 77.6M/161M [03:10<03:53, 358kB/s]\n",
      " 48%|####8     | 78.1M/161M [03:14<05:16, 263kB/s]\n",
      " 49%|####8     | 78.6M/161M [03:15<05:03, 272kB/s]\n",
      " 49%|####9     | 79.2M/161M [03:17<04:53, 280kB/s]\n",
      " 49%|####9     | 79.7M/161M [03:19<04:27, 305kB/s]\n",
      " 50%|####9     | 80.2M/161M [03:20<04:00, 338kB/s]\n",
      " 50%|#####     | 80.7M/161M [03:21<03:33, 378kB/s]\n",
      " 50%|#####     | 81.3M/161M [03:22<03:41, 360kB/s]\n",
      " 51%|#####     | 81.8M/161M [03:24<03:28, 382kB/s]\n",
      " 51%|#####1    | 82.3M/161M [03:27<04:42, 279kB/s]\n",
      " 51%|#####1    | 82.8M/161M [03:29<04:51, 269kB/s]\n",
      " 52%|#####1    | 83.4M/161M [03:34<07:00, 185kB/s]\n",
      " 52%|#####2    | 83.9M/161M [03:34<05:28, 236kB/s]\n",
      " 52%|#####2    | 84.4M/161M [03:35<04:20, 295kB/s]\n",
      " 53%|#####2    | 84.9M/161M [03:36<03:45, 338kB/s]\n",
      " 53%|#####2    | 85.5M/161M [03:37<03:21, 376kB/s]\n",
      " 53%|#####3    | 86.0M/161M [03:38<03:04, 408kB/s]\n",
      " 54%|#####3    | 86.5M/161M [03:40<03:25, 363kB/s]\n",
      " 54%|#####3    | 87.0M/161M [03:42<03:36, 343kB/s]\n",
      " 54%|#####4    | 87.6M/161M [03:43<03:39, 335kB/s]\n",
      " 55%|#####4    | 88.1M/161M [03:44<03:00, 405kB/s]\n",
      " 55%|#####4    | 88.6M/161M [03:44<02:21, 515kB/s]\n",
      " 55%|#####5    | 89.1M/161M [03:45<01:54, 629kB/s]\n",
      " 56%|#####5    | 89.7M/161M [03:45<01:46, 670kB/s]\n",
      " 56%|#####5    | 90.2M/161M [03:50<04:29, 264kB/s]\n",
      " 56%|#####6    | 90.7M/161M [03:51<03:37, 325kB/s]\n",
      " 57%|#####6    | 91.2M/161M [03:52<03:16, 356kB/s]\n",
      " 57%|#####6    | 91.8M/161M [03:53<02:40, 434kB/s]\n",
      " 57%|#####7    | 92.3M/161M [03:53<02:08, 539kB/s]\n",
      " 58%|#####7    | 92.8M/161M [03:54<02:05, 548kB/s]\n",
      " 58%|#####7    | 93.3M/161M [03:54<01:38, 690kB/s]\n",
      " 58%|#####8    | 93.8M/161M [03:55<01:22, 815kB/s]\n",
      " 59%|#####8    | 94.4M/161M [03:55<01:16, 872kB/s]\n",
      " 59%|#####8    | 94.9M/161M [03:56<01:36, 691kB/s]\n",
      " 59%|#####9    | 95.4M/161M [03:57<01:31, 716kB/s]\n",
      " 59%|#####9    | 95.9M/161M [03:58<01:40, 648kB/s]\n",
      " 60%|#####9    | 96.5M/161M [03:59<01:58, 549kB/s]\n",
      " 60%|######    | 97.0M/161M [04:00<01:47, 598kB/s]\n",
      " 60%|######    | 97.5M/161M [04:02<02:31, 421kB/s]\n",
      " 61%|######    | 98.0M/161M [04:03<02:01, 520kB/s]\n",
      " 61%|######1   | 98.6M/161M [04:03<01:41, 620kB/s]\n",
      " 61%|######1   | 99.1M/161M [04:04<01:39, 624kB/s]\n",
      " 62%|######1   | 99.6M/161M [04:05<01:58, 518kB/s]\n",
      " 62%|######2   | 100M/161M [04:06<01:38, 619kB/s] \n",
      " 62%|######2   | 101M/161M [04:06<01:31, 661kB/s]\n",
      " 63%|######2   | 101M/161M [04:07<01:28, 680kB/s]\n",
      " 63%|######3   | 102M/161M [04:08<01:21, 733kB/s]\n",
      " 63%|######3   | 102M/161M [04:08<01:05, 903kB/s]\n",
      " 64%|######3   | 103M/161M [04:08<00:57, 1.01MB/s]\n",
      " 64%|######4   | 103M/161M [04:09<00:54, 1.07MB/s]\n",
      " 64%|######4   | 104M/161M [04:10<01:21, 709kB/s] \n",
      " 65%|######4   | 104M/161M [04:11<01:32, 612kB/s]\n",
      " 65%|######5   | 105M/161M [04:13<01:52, 500kB/s]\n",
      " 65%|######5   | 105M/161M [04:15<02:20, 399kB/s]\n",
      " 66%|######5   | 106M/161M [04:17<02:40, 346kB/s]\n",
      " 66%|######5   | 106M/161M [04:19<02:52, 317kB/s]\n",
      " 66%|######6   | 107M/161M [04:20<02:44, 331kB/s]\n",
      " 67%|######6   | 107M/161M [04:22<02:42, 332kB/s]\n",
      " 67%|######6   | 108M/161M [04:23<02:36, 341kB/s]\n",
      " 67%|######7   | 109M/161M [04:24<02:24, 366kB/s]\n",
      " 68%|######7   | 109M/161M [04:26<02:37, 332kB/s]\n",
      " 68%|######7   | 110M/161M [04:28<02:34, 335kB/s]\n",
      " 68%|######8   | 110M/161M [04:32<04:04, 209kB/s]\n",
      " 69%|######8   | 111M/161M [04:33<03:17, 256kB/s]\n",
      " 69%|######8   | 111M/161M [04:35<02:57, 283kB/s]\n",
      " 69%|######9   | 112M/161M [04:38<03:25, 242kB/s]\n",
      " 70%|######9   | 112M/161M [04:39<02:50, 287kB/s]\n",
      " 70%|######9   | 113M/161M [04:40<02:30, 323kB/s]\n",
      " 70%|#######   | 113M/161M [04:41<02:11, 365kB/s]\n",
      " 71%|#######   | 114M/161M [04:42<01:59, 397kB/s]\n",
      " 71%|#######   | 114M/161M [04:42<01:33, 500kB/s]\n",
      " 71%|#######1  | 115M/161M [04:43<01:19, 586kB/s]\n",
      " 72%|#######1  | 115M/161M [04:44<01:25, 537kB/s]\n",
      " 72%|#######1  | 116M/161M [04:46<01:53, 399kB/s]\n",
      " 72%|#######2  | 116M/161M [04:47<01:50, 407kB/s]\n",
      " 73%|#######2  | 117M/161M [04:49<01:45, 420kB/s]\n",
      " 73%|#######2  | 117M/161M [04:50<01:40, 437kB/s]\n",
      " 73%|#######3  | 118M/161M [04:51<01:54, 377kB/s]\n",
      " 73%|#######3  | 118M/161M [04:52<01:38, 434kB/s]\n",
      " 74%|#######3  | 119M/161M [04:54<01:38, 430kB/s]\n",
      " 74%|#######4  | 120M/161M [04:54<01:24, 494kB/s]\n",
      " 74%|#######4  | 120M/161M [04:55<01:12, 572kB/s]\n",
      " 75%|#######4  | 121M/161M [04:56<01:06, 607kB/s]\n",
      " 75%|#######5  | 121M/161M [04:56<01:08, 583kB/s]\n",
      " 75%|#######5  | 122M/161M [04:57<01:03, 625kB/s]\n",
      " 76%|#######5  | 122M/161M [04:58<01:02, 626kB/s]\n",
      " 76%|#######6  | 123M/161M [04:59<00:58, 665kB/s]\n",
      " 76%|#######6  | 123M/161M [04:59<00:49, 762kB/s]\n",
      " 77%|#######6  | 124M/161M [05:00<00:54, 691kB/s]\n",
      " 77%|#######7  | 124M/161M [05:01<01:05, 566kB/s]\n",
      " 77%|#######7  | 125M/161M [05:05<01:56, 314kB/s]\n",
      " 78%|#######7  | 125M/161M [05:07<02:06, 284kB/s]\n",
      " 78%|#######8  | 126M/161M [05:09<01:59, 297kB/s]\n",
      " 78%|#######8  | 126M/161M [05:10<01:53, 307kB/s]\n",
      " 79%|#######8  | 127M/161M [05:12<01:48, 316kB/s]\n",
      " 79%|#######9  | 127M/161M [05:13<01:41, 334kB/s]\n",
      " 79%|#######9  | 128M/161M [05:14<01:26, 387kB/s]\n",
      " 80%|#######9  | 128M/161M [05:15<01:17, 425kB/s]\n",
      " 80%|#######9  | 129M/161M [05:17<01:32, 350kB/s]\n",
      " 80%|########  | 129M/161M [05:18<01:17, 411kB/s]\n",
      " 81%|########  | 130M/161M [05:19<01:07, 464kB/s]\n",
      " 81%|########  | 131M/161M [05:21<01:20, 382kB/s]\n",
      " 81%|########1 | 131M/161M [05:22<01:14, 408kB/s]\n",
      " 82%|########1 | 132M/161M [05:22<01:02, 474kB/s]\n",
      " 82%|########1 | 132M/161M [05:23<00:58, 501kB/s]\n",
      " 82%|########2 | 133M/161M [05:25<01:16, 372kB/s]\n",
      " 83%|########2 | 133M/161M [05:28<01:27, 320kB/s]\n",
      " 83%|########2 | 134M/161M [05:28<01:06, 415kB/s]\n",
      " 83%|########3 | 134M/161M [05:29<01:03, 428kB/s]\n",
      " 84%|########3 | 135M/161M [05:31<01:06, 399kB/s]\n",
      " 84%|########3 | 135M/161M [05:35<01:45, 246kB/s]\n",
      " 84%|########4 | 136M/161M [05:37<01:46, 239kB/s]\n",
      " 85%|########4 | 136M/161M [05:38<01:26, 287kB/s]\n",
      " 85%|########4 | 137M/161M [05:39<01:19, 305kB/s]\n",
      " 85%|########5 | 137M/161M [05:44<01:53, 210kB/s]\n",
      " 86%|########5 | 138M/161M [05:45<01:31, 256kB/s]\n",
      " 86%|########5 | 138M/161M [05:45<01:10, 324kB/s]\n",
      " 86%|########6 | 139M/161M [05:47<01:03, 349kB/s]\n",
      " 86%|########6 | 139M/161M [05:49<01:08, 317kB/s]\n",
      " 87%|########6 | 140M/161M [05:50<01:08, 310kB/s]\n",
      " 87%|########7 | 141M/161M [05:53<01:23, 250kB/s]\n",
      " 87%|########7 | 141M/161M [05:55<01:11, 282kB/s]\n",
      " 88%|########7 | 142M/161M [05:56<01:07, 293kB/s]\n",
      " 88%|########8 | 142M/161M [05:58<00:58, 328kB/s]\n",
      " 88%|########8 | 143M/161M [05:58<00:45, 410kB/s]\n",
      " 89%|########8 | 143M/161M [06:00<00:47, 381kB/s]\n",
      " 89%|########9 | 144M/161M [06:01<00:47, 370kB/s]\n",
      " 89%|########9 | 144M/161M [06:02<00:41, 415kB/s]\n",
      " 90%|########9 | 145M/161M [06:03<00:37, 439kB/s]\n",
      " 90%|######### | 145M/161M [06:05<00:39, 406kB/s]\n",
      " 90%|######### | 146M/161M [06:07<00:44, 345kB/s]\n",
      " 91%|######### | 146M/161M [06:13<01:25, 176kB/s]\n",
      " 91%|#########1| 147M/161M [06:15<01:13, 198kB/s]\n",
      " 91%|#########1| 147M/161M [06:16<00:57, 244kB/s]\n",
      " 92%|#########1| 148M/161M [06:17<00:44, 301kB/s]\n",
      " 92%|#########2| 148M/161M [06:26<01:41, 127kB/s]\n",
      " 92%|#########2| 149M/161M [06:28<01:16, 162kB/s]\n",
      " 93%|#########2| 149M/161M [06:29<01:01, 193kB/s]\n",
      " 93%|#########2| 150M/161M [06:33<01:06, 171kB/s]\n",
      " 93%|#########3| 150M/161M [06:34<00:50, 215kB/s]\n",
      " 94%|#########3| 151M/161M [06:35<00:40, 256kB/s]\n",
      " 94%|#########3| 152M/161M [06:36<00:30, 315kB/s]\n",
      " 94%|#########4| 152M/161M [06:37<00:27, 338kB/s]\n",
      " 95%|#########4| 153M/161M [06:38<00:21, 398kB/s]\n",
      " 95%|#########4| 153M/161M [06:39<00:17, 474kB/s]\n",
      " 95%|#########5| 154M/161M [06:39<00:13, 582kB/s]\n",
      " 96%|#########5| 154M/161M [06:40<00:10, 651kB/s]\n",
      " 96%|#########5| 155M/161M [06:40<00:09, 728kB/s]\n",
      " 96%|#########6| 155M/161M [06:42<00:11, 530kB/s]\n",
      " 97%|#########6| 156M/161M [06:43<00:11, 494kB/s]\n",
      " 97%|#########6| 156M/161M [06:44<00:10, 469kB/s]\n",
      " 97%|#########7| 157M/161M [06:45<00:10, 441kB/s]\n",
      " 98%|#########7| 157M/161M [06:48<00:11, 354kB/s]\n",
      " 98%|#########7| 158M/161M [06:49<00:10, 344kB/s]\n",
      " 98%|#########8| 158M/161M [06:51<00:09, 319kB/s]\n",
      " 99%|#########8| 159M/161M [06:52<00:06, 381kB/s]\n",
      " 99%|#########8| 159M/161M [06:55<00:06, 293kB/s]\n",
      " 99%|#########9| 160M/161M [06:57<00:05, 270kB/s]\n",
      " 99%|#########9| 160M/161M [06:58<00:02, 323kB/s]\n",
      "100%|#########9| 161M/161M [07:01<00:01, 255kB/s]\n",
      "100%|##########| 161M/161M [07:02<00:00, 278kB/s]\n",
      "100%|##########| 161M/161M [07:02<00:00, 382kB/s]\n",
      "Destination path 'data/o5o5leiatmp' already exists\n"
     ]
    },
    {
     "name": "stderr",
     "output_type": "stream",
     "text": [
      "Downloading...\n",
      "From (uriginal): https://drive.google.com/uc?export=download&id=1z0O0fXuofdsbpL8fkCVgjeIwFP_LxGX2\n",
      "From (redirected): https://drive.google.com/uc?export=download&id=1z0O0fXuofdsbpL8fkCVgjeIwFP_LxGX2&confirm=t&uuid=4d90c3f7-9f2d-4139-a662-20189414552f\n",
      "To: C:\\Users\\rafae\\Documents\\Bootcamp_mini-projects\\Bootcamp_mp2\\Recommendation-Systems-Mini-project\\data\n",
      "\n",
      "  0%|          | 0.00/161M [00:00<?, ?B/s]\n",
      "  0%|          | 524k/161M [00:00<01:56, 1.38MB/s]\n",
      "  1%|          | 1.05M/161M [00:01<04:22, 611kB/s]\n",
      "  1%|          | 1.57M/161M [00:03<06:14, 427kB/s]\n",
      "  1%|1         | 2.10M/161M [00:04<06:50, 388kB/s]\n",
      "  2%|1         | 2.62M/161M [00:07<10:09, 260kB/s]\n",
      "  2%|1         | 3.15M/161M [00:09<09:15, 285kB/s]\n",
      "  2%|2         | 3.67M/161M [00:10<07:35, 346kB/s]\n",
      "  3%|2         | 4.19M/161M [00:12<07:51, 333kB/s]\n",
      "  3%|2         | 4.72M/161M [00:13<07:20, 356kB/s]\n",
      "  3%|3         | 5.24M/161M [00:14<07:12, 361kB/s]\n",
      "  4%|3         | 5.77M/161M [00:15<05:56, 437kB/s]\n",
      "  4%|3         | 6.29M/161M [00:16<05:17, 488kB/s]\n",
      "  4%|4         | 6.82M/161M [00:17<05:10, 498kB/s]\n",
      "  5%|4         | 7.34M/161M [00:18<05:10, 495kB/s]\n",
      "  5%|4         | 7.86M/161M [00:21<09:12, 277kB/s]\n",
      "  5%|5         | 8.39M/161M [00:26<13:19, 191kB/s]\n",
      "  6%|5         | 8.91M/161M [00:27<10:56, 232kB/s]\n",
      "  6%|5         | 9.44M/161M [00:29<10:06, 250kB/s]\n",
      "  6%|6         | 9.96M/161M [00:30<07:44, 326kB/s]\n",
      "  7%|6         | 10.5M/161M [00:31<06:53, 365kB/s]\n",
      "  7%|6         | 11.0M/161M [00:34<09:22, 267kB/s]\n",
      "  7%|7         | 11.5M/161M [00:35<08:36, 290kB/s]\n",
      "  7%|7         | 12.1M/161M [00:36<07:26, 334kB/s]\n",
      "  8%|7         | 12.6M/161M [00:37<06:05, 407kB/s]\n",
      "  8%|8         | 13.1M/161M [00:37<05:01, 491kB/s]\n",
      "  8%|8         | 13.6M/161M [00:38<04:42, 522kB/s]\n",
      "  9%|8         | 14.2M/161M [00:39<04:35, 534kB/s]\n",
      "  9%|9         | 14.7M/161M [00:42<06:30, 376kB/s]\n",
      "  9%|9         | 15.2M/161M [00:43<06:11, 393kB/s]\n",
      " 10%|9         | 15.7M/161M [00:44<06:24, 378kB/s]\n",
      " 10%|#         | 16.3M/161M [00:46<06:59, 346kB/s]\n",
      " 10%|#         | 16.8M/161M [00:48<07:24, 325kB/s]\n",
      " 11%|#         | 17.3M/161M [00:50<07:34, 317kB/s]\n",
      " 11%|#1        | 17.8M/161M [01:00<19:04, 125kB/s]\n",
      " 11%|#1        | 18.4M/161M [01:01<14:58, 159kB/s]\n",
      " 12%|#1        | 18.9M/161M [01:02<12:29, 190kB/s]\n",
      " 12%|#2        | 19.4M/161M [01:05<11:33, 205kB/s]\n",
      " 12%|#2        | 19.9M/161M [01:05<08:41, 271kB/s]\n",
      " 13%|#2        | 20.4M/161M [01:06<06:51, 343kB/s]\n",
      " 13%|#3        | 21.0M/161M [01:06<05:48, 403kB/s]\n",
      " 13%|#3        | 21.5M/161M [01:07<05:13, 446kB/s]\n",
      " 14%|#3        | 22.0M/161M [01:08<04:46, 486kB/s]\n",
      " 14%|#3        | 22.5M/161M [01:11<06:39, 347kB/s]\n",
      " 14%|#4        | 23.1M/161M [01:11<05:13, 441kB/s]\n",
      " 15%|#4        | 23.6M/161M [01:12<05:09, 444kB/s]\n",
      " 15%|#4        | 24.1M/161M [01:13<04:30, 507kB/s]\n",
      " 15%|#5        | 24.6M/161M [01:14<04:22, 521kB/s]\n",
      " 16%|#5        | 25.2M/161M [01:14<03:49, 593kB/s]\n",
      " 16%|#5        | 25.7M/161M [01:15<03:37, 622kB/s]\n",
      " 16%|#6        | 26.2M/161M [01:17<04:09, 540kB/s]\n",
      " 17%|#6        | 26.7M/161M [01:18<04:51, 461kB/s]\n",
      " 17%|#6        | 27.3M/161M [01:21<07:01, 318kB/s]\n",
      " 17%|#7        | 27.8M/161M [01:23<07:26, 299kB/s]\n",
      " 18%|#7        | 28.3M/161M [01:24<07:07, 311kB/s]\n",
      " 18%|#7        | 28.8M/161M [01:25<05:51, 377kB/s]\n",
      " 18%|#8        | 29.4M/161M [01:26<04:53, 449kB/s]\n",
      " 19%|#8        | 29.9M/161M [01:27<04:24, 497kB/s]\n",
      " 19%|#8        | 30.4M/161M [01:28<05:13, 417kB/s]\n",
      " 19%|#9        | 30.9M/161M [01:29<05:03, 430kB/s]\n",
      " 20%|#9        | 31.5M/161M [01:31<05:29, 393kB/s]\n",
      " 20%|#9        | 32.0M/161M [01:32<05:34, 387kB/s]\n",
      " 20%|##        | 32.5M/161M [01:34<05:15, 408kB/s]\n",
      " 20%|##        | 33.0M/161M [01:34<04:42, 455kB/s]\n",
      " 21%|##        | 33.6M/161M [01:36<05:01, 423kB/s]\n",
      " 21%|##1       | 34.1M/161M [01:37<04:37, 458kB/s]\n",
      " 21%|##1       | 34.6M/161M [01:38<04:16, 494kB/s]\n",
      " 22%|##1       | 35.1M/161M [01:39<04:24, 477kB/s]\n",
      " 22%|##2       | 35.7M/161M [01:41<06:06, 343kB/s]\n",
      " 22%|##2       | 36.2M/161M [01:42<05:14, 398kB/s]\n",
      " 23%|##2       | 36.7M/161M [01:43<04:52, 425kB/s]\n",
      " 23%|##3       | 37.2M/161M [01:45<05:03, 408kB/s]\n",
      " 23%|##3       | 37.7M/161M [01:48<07:30, 274kB/s]\n",
      " 24%|##3       | 38.3M/161M [01:50<07:09, 286kB/s]\n",
      " 24%|##4       | 38.8M/161M [01:51<06:42, 305kB/s]\n",
      " 24%|##4       | 39.3M/161M [01:52<05:49, 348kB/s]\n",
      " 25%|##4       | 39.8M/161M [01:53<05:08, 394kB/s]\n",
      " 25%|##5       | 40.4M/161M [01:56<06:39, 303kB/s]\n",
      " 25%|##5       | 40.9M/161M [01:57<05:41, 352kB/s]\n",
      " 26%|##5       | 41.4M/161M [01:57<04:40, 427kB/s]\n",
      " 26%|##6       | 41.9M/161M [01:58<03:55, 507kB/s]\n",
      " 26%|##6       | 42.5M/161M [01:59<04:36, 430kB/s]\n",
      " 27%|##6       | 43.0M/161M [02:01<05:19, 371kB/s]\n",
      " 27%|##6       | 43.5M/161M [02:02<05:00, 392kB/s]\n",
      " 27%|##7       | 44.0M/161M [02:04<05:34, 351kB/s]\n",
      " 28%|##7       | 44.6M/161M [02:05<04:41, 414kB/s]\n",
      " 28%|##7       | 45.1M/161M [02:06<04:17, 451kB/s]\n",
      " 28%|##8       | 45.6M/161M [02:07<04:16, 450kB/s]\n",
      " 29%|##8       | 46.1M/161M [02:09<05:16, 364kB/s]\n",
      " 29%|##8       | 46.7M/161M [02:10<04:42, 405kB/s]\n",
      " 29%|##9       | 47.2M/161M [02:12<04:47, 396kB/s]\n",
      " 30%|##9       | 47.7M/161M [02:13<04:29, 421kB/s]\n",
      " 30%|##9       | 48.2M/161M [02:14<04:09, 452kB/s]\n",
      " 30%|###       | 48.8M/161M [02:15<03:54, 480kB/s]\n",
      " 31%|###       | 49.3M/161M [02:16<04:02, 462kB/s]\n",
      " 31%|###       | 49.8M/161M [02:17<04:01, 461kB/s]\n",
      " 31%|###1      | 50.3M/161M [02:18<04:20, 426kB/s]\n",
      " 32%|###1      | 50.9M/161M [02:20<04:39, 394kB/s]\n",
      " 32%|###1      | 51.4M/161M [02:21<04:31, 405kB/s]\n",
      " 32%|###2      | 51.9M/161M [02:25<06:50, 267kB/s]\n",
      " 33%|###2      | 52.4M/161M [02:27<07:14, 251kB/s]\n",
      " 33%|###2      | 53.0M/161M [02:30<08:24, 215kB/s]\n",
      " 33%|###3      | 53.5M/161M [02:32<07:40, 234kB/s]\n",
      " 33%|###3      | 54.0M/161M [02:33<06:13, 287kB/s]\n",
      " 34%|###3      | 54.5M/161M [02:34<05:51, 303kB/s]\n",
      " 34%|###4      | 55.1M/161M [02:35<04:59, 354kB/s]\n",
      " 34%|###4      | 55.6M/161M [02:37<04:47, 367kB/s]\n",
      " 35%|###4      | 56.1M/161M [02:37<03:50, 456kB/s]\n",
      " 35%|###5      | 56.6M/161M [02:38<03:17, 530kB/s]\n",
      " 35%|###5      | 57.1M/161M [02:39<03:18, 524kB/s]\n",
      " 36%|###5      | 57.7M/161M [02:40<03:20, 517kB/s]\n",
      " 36%|###6      | 58.2M/161M [02:41<03:45, 457kB/s]\n",
      " 36%|###6      | 58.7M/161M [02:42<03:07, 547kB/s]\n",
      " 37%|###6      | 59.2M/161M [02:42<02:50, 598kB/s]\n",
      " 37%|###7      | 59.8M/161M [02:43<02:35, 654kB/s]\n",
      " 37%|###7      | 60.3M/161M [02:44<02:31, 668kB/s]\n",
      " 38%|###7      | 60.8M/161M [02:49<06:22, 263kB/s]\n",
      " 38%|###8      | 61.3M/161M [02:49<05:02, 330kB/s]\n",
      " 38%|###8      | 61.9M/161M [02:50<04:28, 370kB/s]\n",
      " 39%|###8      | 62.4M/161M [02:51<03:41, 446kB/s]\n",
      " 39%|###9      | 62.9M/161M [02:52<03:15, 503kB/s]\n",
      " 39%|###9      | 63.4M/161M [02:53<03:25, 477kB/s]\n",
      " 40%|###9      | 64.0M/161M [02:55<04:24, 368kB/s]\n",
      " 40%|###9      | 64.5M/161M [02:56<03:51, 418kB/s]\n",
      " 40%|####      | 65.0M/161M [02:57<03:28, 461kB/s]\n",
      " 41%|####      | 65.5M/161M [02:58<03:33, 449kB/s]\n",
      " 41%|####      | 66.1M/161M [03:01<04:58, 319kB/s]\n",
      " 41%|####1     | 66.6M/161M [03:02<04:29, 352kB/s]\n",
      " 42%|####1     | 67.1M/161M [03:03<04:09, 377kB/s]\n",
      " 42%|####1     | 67.6M/161M [03:04<03:43, 419kB/s]\n",
      " 42%|####2     | 68.2M/161M [03:05<03:45, 412kB/s]\n",
      " 43%|####2     | 68.7M/161M [03:06<03:28, 443kB/s]\n",
      " 43%|####2     | 69.2M/161M [03:07<02:59, 512kB/s]\n",
      " 43%|####3     | 69.7M/161M [03:09<03:45, 405kB/s]\n",
      " 44%|####3     | 70.3M/161M [03:11<04:06, 369kB/s]\n",
      " 44%|####3     | 70.8M/161M [03:12<03:50, 392kB/s]\n",
      " 44%|####4     | 71.3M/161M [03:14<04:24, 340kB/s]\n",
      " 45%|####4     | 71.8M/161M [03:16<04:35, 324kB/s]\n",
      " 45%|####4     | 72.4M/161M [03:17<04:45, 312kB/s]\n",
      " 45%|####5     | 72.9M/161M [03:19<04:17, 343kB/s]\n",
      " 46%|####5     | 73.4M/161M [03:19<03:39, 400kB/s]\n",
      " 46%|####5     | 73.9M/161M [03:21<03:34, 407kB/s]\n",
      " 46%|####6     | 74.4M/161M [03:22<03:52, 374kB/s]\n",
      " 46%|####6     | 75.0M/161M [03:24<04:27, 322kB/s]\n",
      " 47%|####6     | 75.5M/161M [03:26<04:15, 336kB/s]\n",
      " 47%|####7     | 76.0M/161M [03:27<03:30, 404kB/s]\n",
      " 47%|####7     | 76.5M/161M [03:27<02:56, 479kB/s]\n",
      " 48%|####7     | 77.1M/161M [03:32<05:36, 250kB/s]\n",
      " 48%|####8     | 77.6M/161M [03:33<05:01, 278kB/s]\n",
      " 48%|####8     | 78.1M/161M [03:34<04:26, 312kB/s]\n",
      " 49%|####8     | 78.6M/161M [03:36<04:39, 295kB/s]\n",
      " 49%|####9     | 79.2M/161M [03:37<04:10, 328kB/s]\n",
      " 49%|####9     | 79.7M/161M [03:40<05:11, 262kB/s]\n",
      " 50%|####9     | 80.2M/161M [03:42<05:10, 261kB/s]\n",
      " 50%|#####     | 80.7M/161M [03:47<07:26, 180kB/s]\n",
      " 50%|#####     | 81.3M/161M [03:48<05:40, 235kB/s]\n",
      " 51%|#####     | 81.8M/161M [03:49<04:38, 285kB/s]\n",
      " 51%|#####1    | 82.3M/161M [03:51<04:29, 293kB/s]\n",
      " 51%|#####1    | 82.8M/161M [03:53<04:36, 284kB/s]\n",
      " 52%|#####1    | 83.4M/161M [03:54<04:08, 313kB/s]\n",
      " 52%|#####2    | 83.9M/161M [03:55<03:38, 355kB/s]\n",
      " 52%|#####2    | 84.4M/161M [03:55<02:47, 460kB/s]\n",
      " 53%|#####2    | 84.9M/161M [03:56<02:14, 569kB/s]\n",
      " 53%|#####2    | 85.5M/161M [03:57<02:24, 526kB/s]\n",
      " 53%|#####3    | 86.0M/161M [03:58<02:34, 486kB/s]\n",
      " 54%|#####3    | 86.5M/161M [03:59<02:39, 470kB/s]\n",
      " 54%|#####3    | 87.0M/161M [04:00<02:33, 485kB/s]\n",
      " 54%|#####4    | 87.6M/161M [04:03<03:22, 363kB/s]\n",
      " 55%|#####4    | 88.1M/161M [04:05<03:48, 320kB/s]\n",
      " 55%|#####4    | 88.6M/161M [04:06<03:42, 327kB/s]\n",
      " 55%|#####5    | 89.1M/161M [04:08<03:58, 302kB/s]\n",
      " 56%|#####5    | 89.7M/161M [04:09<03:26, 346kB/s]\n",
      " 56%|#####5    | 90.2M/161M [04:10<02:52, 413kB/s]\n",
      " 56%|#####6    | 90.7M/161M [04:11<02:27, 477kB/s]\n",
      " 57%|#####6    | 91.2M/161M [04:12<02:44, 427kB/s]\n",
      " 57%|#####6    | 91.8M/161M [04:13<02:32, 455kB/s]\n",
      " 57%|#####7    | 92.3M/161M [04:15<03:13, 357kB/s]\n",
      " 58%|#####7    | 92.8M/161M [04:16<02:31, 451kB/s]\n",
      " 58%|#####7    | 93.3M/161M [04:16<02:03, 550kB/s]\n",
      " 58%|#####8    | 93.8M/161M [04:17<01:44, 647kB/s]\n",
      " 59%|#####8    | 94.4M/161M [04:17<01:29, 747kB/s]\n",
      " 59%|#####8    | 94.9M/161M [04:17<01:13, 905kB/s]\n",
      " 59%|#####9    | 95.4M/161M [04:18<01:04, 1.01MB/s]\n",
      " 59%|#####9    | 95.9M/161M [04:19<01:35, 681kB/s] \n",
      " 60%|#####9    | 96.5M/161M [04:20<01:49, 592kB/s]\n",
      " 60%|######    | 97.0M/161M [04:21<01:44, 615kB/s]\n",
      " 60%|######    | 97.5M/161M [04:26<04:02, 263kB/s]\n",
      " 61%|######    | 98.0M/161M [04:27<03:35, 294kB/s]\n",
      " 61%|######1   | 98.6M/161M [04:28<02:50, 368kB/s]\n",
      " 61%|######1   | 99.1M/161M [04:29<02:42, 382kB/s]\n",
      " 62%|######1   | 99.6M/161M [04:33<04:01, 255kB/s]\n",
      " 62%|######2   | 100M/161M [04:33<03:20, 305kB/s] \n",
      " 62%|######2   | 101M/161M [04:35<03:20, 302kB/s]\n",
      " 63%|######2   | 101M/161M [04:36<03:01, 331kB/s]\n",
      " 63%|######3   | 102M/161M [04:39<03:31, 281kB/s]\n",
      " 63%|######3   | 102M/161M [04:42<04:15, 231kB/s]\n",
      " 64%|######3   | 103M/161M [04:43<03:27, 282kB/s]\n",
      " 64%|######4   | 103M/161M [04:44<03:00, 321kB/s]\n",
      " 64%|######4   | 104M/161M [04:47<03:21, 285kB/s]\n",
      " 65%|######4   | 104M/161M [04:47<02:33, 370kB/s]\n",
      " 65%|######5   | 105M/161M [04:48<02:32, 371kB/s]\n",
      " 65%|######5   | 105M/161M [04:50<02:35, 360kB/s]\n",
      " 66%|######5   | 106M/161M [04:52<03:03, 302kB/s]\n",
      " 66%|######5   | 106M/161M [04:54<02:49, 323kB/s]\n",
      " 66%|######6   | 107M/161M [04:56<02:59, 302kB/s]\n",
      " 67%|######6   | 107M/161M [04:56<02:23, 375kB/s]\n",
      " 67%|######6   | 108M/161M [04:57<01:56, 459kB/s]\n",
      " 67%|######7   | 109M/161M [04:58<01:47, 492kB/s]\n",
      " 68%|######7   | 109M/161M [04:59<01:48, 483kB/s]\n",
      " 68%|######7   | 110M/161M [05:00<01:57, 441kB/s]\n",
      " 68%|######8   | 110M/161M [05:02<01:57, 436kB/s]\n",
      " 69%|######8   | 111M/161M [05:02<01:37, 521kB/s]\n",
      " 69%|######8   | 111M/161M [05:02<01:19, 634kB/s]\n",
      " 69%|######9   | 112M/161M [05:03<01:17, 639kB/s]\n",
      " 70%|######9   | 112M/161M [05:09<03:31, 232kB/s]\n",
      " 70%|######9   | 113M/161M [05:11<03:11, 254kB/s]\n",
      " 70%|#######   | 113M/161M [05:12<03:05, 259kB/s]\n",
      " 71%|#######   | 114M/161M [05:14<02:47, 284kB/s]\n",
      " 71%|#######   | 114M/161M [05:15<02:23, 327kB/s]\n",
      " 71%|#######1  | 115M/161M [05:16<02:13, 349kB/s]\n",
      " 72%|#######1  | 115M/161M [05:17<01:59, 383kB/s]\n",
      " 72%|#######1  | 116M/161M [05:26<05:01, 151kB/s]\n",
      " 72%|#######2  | 116M/161M [05:26<03:41, 203kB/s]\n",
      " 73%|#######2  | 117M/161M [05:27<02:42, 273kB/s]\n",
      " 73%|#######2  | 117M/161M [05:27<02:06, 347kB/s]\n",
      " 73%|#######3  | 118M/161M [05:27<01:37, 446kB/s]\n",
      " 73%|#######3  | 118M/161M [05:28<01:12, 587kB/s]\n",
      " 74%|#######3  | 119M/161M [05:28<00:57, 738kB/s]\n",
      " 74%|#######4  | 120M/161M [05:30<01:32, 452kB/s]\n",
      " 74%|#######4  | 120M/161M [05:31<01:24, 489kB/s]\n",
      " 75%|#######4  | 121M/161M [05:32<01:10, 580kB/s]\n",
      " 75%|#######5  | 121M/161M [05:32<01:02, 643kB/s]\n",
      " 75%|#######5  | 122M/161M [05:33<01:04, 611kB/s]\n",
      " 76%|#######5  | 122M/161M [05:34<01:11, 547kB/s]\n",
      " 76%|#######6  | 123M/161M [05:35<01:02, 618kB/s]\n",
      " 76%|#######6  | 123M/161M [05:35<00:55, 691kB/s]\n",
      " 77%|#######6  | 124M/161M [05:37<01:01, 611kB/s]\n",
      " 77%|#######7  | 124M/161M [05:37<00:52, 699kB/s]\n",
      " 77%|#######7  | 125M/161M [05:37<00:45, 808kB/s]\n",
      " 78%|#######7  | 125M/161M [05:38<00:52, 686kB/s]\n",
      " 78%|#######8  | 126M/161M [05:40<01:13, 482kB/s]\n",
      " 78%|#######8  | 126M/161M [05:42<01:18, 443kB/s]\n",
      " 79%|#######8  | 127M/161M [05:43<01:15, 455kB/s]\n",
      " 79%|#######9  | 127M/161M [05:46<02:01, 279kB/s]\n",
      " 79%|#######9  | 128M/161M [05:48<01:52, 296kB/s]\n",
      " 80%|#######9  | 128M/161M [05:50<01:51, 294kB/s]\n",
      " 80%|#######9  | 129M/161M [05:52<02:04, 260kB/s]\n",
      " 80%|########  | 129M/161M [05:54<02:01, 261kB/s]\n",
      " 81%|########  | 130M/161M [05:56<01:47, 289kB/s]\n",
      " 81%|########  | 131M/161M [05:58<02:02, 251kB/s]\n",
      " 81%|########1 | 131M/161M [05:59<01:42, 296kB/s]\n",
      " 82%|########1 | 132M/161M [06:01<01:33, 319kB/s]\n",
      " 82%|########1 | 132M/161M [06:03<01:35, 307kB/s]\n",
      " 82%|########2 | 133M/161M [06:04<01:34, 302kB/s]\n",
      " 83%|########2 | 133M/161M [06:05<01:15, 370kB/s]\n",
      " 83%|########2 | 134M/161M [06:06<01:10, 390kB/s]\n",
      " 83%|########3 | 134M/161M [06:06<00:50, 531kB/s]\n",
      " 84%|########3 | 135M/161M [06:07<00:37, 716kB/s]\n",
      " 84%|########3 | 135M/161M [06:07<00:28, 924kB/s]\n",
      " 84%|########4 | 136M/161M [06:07<00:23, 1.11MB/s]\n",
      " 85%|########4 | 136M/161M [06:07<00:19, 1.27MB/s]\n",
      " 85%|########4 | 137M/161M [06:08<00:18, 1.35MB/s]\n",
      " 85%|########5 | 137M/161M [06:08<00:18, 1.32MB/s]\n",
      " 86%|########5 | 138M/161M [06:10<00:34, 669kB/s] \n",
      " 86%|########5 | 138M/161M [06:11<00:37, 617kB/s]\n",
      " 86%|########6 | 139M/161M [06:11<00:30, 721kB/s]\n",
      " 86%|########6 | 139M/161M [06:12<00:27, 792kB/s]\n",
      " 87%|########6 | 140M/161M [06:12<00:26, 796kB/s]\n",
      " 87%|########7 | 141M/161M [06:13<00:21, 967kB/s]\n",
      " 87%|########7 | 141M/161M [06:13<00:18, 1.08MB/s]\n",
      " 88%|########7 | 142M/161M [06:13<00:16, 1.17MB/s]\n",
      " 88%|########8 | 142M/161M [06:15<00:25, 765kB/s] \n",
      " 88%|########8 | 143M/161M [06:15<00:21, 856kB/s]\n",
      " 89%|########8 | 143M/161M [06:15<00:19, 927kB/s]\n",
      " 89%|########9 | 144M/161M [06:16<00:19, 922kB/s]\n",
      " 89%|########9 | 144M/161M [06:17<00:24, 690kB/s]\n",
      " 90%|########9 | 145M/161M [06:18<00:23, 693kB/s]\n",
      " 90%|######### | 145M/161M [06:20<00:33, 476kB/s]\n",
      " 90%|######### | 146M/161M [06:20<00:25, 600kB/s]\n",
      " 91%|######### | 146M/161M [06:21<00:21, 702kB/s]\n",
      " 91%|#########1| 147M/161M [06:26<00:55, 263kB/s]\n",
      " 91%|#########1| 147M/161M [06:26<00:43, 321kB/s]\n",
      " 92%|#########1| 148M/161M [06:28<00:43, 306kB/s]\n",
      " 92%|#########2| 148M/161M [06:30<00:40, 314kB/s]\n",
      " 92%|#########2| 149M/161M [06:30<00:30, 406kB/s]\n",
      " 93%|#########2| 149M/161M [06:31<00:24, 477kB/s]\n",
      " 93%|#########2| 150M/161M [06:32<00:25, 437kB/s]\n",
      " 93%|#########3| 150M/161M [06:36<00:38, 284kB/s]\n",
      " 94%|#########3| 151M/161M [06:37<00:31, 331kB/s]\n",
      " 94%|#########3| 152M/161M [06:38<00:26, 365kB/s]\n",
      " 94%|#########4| 152M/161M [06:39<00:24, 383kB/s]\n",
      " 95%|#########4| 153M/161M [06:40<00:21, 406kB/s]\n",
      " 95%|#########4| 153M/161M [06:41<00:17, 474kB/s]\n",
      " 95%|#########5| 154M/161M [06:43<00:22, 338kB/s]\n",
      " 96%|#########5| 154M/161M [06:44<00:16, 432kB/s]\n",
      " 96%|#########5| 155M/161M [06:45<00:16, 399kB/s]\n",
      " 96%|#########6| 155M/161M [06:46<00:13, 458kB/s]\n",
      " 97%|#########6| 156M/161M [06:47<00:10, 509kB/s]\n",
      " 97%|#########6| 156M/161M [06:47<00:07, 636kB/s]\n",
      " 97%|#########7| 157M/161M [06:48<00:07, 605kB/s]\n",
      " 98%|#########7| 157M/161M [06:50<00:08, 470kB/s]\n",
      " 98%|#########7| 158M/161M [06:50<00:05, 578kB/s]\n",
      " 98%|#########8| 158M/161M [06:50<00:03, 744kB/s]\n",
      " 99%|#########8| 159M/161M [06:51<00:02, 901kB/s]\n",
      " 99%|#########8| 159M/161M [06:51<00:02, 937kB/s]\n",
      " 99%|#########9| 160M/161M [06:52<00:01, 1.02MB/s]\n",
      " 99%|#########9| 160M/161M [06:53<00:01, 744kB/s] \n",
      "100%|#########9| 161M/161M [06:53<00:00, 880kB/s]\n",
      "100%|##########| 161M/161M [06:53<00:00, 938kB/s]\n",
      "100%|##########| 161M/161M [06:53<00:00, 390kB/s]\n",
      "Destination path 'data/7x5qzdnwtmp' already exists\n"
     ]
    }
   ],
   "source": [
    "# !gdown \"https://drive.google.com/uc?export=download&id=1z0O0fXuofdsbpL8fkCVgjeIwFP_LxGX2\" -O data/"
   ]
  },
  {
   "cell_type": "code",
   "execution_count": 33,
   "metadata": {
    "colab": {
     "base_uri": "https://localhost:8080/",
     "height": 360
    },
    "colab_type": "code",
    "id": "4s_qbrIhqW31",
    "outputId": "b9505c13-e21e-4cf2-837d-5410394b7655"
   },
   "outputs": [
    {
     "name": "stdout",
     "output_type": "stream",
     "text": [
      "Shape User-Ratings:\t(24053764, 4)\n"
     ]
    },
    {
     "data": {
      "text/html": [
       "<div>\n",
       "<style scoped>\n",
       "    .dataframe tbody tr th:only-of-type {\n",
       "        vertical-align: middle;\n",
       "    }\n",
       "\n",
       "    .dataframe tbody tr th {\n",
       "        vertical-align: top;\n",
       "    }\n",
       "\n",
       "    .dataframe thead th {\n",
       "        text-align: right;\n",
       "    }\n",
       "</style>\n",
       "<table border=\"1\" class=\"dataframe\">\n",
       "  <thead>\n",
       "    <tr style=\"text-align: right;\">\n",
       "      <th></th>\n",
       "      <th>User</th>\n",
       "      <th>Rating</th>\n",
       "      <th>Date</th>\n",
       "      <th>Movie</th>\n",
       "    </tr>\n",
       "  </thead>\n",
       "  <tbody>\n",
       "    <tr>\n",
       "      <th>9742837</th>\n",
       "      <td>1385833</td>\n",
       "      <td>5.0</td>\n",
       "      <td>2005-07-11</td>\n",
       "      <td>1905</td>\n",
       "    </tr>\n",
       "    <tr>\n",
       "      <th>15709347</th>\n",
       "      <td>1966687</td>\n",
       "      <td>4.0</td>\n",
       "      <td>2005-06-18</td>\n",
       "      <td>3066</td>\n",
       "    </tr>\n",
       "    <tr>\n",
       "      <th>19677796</th>\n",
       "      <td>2118950</td>\n",
       "      <td>5.0</td>\n",
       "      <td>2005-10-09</td>\n",
       "      <td>3756</td>\n",
       "    </tr>\n",
       "    <tr>\n",
       "      <th>19662495</th>\n",
       "      <td>325508</td>\n",
       "      <td>5.0</td>\n",
       "      <td>2004-05-23</td>\n",
       "      <td>3756</td>\n",
       "    </tr>\n",
       "    <tr>\n",
       "      <th>20439889</th>\n",
       "      <td>1961682</td>\n",
       "      <td>5.0</td>\n",
       "      <td>2005-03-22</td>\n",
       "      <td>3879</td>\n",
       "    </tr>\n",
       "    <tr>\n",
       "      <th>9079967</th>\n",
       "      <td>1984028</td>\n",
       "      <td>4.0</td>\n",
       "      <td>2005-06-02</td>\n",
       "      <td>1799</td>\n",
       "    </tr>\n",
       "    <tr>\n",
       "      <th>15071604</th>\n",
       "      <td>1213386</td>\n",
       "      <td>4.0</td>\n",
       "      <td>2005-03-23</td>\n",
       "      <td>2899</td>\n",
       "    </tr>\n",
       "    <tr>\n",
       "      <th>9450864</th>\n",
       "      <td>779064</td>\n",
       "      <td>2.0</td>\n",
       "      <td>2005-07-01</td>\n",
       "      <td>1865</td>\n",
       "    </tr>\n",
       "    <tr>\n",
       "      <th>18745564</th>\n",
       "      <td>637272</td>\n",
       "      <td>3.0</td>\n",
       "      <td>2005-03-02</td>\n",
       "      <td>3605</td>\n",
       "    </tr>\n",
       "    <tr>\n",
       "      <th>20240107</th>\n",
       "      <td>903764</td>\n",
       "      <td>5.0</td>\n",
       "      <td>2003-12-22</td>\n",
       "      <td>3860</td>\n",
       "    </tr>\n",
       "  </tbody>\n",
       "</table>\n",
       "</div>"
      ],
      "text/plain": [
       "             User  Rating        Date  Movie\n",
       "9742837   1385833     5.0  2005-07-11   1905\n",
       "15709347  1966687     4.0  2005-06-18   3066\n",
       "19677796  2118950     5.0  2005-10-09   3756\n",
       "19662495   325508     5.0  2004-05-23   3756\n",
       "20439889  1961682     5.0  2005-03-22   3879\n",
       "9079967   1984028     4.0  2005-06-02   1799\n",
       "15071604  1213386     4.0  2005-03-23   2899\n",
       "9450864    779064     2.0  2005-07-01   1865\n",
       "18745564   637272     3.0  2005-03-02   3605\n",
       "20240107   903764     5.0  2003-12-22   3860"
      ]
     },
     "execution_count": 33,
     "metadata": {},
     "output_type": "execute_result"
    }
   ],
   "source": [
    "# Load single data-file\n",
    "df_raw = pd.read_csv('./data/combined_data.csv.zip', \n",
    "                     header=None, \n",
    "                     names=['User', 'Rating', 'Date'], \n",
    "                     usecols=[0, 1, 2])\n",
    "\n",
    "# Find empty rows to slice dataframe for each movie\n",
    "tmp_movies = df_raw[df_raw['Rating'].isna()]['User'].reset_index()\n",
    "movie_indices = [[index, int(movie[:-1])] for index, movie in tmp_movies.values]\n",
    "\n",
    "# Shift the movie_indices by one to get start and endpoints of all movies\n",
    "shifted_movie_indices = deque(movie_indices)\n",
    "shifted_movie_indices.rotate(-1)\n",
    "\n",
    "# Gather all dataframes\n",
    "user_data = []\n",
    "\n",
    "# Iterate over all movies\n",
    "for [df_id_1, movie_id], [df_id_2, next_movie_id] in zip(movie_indices, shifted_movie_indices):\n",
    "    \n",
    "    # Check if it is the last movie in the file\n",
    "    if df_id_1<df_id_2:\n",
    "        tmp_df = df_raw.loc[df_id_1+1:df_id_2-1].copy()\n",
    "    else:\n",
    "        tmp_df = df_raw.loc[df_id_1+1:].copy()\n",
    "        \n",
    "    # Create movie_id column\n",
    "    tmp_df['Movie'] = movie_id\n",
    "    \n",
    "    # Append dataframe to list\n",
    "    user_data.append(tmp_df)\n",
    "\n",
    "# Combine all dataframes\n",
    "df = pd.concat(user_data)\n",
    "del user_data, df_raw, tmp_movies, tmp_df, shifted_movie_indices, movie_indices, df_id_1, movie_id, df_id_2, next_movie_id\n",
    "print('Shape User-Ratings:\\t{}'.format(df.shape))\n",
    "df.sample(10)"
   ]
  },
  {
   "cell_type": "markdown",
   "metadata": {
    "colab_type": "text",
    "id": "sg90OAW_zUwL"
   },
   "source": [
    "There are about 24 Million+ different rating records!"
   ]
  },
  {
   "cell_type": "markdown",
   "metadata": {
    "colab_type": "text",
    "id": "xKIrEduYz6gh"
   },
   "source": [
    "We have taken the data required for building the system and now let's do some EDA on the dataset to better understand our data"
   ]
  },
  {
   "cell_type": "markdown",
   "metadata": {
    "colab_type": "text",
    "id": "4wQzTRdm0tYg"
   },
   "source": [
    "# 4. Exploratory Data Analysis"
   ]
  },
  {
   "cell_type": "markdown",
   "metadata": {
    "colab_type": "text",
    "id": "KVaYGLc94aGm"
   },
   "source": [
    "## 4.1: When were the movies released?\n"
   ]
  },
  {
   "cell_type": "code",
   "execution_count": 46,
   "metadata": {},
   "outputs": [
    {
     "data": {
      "image/png": "[encoded data removed]",
      "text/plain": [
       "<Figure size 1400x600 with 1 Axes>"
      ]
     },
     "metadata": {},
     "output_type": "display_data"
    }
   ],
   "source": [
    "fig, ax = plt.subplots(1, 1, figsize=(14, 6))\n",
    "\n",
    "data = movie_titles['Year'].value_counts().sort_index()\n",
    "x = data.index.map(int)\n",
    "y = data.values\n",
    "\n",
    "sns.barplot(x=x, y=y)  \n",
    "xmin, xmax = plt.xlim()\n",
    "xtick_labels = [x[0]] + list(x[10:-10:10]) + [x[-1]]\n",
    "plt.xticks(ticks=np.linspace(xmin, xmax, 10), labels=xtick_labels)\n",
    "plt.show()\n"
   ]
  },
  {
   "cell_type": "markdown",
   "metadata": {
    "colab_type": "text",
    "id": "lJ2mWAym5rBL"
   },
   "source": [
    "Many movies on Netflix have been released in this millennial. Whether Netflix prefers young movies or there are no old movies left can not be deduced from this plot.\n",
    "The decline for the rightmost point is probably caused by an incomplete last year."
   ]
  },
  {
   "cell_type": "markdown",
   "metadata": {
    "colab_type": "text",
    "id": "QACzcP3w4z6j"
   },
   "source": [
    "## Q 4.2: How are The Ratings Distributed?\n",
    "\n",
    "__Your Turn:__ Build the visualization for rating distributions similar to the previous plot.\n"
   ]
  },
  {
   "cell_type": "code",
   "execution_count": 49,
   "metadata": {},
   "outputs": [
    {
     "data": {
      "image/png": "[encoded data removed]",
      "text/plain": [
       "<Figure size 1400x600 with 1 Axes>"
      ]
     },
     "metadata": {},
     "output_type": "display_data"
    }
   ],
   "source": [
    "fig, ax = plt.subplots(1, 1, figsize=(14, 6))\n",
    "\n",
    "data = df['Rating'].value_counts().sort_index()\n",
    "\n",
    "# Convert index to integers if needed\n",
    "x = data.index.astype(int)\n",
    "y = data.values\n",
    "\n",
    "sns.barplot(x=x, y=y)  \n",
    "\n",
    "custom_ticks = range(0, 5) \n",
    "custom_labels = range(1, 6)  \n",
    "plt.xticks(ticks=custom_ticks, labels=custom_labels)\n",
    "plt.show()\n"
   ]
  },
  {
   "cell_type": "markdown",
   "metadata": {
    "colab_type": "text",
    "id": "Pn5uhmcu5xCE"
   },
   "source": [
    "Netflix movies rarely have a rating lower than three. Most ratings have between three and four stars.\n",
    "The distribution is probably biased, since only people liking the movies proceed to be customers and others presumably will leave the platform."
   ]
  },
  {
   "cell_type": "markdown",
   "metadata": {
    "colab_type": "text",
    "id": "PQwkKk935eRl"
   },
   "source": [
    "## 4.3: Visualize the Distribution of Number of Movie Ratings \n",
    "\n",
    "This is to understand how many movies (y-axis) are receiving specific number of movie ratings (x-axis)"
   ]
  },
  {
   "cell_type": "code",
   "execution_count": 50,
   "metadata": {
    "colab": {
     "base_uri": "https://localhost:8080/",
     "height": 388
    },
    "colab_type": "code",
    "id": "yatEt4eE24FS",
    "outputId": "ca1767f5-2bf8-407a-e232-26e44bac8d2d"
   },
   "outputs": [
    {
     "data": {
      "image/png": "[encoded data removed]",
      "text/plain": [
       "<Figure size 1400x600 with 2 Axes>"
      ]
     },
     "metadata": {},
     "output_type": "display_data"
    }
   ],
   "source": [
    "fig, ax = plt.subplots(1, 2, figsize=(14, 6))\n",
    "\n",
    "data = df.groupby('Movie')['Rating'].count()\n",
    "sns.distplot(data[data  < 10000], kde=False, ax=ax[0]);\n",
    "sns.distplot(data[data  > 10000], kde=False, ax=ax[1]);"
   ]
  },
  {
   "cell_type": "markdown",
   "metadata": {
    "colab_type": "text",
    "id": "lS5we5r4-nyV"
   },
   "source": [
    "## Q 4.4: Visualize the Distribution of Number of User Ratings \n",
    "\n",
    "This is to understand how many users (y-axis) are giving specific number of movie ratings (x-axis)\n",
    "\n",
    "__Your Turn:__ Try to find out an optimal threshold as in the previous example to split the data to form two understandable subplots!"
   ]
  },
  {
   "cell_type": "code",
   "execution_count": 58,
   "metadata": {
    "colab": {
     "base_uri": "https://localhost:8080/",
     "height": 388
    },
    "colab_type": "code",
    "id": "hf-Q6jP-24FV",
    "outputId": "8ff4752b-527c-476c-c417-3d5c63a89b99"
   },
   "outputs": [
    {
     "data": {
      "image/png": "[encoded data removed]",
      "text/plain": [
       "<Figure size 1400x600 with 2 Axes>"
      ]
     },
     "metadata": {},
     "output_type": "display_data"
    }
   ],
   "source": [
    "fig, ax = plt.subplots(1, 2, figsize=(14, 6))\n",
    "\n",
    "data = df.groupby('User')['Rating'].count()\n",
    "sns.distplot(data[data  < 500], kde=False, ax=ax[0]);\n",
    "sns.distplot(data[data  > 500], kde=False, ax=ax[1]);"
   ]
  },
  {
   "cell_type": "markdown",
   "metadata": {
    "colab_type": "text",
    "id": "EMOY1tG75i24"
   },
   "source": [
    "The ratings per movie as well as the ratings per user both have nearly a perfect exponential decay. Only very few movies/users have many ratings."
   ]
  },
  {
   "cell_type": "markdown",
   "metadata": {
    "colab_type": "text",
    "id": "p5S7Q14L_CL1"
   },
   "source": [
    "# 5. Dimensionality Reduction & Filtering"
   ]
  },
  {
   "cell_type": "markdown",
   "metadata": {
    "colab_type": "text",
    "id": "h5YZwbcH7LzU"
   },
   "source": [
    "## Filter Sparse Movies And Users\n",
    "\n",
    "To reduce the dimensionality of the dataset I am filtering rarely rated movies and rarely rating users out.\n"
   ]
  },
  {
   "cell_type": "code",
   "execution_count": 59,
   "metadata": {
    "colab": {
     "base_uri": "https://localhost:8080/",
     "height": 50
    },
    "colab_type": "code",
    "id": "4nwtEkvSFFK5",
    "outputId": "44e339a2-a068-40d9-848f-619d56288676"
   },
   "outputs": [
    {
     "name": "stdout",
     "output_type": "stream",
     "text": [
      "Shape User-Ratings unfiltered:\t(24053764, 4)\n",
      "Shape User-Ratings filtered:\t(5930581, 4)\n"
     ]
    }
   ],
   "source": [
    "# Filter sparse movies\n",
    "min_movie_ratings = 1000\n",
    "filter_movies = (df['Movie'].value_counts()>min_movie_ratings)\n",
    "filter_movies = filter_movies[filter_movies].index.tolist()\n",
    "\n",
    "# Filter sparse users\n",
    "min_user_ratings = 200\n",
    "filter_users = (df['User'].value_counts()>min_user_ratings)\n",
    "filter_users = filter_users[filter_users].index.tolist()\n",
    "\n",
    "# Actual filtering\n",
    "df_filtered = df[(df['Movie'].isin(filter_movies)) & (df['User'].isin(filter_users))]\n",
    "del filter_movies, filter_users, min_movie_ratings, min_user_ratings\n",
    "print('Shape User-Ratings unfiltered:\\t{}'.format(df.shape))\n",
    "print('Shape User-Ratings filtered:\\t{}'.format(df_filtered.shape))"
   ]
  },
  {
   "cell_type": "markdown",
   "metadata": {
    "colab_type": "text",
    "id": "9GQ4JmM67TYQ"
   },
   "source": [
    "After filtering sparse movies and users about 5.9M rating records are present."
   ]
  },
  {
   "cell_type": "markdown",
   "metadata": {
    "colab_type": "text",
    "id": "EI1CoJP9_kbF"
   },
   "source": [
    "# 6. Create Train and Test Datasets\n",
    "\n",
    "Do note this will be used for the statistical method based models and collaborative filtering.\n",
    "\n",
    "For content based filtering it is more of a model which recommends movies rather than predicting ratings and for the hybrid model we will need to recreate the train and test datasets later since we need to create a subset of movies-users-ratings which have movie text descriptions."
   ]
  },
  {
   "cell_type": "markdown",
   "metadata": {
    "colab_type": "text",
    "id": "G7LX0sob7a2Z"
   },
   "source": [
    "## Create Train and Test datasets"
   ]
  },
  {
   "cell_type": "code",
   "execution_count": 60,
   "metadata": {
    "colab": {
     "base_uri": "https://localhost:8080/",
     "height": 34
    },
    "colab_type": "code",
    "id": "cyCrLAoFFHm4",
    "outputId": "e39e4020-3e5f-4ed7-803a-a8761ddce792"
   },
   "outputs": [
    {
     "data": {
      "text/plain": [
       "((5830581, 3), (100000, 3))"
      ]
     },
     "execution_count": 60,
     "metadata": {},
     "output_type": "execute_result"
    }
   ],
   "source": [
    "# Shuffle DataFrame\n",
    "df_filtered = df_filtered.drop('Date', axis=1).sample(frac=1).reset_index(drop=True)\n",
    "\n",
    "# Testingsize\n",
    "n = 100000\n",
    "\n",
    "# Split train- & testset\n",
    "df_train = df_filtered[:-n]\n",
    "df_test = df_filtered[-n:]\n",
    "df_train.shape, df_test.shape"
   ]
  },
  {
   "cell_type": "markdown",
   "metadata": {
    "colab_type": "text",
    "id": "JjQjPE9-76iP"
   },
   "source": [
    "The train set will be used to train all models and the test set ensures we can compare model performance on unseen data using the RMSE metric."
   ]
  },
  {
   "cell_type": "markdown",
   "metadata": {
    "colab_type": "text",
    "id": "ufn47cGh_wNC"
   },
   "source": [
    "# 7. Transformation"
   ]
  },
  {
   "cell_type": "markdown",
   "metadata": {
    "colab_type": "text",
    "id": "mWkzhX-a792R"
   },
   "source": [
    "### Q 7.1: Transform The User-Movie-Ratings Data Frame to User-Movie Matrix"
   ]
  },
  {
   "cell_type": "markdown",
   "metadata": {
    "colab_type": "text",
    "id": "qDeuv70i8NMQ"
   },
   "source": [
    "A large, sparse matrix will be created in this step. Each row will represent a user and its ratings and the columns are the movies.\n",
    "\n",
    "The movies already rated by users are the non-empty values in the matrix.\n",
    "\n",
    "Empty values are unrated movies and the main objective is to estimate the empty values to help our users.\n",
    "\n",
    "\n",
    "__Your turn:__ Create the User-Movie matrix leveraging the __`pivot_table()`__ function from pandas.\n",
    "\n",
    "Fill in the blanks in the code below by referencing the __`pivot_table()`__ function and invoking it on __`df_train`__. Feel free to check out the documentation.\n",
    "\n",
    "Remember, rows should be users, columns should be movies and the values in the matrix should be the movie ratings. All these should be available in the __`df_train`__ dataframe."
   ]
  },
  {
   "cell_type": "code",
   "execution_count": 61,
   "metadata": {
    "colab": {
     "base_uri": "https://localhost:8080/",
     "height": 438
    },
    "colab_type": "code",
    "id": "_ieAea92FJye",
    "outputId": "7a2dd65d-1af9-4300-c811-1f1d3f8e8f05"
   },
   "outputs": [
    {
     "name": "stdout",
     "output_type": "stream",
     "text": [
      "Shape User-Movie-Matrix:\t(20828, 1741)\n"
     ]
    },
    {
     "data": {
      "text/html": [
       "<div>\n",
       "<style scoped>\n",
       "    .dataframe tbody tr th:only-of-type {\n",
       "        vertical-align: middle;\n",
       "    }\n",
       "\n",
       "    .dataframe tbody tr th {\n",
       "        vertical-align: top;\n",
       "    }\n",
       "\n",
       "    .dataframe thead th {\n",
       "        text-align: right;\n",
       "    }\n",
       "</style>\n",
       "<table border=\"1\" class=\"dataframe\">\n",
       "  <thead>\n",
       "    <tr style=\"text-align: right;\">\n",
       "      <th>Movie</th>\n",
       "      <th>3</th>\n",
       "      <th>5</th>\n",
       "      <th>6</th>\n",
       "      <th>8</th>\n",
       "      <th>16</th>\n",
       "      <th>17</th>\n",
       "      <th>18</th>\n",
       "      <th>24</th>\n",
       "      <th>25</th>\n",
       "      <th>26</th>\n",
       "      <th>...</th>\n",
       "      <th>4482</th>\n",
       "      <th>4483</th>\n",
       "      <th>4484</th>\n",
       "      <th>4485</th>\n",
       "      <th>4488</th>\n",
       "      <th>4489</th>\n",
       "      <th>4490</th>\n",
       "      <th>4492</th>\n",
       "      <th>4493</th>\n",
       "      <th>4496</th>\n",
       "    </tr>\n",
       "    <tr>\n",
       "      <th>User</th>\n",
       "      <th></th>\n",
       "      <th></th>\n",
       "      <th></th>\n",
       "      <th></th>\n",
       "      <th></th>\n",
       "      <th></th>\n",
       "      <th></th>\n",
       "      <th></th>\n",
       "      <th></th>\n",
       "      <th></th>\n",
       "      <th></th>\n",
       "      <th></th>\n",
       "      <th></th>\n",
       "      <th></th>\n",
       "      <th></th>\n",
       "      <th></th>\n",
       "      <th></th>\n",
       "      <th></th>\n",
       "      <th></th>\n",
       "      <th></th>\n",
       "      <th></th>\n",
       "    </tr>\n",
       "  </thead>\n",
       "  <tbody>\n",
       "    <tr>\n",
       "      <th>1000079</th>\n",
       "      <td>NaN</td>\n",
       "      <td>NaN</td>\n",
       "      <td>NaN</td>\n",
       "      <td>NaN</td>\n",
       "      <td>NaN</td>\n",
       "      <td>NaN</td>\n",
       "      <td>NaN</td>\n",
       "      <td>NaN</td>\n",
       "      <td>NaN</td>\n",
       "      <td>NaN</td>\n",
       "      <td>...</td>\n",
       "      <td>NaN</td>\n",
       "      <td>NaN</td>\n",
       "      <td>NaN</td>\n",
       "      <td>NaN</td>\n",
       "      <td>2.0</td>\n",
       "      <td>NaN</td>\n",
       "      <td>NaN</td>\n",
       "      <td>NaN</td>\n",
       "      <td>NaN</td>\n",
       "      <td>NaN</td>\n",
       "    </tr>\n",
       "    <tr>\n",
       "      <th>1000192</th>\n",
       "      <td>NaN</td>\n",
       "      <td>NaN</td>\n",
       "      <td>NaN</td>\n",
       "      <td>NaN</td>\n",
       "      <td>NaN</td>\n",
       "      <td>NaN</td>\n",
       "      <td>NaN</td>\n",
       "      <td>NaN</td>\n",
       "      <td>NaN</td>\n",
       "      <td>NaN</td>\n",
       "      <td>...</td>\n",
       "      <td>NaN</td>\n",
       "      <td>NaN</td>\n",
       "      <td>NaN</td>\n",
       "      <td>NaN</td>\n",
       "      <td>NaN</td>\n",
       "      <td>NaN</td>\n",
       "      <td>NaN</td>\n",
       "      <td>NaN</td>\n",
       "      <td>NaN</td>\n",
       "      <td>NaN</td>\n",
       "    </tr>\n",
       "    <tr>\n",
       "      <th>1000301</th>\n",
       "      <td>NaN</td>\n",
       "      <td>NaN</td>\n",
       "      <td>NaN</td>\n",
       "      <td>NaN</td>\n",
       "      <td>NaN</td>\n",
       "      <td>NaN</td>\n",
       "      <td>4.0</td>\n",
       "      <td>NaN</td>\n",
       "      <td>NaN</td>\n",
       "      <td>NaN</td>\n",
       "      <td>...</td>\n",
       "      <td>NaN</td>\n",
       "      <td>NaN</td>\n",
       "      <td>NaN</td>\n",
       "      <td>NaN</td>\n",
       "      <td>4.0</td>\n",
       "      <td>NaN</td>\n",
       "      <td>NaN</td>\n",
       "      <td>NaN</td>\n",
       "      <td>NaN</td>\n",
       "      <td>NaN</td>\n",
       "    </tr>\n",
       "    <tr>\n",
       "      <th>1000387</th>\n",
       "      <td>NaN</td>\n",
       "      <td>NaN</td>\n",
       "      <td>NaN</td>\n",
       "      <td>NaN</td>\n",
       "      <td>NaN</td>\n",
       "      <td>NaN</td>\n",
       "      <td>NaN</td>\n",
       "      <td>NaN</td>\n",
       "      <td>NaN</td>\n",
       "      <td>NaN</td>\n",
       "      <td>...</td>\n",
       "      <td>NaN</td>\n",
       "      <td>NaN</td>\n",
       "      <td>NaN</td>\n",
       "      <td>1.0</td>\n",
       "      <td>2.0</td>\n",
       "      <td>NaN</td>\n",
       "      <td>NaN</td>\n",
       "      <td>1.0</td>\n",
       "      <td>NaN</td>\n",
       "      <td>NaN</td>\n",
       "    </tr>\n",
       "    <tr>\n",
       "      <th>1000410</th>\n",
       "      <td>NaN</td>\n",
       "      <td>NaN</td>\n",
       "      <td>NaN</td>\n",
       "      <td>NaN</td>\n",
       "      <td>NaN</td>\n",
       "      <td>NaN</td>\n",
       "      <td>4.0</td>\n",
       "      <td>NaN</td>\n",
       "      <td>NaN</td>\n",
       "      <td>NaN</td>\n",
       "      <td>...</td>\n",
       "      <td>NaN</td>\n",
       "      <td>NaN</td>\n",
       "      <td>NaN</td>\n",
       "      <td>NaN</td>\n",
       "      <td>3.0</td>\n",
       "      <td>NaN</td>\n",
       "      <td>3.0</td>\n",
       "      <td>NaN</td>\n",
       "      <td>NaN</td>\n",
       "      <td>3.0</td>\n",
       "    </tr>\n",
       "    <tr>\n",
       "      <th>1000527</th>\n",
       "      <td>NaN</td>\n",
       "      <td>NaN</td>\n",
       "      <td>NaN</td>\n",
       "      <td>NaN</td>\n",
       "      <td>NaN</td>\n",
       "      <td>NaN</td>\n",
       "      <td>NaN</td>\n",
       "      <td>NaN</td>\n",
       "      <td>NaN</td>\n",
       "      <td>NaN</td>\n",
       "      <td>...</td>\n",
       "      <td>NaN</td>\n",
       "      <td>NaN</td>\n",
       "      <td>NaN</td>\n",
       "      <td>NaN</td>\n",
       "      <td>NaN</td>\n",
       "      <td>NaN</td>\n",
       "      <td>NaN</td>\n",
       "      <td>NaN</td>\n",
       "      <td>3.0</td>\n",
       "      <td>NaN</td>\n",
       "    </tr>\n",
       "    <tr>\n",
       "      <th>1000596</th>\n",
       "      <td>NaN</td>\n",
       "      <td>NaN</td>\n",
       "      <td>NaN</td>\n",
       "      <td>NaN</td>\n",
       "      <td>NaN</td>\n",
       "      <td>NaN</td>\n",
       "      <td>NaN</td>\n",
       "      <td>2.0</td>\n",
       "      <td>NaN</td>\n",
       "      <td>NaN</td>\n",
       "      <td>...</td>\n",
       "      <td>NaN</td>\n",
       "      <td>NaN</td>\n",
       "      <td>NaN</td>\n",
       "      <td>NaN</td>\n",
       "      <td>NaN</td>\n",
       "      <td>NaN</td>\n",
       "      <td>NaN</td>\n",
       "      <td>NaN</td>\n",
       "      <td>NaN</td>\n",
       "      <td>NaN</td>\n",
       "    </tr>\n",
       "    <tr>\n",
       "      <th>1000634</th>\n",
       "      <td>NaN</td>\n",
       "      <td>NaN</td>\n",
       "      <td>NaN</td>\n",
       "      <td>NaN</td>\n",
       "      <td>3.0</td>\n",
       "      <td>NaN</td>\n",
       "      <td>NaN</td>\n",
       "      <td>NaN</td>\n",
       "      <td>NaN</td>\n",
       "      <td>NaN</td>\n",
       "      <td>...</td>\n",
       "      <td>NaN</td>\n",
       "      <td>NaN</td>\n",
       "      <td>NaN</td>\n",
       "      <td>NaN</td>\n",
       "      <td>4.0</td>\n",
       "      <td>NaN</td>\n",
       "      <td>NaN</td>\n",
       "      <td>4.0</td>\n",
       "      <td>NaN</td>\n",
       "      <td>NaN</td>\n",
       "    </tr>\n",
       "    <tr>\n",
       "      <th>1000710</th>\n",
       "      <td>NaN</td>\n",
       "      <td>NaN</td>\n",
       "      <td>NaN</td>\n",
       "      <td>NaN</td>\n",
       "      <td>NaN</td>\n",
       "      <td>NaN</td>\n",
       "      <td>NaN</td>\n",
       "      <td>NaN</td>\n",
       "      <td>NaN</td>\n",
       "      <td>NaN</td>\n",
       "      <td>...</td>\n",
       "      <td>NaN</td>\n",
       "      <td>NaN</td>\n",
       "      <td>NaN</td>\n",
       "      <td>NaN</td>\n",
       "      <td>NaN</td>\n",
       "      <td>NaN</td>\n",
       "      <td>NaN</td>\n",
       "      <td>NaN</td>\n",
       "      <td>NaN</td>\n",
       "      <td>NaN</td>\n",
       "    </tr>\n",
       "    <tr>\n",
       "      <th>1000779</th>\n",
       "      <td>NaN</td>\n",
       "      <td>NaN</td>\n",
       "      <td>NaN</td>\n",
       "      <td>NaN</td>\n",
       "      <td>NaN</td>\n",
       "      <td>NaN</td>\n",
       "      <td>NaN</td>\n",
       "      <td>NaN</td>\n",
       "      <td>NaN</td>\n",
       "      <td>NaN</td>\n",
       "      <td>...</td>\n",
       "      <td>NaN</td>\n",
       "      <td>NaN</td>\n",
       "      <td>NaN</td>\n",
       "      <td>NaN</td>\n",
       "      <td>NaN</td>\n",
       "      <td>NaN</td>\n",
       "      <td>NaN</td>\n",
       "      <td>NaN</td>\n",
       "      <td>NaN</td>\n",
       "      <td>4.0</td>\n",
       "    </tr>\n",
       "  </tbody>\n",
       "</table>\n",
       "<p>10 rows × 1741 columns</p>\n",
       "</div>"
      ],
      "text/plain": [
       "Movie    3     5     6     8     16    17    18    24    25    26    ...  \\\n",
       "User                                                                 ...   \n",
       "1000079   NaN   NaN   NaN   NaN   NaN   NaN   NaN   NaN   NaN   NaN  ...   \n",
       "1000192   NaN   NaN   NaN   NaN   NaN   NaN   NaN   NaN   NaN   NaN  ...   \n",
       "1000301   NaN   NaN   NaN   NaN   NaN   NaN   4.0   NaN   NaN   NaN  ...   \n",
       "1000387   NaN   NaN   NaN   NaN   NaN   NaN   NaN   NaN   NaN   NaN  ...   \n",
       "1000410   NaN   NaN   NaN   NaN   NaN   NaN   4.0   NaN   NaN   NaN  ...   \n",
       "1000527   NaN   NaN   NaN   NaN   NaN   NaN   NaN   NaN   NaN   NaN  ...   \n",
       "1000596   NaN   NaN   NaN   NaN   NaN   NaN   NaN   2.0   NaN   NaN  ...   \n",
       "1000634   NaN   NaN   NaN   NaN   3.0   NaN   NaN   NaN   NaN   NaN  ...   \n",
       "1000710   NaN   NaN   NaN   NaN   NaN   NaN   NaN   NaN   NaN   NaN  ...   \n",
       "1000779   NaN   NaN   NaN   NaN   NaN   NaN   NaN   NaN   NaN   NaN  ...   \n",
       "\n",
       "Movie    4482  4483  4484  4485  4488  4489  4490  4492  4493  4496  \n",
       "User                                                                 \n",
       "1000079   NaN   NaN   NaN   NaN   2.0   NaN   NaN   NaN   NaN   NaN  \n",
       "1000192   NaN   NaN   NaN   NaN   NaN   NaN   NaN   NaN   NaN   NaN  \n",
       "1000301   NaN   NaN   NaN   NaN   4.0   NaN   NaN   NaN   NaN   NaN  \n",
       "1000387   NaN   NaN   NaN   1.0   2.0   NaN   NaN   1.0   NaN   NaN  \n",
       "1000410   NaN   NaN   NaN   NaN   3.0   NaN   3.0   NaN   NaN   3.0  \n",
       "1000527   NaN   NaN   NaN   NaN   NaN   NaN   NaN   NaN   3.0   NaN  \n",
       "1000596   NaN   NaN   NaN   NaN   NaN   NaN   NaN   NaN   NaN   NaN  \n",
       "1000634   NaN   NaN   NaN   NaN   4.0   NaN   NaN   4.0   NaN   NaN  \n",
       "1000710   NaN   NaN   NaN   NaN   NaN   NaN   NaN   NaN   NaN   NaN  \n",
       "1000779   NaN   NaN   NaN   NaN   NaN   NaN   NaN   NaN   NaN   4.0  \n",
       "\n",
       "[10 rows x 1741 columns]"
      ]
     },
     "execution_count": 61,
     "metadata": {},
     "output_type": "execute_result"
    }
   ],
   "source": [
    "# Create a user-movie matrix with empty values\n",
    "df_p = df_train.pivot_table(index='User', columns='Movie', values='Rating')\n",
    "\n",
    "print('Shape User-Movie-Matrix:\\t{}'.format(df_p.shape))\n",
    "df_p.head(10)"
   ]
  },
  {
   "cell_type": "markdown",
   "metadata": {
    "colab_type": "text",
    "id": "ojO2T5Ti_4TG"
   },
   "source": [
    "## 8. Building Recommendation Systems"
   ]
  },
  {
   "cell_type": "markdown",
   "metadata": {
    "colab_type": "text",
    "id": "cOrqqL3KDn9L"
   },
   "source": [
    "## 8.1(a): Global Recommendation Systems (Mean Rating)\n",
    "\n",
    "Computing the mean rating for all movies creates a ranking. The recommendation will be the same for all users and can be used if there is no information on the user.\n",
    "Variations of this approach can be separate rankings for each country/year/gender/... and to use them individually to recommend movies/items to the user.\n",
    "\n",
    "It has to be noted that this approach is biased and favours movies with fewer ratings, since large numbers of ratings tend to be less extreme in its mean ratings."
   ]
  },
  {
   "cell_type": "markdown",
   "metadata": {
    "colab_type": "text",
    "id": "zlIuNnXxONlb"
   },
   "source": [
    "### Additional Hint\n",
    "\n",
    "Predict model performance: [mean_squared_error](https://scikit-learn.org/stable/modules/generated/sklearn.metrics.mean_squared_error.html)"
   ]
  },
  {
   "cell_type": "code",
   "execution_count": 62,
   "metadata": {
    "colab": {
     "base_uri": "https://localhost:8080/",
     "height": 225
    },
    "colab_type": "code",
    "id": "spUQbaIz24Fo",
    "outputId": "0bb9b792-e2af-45a3-994c-ed167f0e75fd"
   },
   "outputs": [
    {
     "data": {
      "text/html": [
       "<div>\n",
       "<style scoped>\n",
       "    .dataframe tbody tr th:only-of-type {\n",
       "        vertical-align: middle;\n",
       "    }\n",
       "\n",
       "    .dataframe tbody tr th {\n",
       "        vertical-align: top;\n",
       "    }\n",
       "\n",
       "    .dataframe thead th {\n",
       "        text-align: right;\n",
       "    }\n",
       "</style>\n",
       "<table border=\"1\" class=\"dataframe\">\n",
       "  <thead>\n",
       "    <tr style=\"text-align: right;\">\n",
       "      <th></th>\n",
       "      <th>Rating-Mean</th>\n",
       "      <th>Rating-Freq</th>\n",
       "      <th>Year</th>\n",
       "      <th>Name</th>\n",
       "    </tr>\n",
       "    <tr>\n",
       "      <th>Movie</th>\n",
       "      <th></th>\n",
       "      <th></th>\n",
       "      <th></th>\n",
       "      <th></th>\n",
       "    </tr>\n",
       "  </thead>\n",
       "  <tbody>\n",
       "    <tr>\n",
       "      <th>3456</th>\n",
       "      <td>4.658295</td>\n",
       "      <td>1314</td>\n",
       "      <td>2004</td>\n",
       "      <td>Lost: Season 1</td>\n",
       "    </tr>\n",
       "    <tr>\n",
       "      <th>2102</th>\n",
       "      <td>4.504868</td>\n",
       "      <td>2773</td>\n",
       "      <td>1994</td>\n",
       "      <td>The Simpsons: Season 6</td>\n",
       "    </tr>\n",
       "    <tr>\n",
       "      <th>3444</th>\n",
       "      <td>4.436034</td>\n",
       "      <td>2814</td>\n",
       "      <td>2004</td>\n",
       "      <td>Family Guy: Freakin' Sweet Collection</td>\n",
       "    </tr>\n",
       "    <tr>\n",
       "      <th>2452</th>\n",
       "      <td>4.425839</td>\n",
       "      <td>18615</td>\n",
       "      <td>2001</td>\n",
       "      <td>Lord of the Rings: The Fellowship of the Ring</td>\n",
       "    </tr>\n",
       "    <tr>\n",
       "      <th>2172</th>\n",
       "      <td>4.385200</td>\n",
       "      <td>6189</td>\n",
       "      <td>1991</td>\n",
       "      <td>The Simpsons: Season 3</td>\n",
       "    </tr>\n",
       "  </tbody>\n",
       "</table>\n",
       "</div>"
      ],
      "text/plain": [
       "       Rating-Mean  Rating-Freq  Year  \\\n",
       "Movie                                   \n",
       "3456      4.658295         1314  2004   \n",
       "2102      4.504868         2773  1994   \n",
       "3444      4.436034         2814  2004   \n",
       "2452      4.425839        18615  2001   \n",
       "2172      4.385200         6189  1991   \n",
       "\n",
       "                                                Name  \n",
       "Movie                                                 \n",
       "3456                                  Lost: Season 1  \n",
       "2102                          The Simpsons: Season 6  \n",
       "3444           Family Guy: Freakin' Sweet Collection  \n",
       "2452   Lord of the Rings: The Fellowship of the Ring  \n",
       "2172                          The Simpsons: Season 3  "
      ]
     },
     "execution_count": 62,
     "metadata": {},
     "output_type": "execute_result"
    }
   ],
   "source": [
    "# Compute mean rating for all movies\n",
    "ratings_mean = df_p.mean(axis=0).sort_values(ascending=False).rename('Rating-Mean').to_frame()\n",
    "\n",
    "# Compute rating frequencies for all movies\n",
    "ratings_count = df_p.count(axis=0).rename('Rating-Freq').to_frame()\n",
    "\n",
    "# Combine the aggregated dataframes\n",
    "combined_df = ratings_mean.join(ratings_count).join(movie_titles)\n",
    "combined_df.head(5)"
   ]
  },
  {
   "cell_type": "code",
   "execution_count": 63,
   "metadata": {
    "colab": {
     "base_uri": "https://localhost:8080/",
     "height": 225
    },
    "colab_type": "code",
    "id": "vf66eVE_24Fq",
    "outputId": "21cc00bc-6df3-4e96-cf2b-142b317f565a"
   },
   "outputs": [
    {
     "data": {
      "text/html": [
       "<div>\n",
       "<style scoped>\n",
       "    .dataframe tbody tr th:only-of-type {\n",
       "        vertical-align: middle;\n",
       "    }\n",
       "\n",
       "    .dataframe tbody tr th {\n",
       "        vertical-align: top;\n",
       "    }\n",
       "\n",
       "    .dataframe thead th {\n",
       "        text-align: right;\n",
       "    }\n",
       "</style>\n",
       "<table border=\"1\" class=\"dataframe\">\n",
       "  <thead>\n",
       "    <tr style=\"text-align: right;\">\n",
       "      <th></th>\n",
       "      <th>User</th>\n",
       "      <th>Rating</th>\n",
       "      <th>Rating-Mean</th>\n",
       "    </tr>\n",
       "    <tr>\n",
       "      <th>Movie</th>\n",
       "      <th></th>\n",
       "      <th></th>\n",
       "      <th></th>\n",
       "    </tr>\n",
       "  </thead>\n",
       "  <tbody>\n",
       "    <tr>\n",
       "      <th>3</th>\n",
       "      <td>2017438</td>\n",
       "      <td>4.0</td>\n",
       "      <td>3.460821</td>\n",
       "    </tr>\n",
       "    <tr>\n",
       "      <th>3</th>\n",
       "      <td>606144</td>\n",
       "      <td>1.0</td>\n",
       "      <td>3.460821</td>\n",
       "    </tr>\n",
       "    <tr>\n",
       "      <th>3</th>\n",
       "      <td>164845</td>\n",
       "      <td>1.0</td>\n",
       "      <td>3.460821</td>\n",
       "    </tr>\n",
       "    <tr>\n",
       "      <th>3</th>\n",
       "      <td>1582905</td>\n",
       "      <td>5.0</td>\n",
       "      <td>3.460821</td>\n",
       "    </tr>\n",
       "    <tr>\n",
       "      <th>3</th>\n",
       "      <td>1214640</td>\n",
       "      <td>3.0</td>\n",
       "      <td>3.460821</td>\n",
       "    </tr>\n",
       "  </tbody>\n",
       "</table>\n",
       "</div>"
      ],
      "text/plain": [
       "          User  Rating  Rating-Mean\n",
       "Movie                              \n",
       "3      2017438     4.0     3.460821\n",
       "3       606144     1.0     3.460821\n",
       "3       164845     1.0     3.460821\n",
       "3      1582905     5.0     3.460821\n",
       "3      1214640     3.0     3.460821"
      ]
     },
     "execution_count": 63,
     "metadata": {},
     "output_type": "execute_result"
    }
   ],
   "source": [
    "# Join labels and predictions based on mean movie rating\n",
    "predictions_df = df_test.set_index('Movie').join(ratings_mean)\n",
    "predictions_df.head(5)"
   ]
  },
  {
   "cell_type": "code",
   "execution_count": 64,
   "metadata": {
    "colab": {
     "base_uri": "https://localhost:8080/",
     "height": 34
    },
    "colab_type": "code",
    "id": "9W2txAub24Fs",
    "outputId": "ef0d3bfd-859d-4596-a465-9b17504a1b65"
   },
   "outputs": [
    {
     "name": "stdout",
     "output_type": "stream",
     "text": [
      "The RMSE Value for the Mean Rating Recommender: 1.0042348332926796\n"
     ]
    }
   ],
   "source": [
    "# Compute RMSE\n",
    "y_true = predictions_df['Rating']\n",
    "y_pred = predictions_df['Rating-Mean']\n",
    "\n",
    "rmse = np.sqrt(mean_squared_error(y_true=y_true, y_pred=y_pred))\n",
    "print(\"The RMSE Value for the Mean Rating Recommender:\", rmse)"
   ]
  },
  {
   "cell_type": "code",
   "execution_count": 65,
   "metadata": {
    "colab": {
     "base_uri": "https://localhost:8080/",
     "height": 373
    },
    "colab_type": "code",
    "id": "xda52K1m24Fu",
    "outputId": "a537ffcc-dc45-458b-9d2c-b0ed262d3103"
   },
   "outputs": [
    {
     "data": {
      "text/html": [
       "<div>\n",
       "<style scoped>\n",
       "    .dataframe tbody tr th:only-of-type {\n",
       "        vertical-align: middle;\n",
       "    }\n",
       "\n",
       "    .dataframe tbody tr th {\n",
       "        vertical-align: top;\n",
       "    }\n",
       "\n",
       "    .dataframe thead th {\n",
       "        text-align: right;\n",
       "    }\n",
       "</style>\n",
       "<table border=\"1\" class=\"dataframe\">\n",
       "  <thead>\n",
       "    <tr style=\"text-align: right;\">\n",
       "      <th></th>\n",
       "      <th>Name</th>\n",
       "      <th>Rating-Mean</th>\n",
       "    </tr>\n",
       "    <tr>\n",
       "      <th>Movie</th>\n",
       "      <th></th>\n",
       "      <th></th>\n",
       "    </tr>\n",
       "  </thead>\n",
       "  <tbody>\n",
       "    <tr>\n",
       "      <th>3456</th>\n",
       "      <td>Lost: Season 1</td>\n",
       "      <td>4.658295</td>\n",
       "    </tr>\n",
       "    <tr>\n",
       "      <th>2102</th>\n",
       "      <td>The Simpsons: Season 6</td>\n",
       "      <td>4.504868</td>\n",
       "    </tr>\n",
       "    <tr>\n",
       "      <th>3444</th>\n",
       "      <td>Family Guy: Freakin' Sweet Collection</td>\n",
       "      <td>4.436034</td>\n",
       "    </tr>\n",
       "    <tr>\n",
       "      <th>2452</th>\n",
       "      <td>Lord of the Rings: The Fellowship of the Ring</td>\n",
       "      <td>4.425839</td>\n",
       "    </tr>\n",
       "    <tr>\n",
       "      <th>2172</th>\n",
       "      <td>The Simpsons: Season 3</td>\n",
       "      <td>4.385200</td>\n",
       "    </tr>\n",
       "    <tr>\n",
       "      <th>1256</th>\n",
       "      <td>The Best of Friends: Vol. 4</td>\n",
       "      <td>4.370962</td>\n",
       "    </tr>\n",
       "    <tr>\n",
       "      <th>3962</th>\n",
       "      <td>Finding Nemo (Widescreen)</td>\n",
       "      <td>4.370057</td>\n",
       "    </tr>\n",
       "    <tr>\n",
       "      <th>4238</th>\n",
       "      <td>Inu-Yasha</td>\n",
       "      <td>4.354839</td>\n",
       "    </tr>\n",
       "    <tr>\n",
       "      <th>1476</th>\n",
       "      <td>Six Feet Under: Season 4</td>\n",
       "      <td>4.349612</td>\n",
       "    </tr>\n",
       "    <tr>\n",
       "      <th>3046</th>\n",
       "      <td>The Simpsons: Treehouse of Horror</td>\n",
       "      <td>4.345848</td>\n",
       "    </tr>\n",
       "  </tbody>\n",
       "</table>\n",
       "</div>"
      ],
      "text/plain": [
       "                                                Name  Rating-Mean\n",
       "Movie                                                            \n",
       "3456                                  Lost: Season 1     4.658295\n",
       "2102                          The Simpsons: Season 6     4.504868\n",
       "3444           Family Guy: Freakin' Sweet Collection     4.436034\n",
       "2452   Lord of the Rings: The Fellowship of the Ring     4.425839\n",
       "2172                          The Simpsons: Season 3     4.385200\n",
       "1256                     The Best of Friends: Vol. 4     4.370962\n",
       "3962                       Finding Nemo (Widescreen)     4.370057\n",
       "4238                                       Inu-Yasha     4.354839\n",
       "1476                        Six Feet Under: Season 4     4.349612\n",
       "3046               The Simpsons: Treehouse of Horror     4.345848"
      ]
     },
     "execution_count": 65,
     "metadata": {},
     "output_type": "execute_result"
    }
   ],
   "source": [
    "# View top ten rated movies\n",
    "combined_df[['Name', 'Rating-Mean']].head(10)"
   ]
  },
  {
   "cell_type": "markdown",
   "metadata": {
    "colab_type": "text",
    "id": "iFalvivYD1Is"
   },
   "source": [
    "## Q 8.1(b): Global Recommendation Systems (Weighted Rating)\n",
    "\n",
    "To tackle the problem of the unstable mean with few ratings e.g. IDMb uses a weighted rating. Many good ratings outweigh few in this algorithm.\n",
    "\n",
    "### Hint:\n",
    "\n",
    "Weighted Rating Formula\n",
    "\n",
    "weighted rating (𝑊𝑅)=(𝑣/(𝑣+𝑚))𝑅+(𝑚/(𝑣+𝑚))𝐶\n",
    "\n",
    "where:\n",
    "\n",
    "*𝑅* = average for the movie (mean) = (Rating)\n",
    "\n",
    "*𝑣* = number of votes for the movie = (votes)\n",
    "\n",
    "*𝑚* = minimum votes required \n",
    "\n",
    "*𝐶* = the mean vote across the whole report \n",
    "\n",
    "__Your Turn:__ Fill in the necessary code snippets below to build and test the model\n"
   ]
  },
  {
   "cell_type": "code",
   "execution_count": 66,
   "metadata": {
    "colab": {},
    "colab_type": "code",
    "id": "GVfj7TPz24Fz"
   },
   "outputs": [],
   "source": [
    "# Number of minimum votes to be considered\n",
    "m = 1000\n",
    "\n",
    "# Mean rating for all movies\n",
    "C = df_p.stack().mean()\n",
    "\n",
    "# Mean rating for all movies separately\n",
    "R = df_p.mean(axis=0).values\n",
    "\n",
    "# Rating freqency for all movies separately\n",
    "v = df_p.count().values"
   ]
  },
  {
   "cell_type": "code",
   "execution_count": 73,
   "metadata": {
    "colab": {},
    "colab_type": "code",
    "id": "Ntm_D7Yl24F1"
   },
   "outputs": [],
   "source": [
    "# Weighted formula to compute the weighted rating\n",
    "# weighted rating (𝑊𝑅)=(𝑣/(𝑣+𝑚))𝑅+(𝑚/(𝑣+𝑚))𝐶\n",
    "weighted_score = (v/(v+m))*R + (m/(v+m))*C"
   ]
  },
  {
   "cell_type": "code",
   "execution_count": 78,
   "metadata": {
    "colab": {
     "base_uri": "https://localhost:8080/",
     "height": 225
    },
    "colab_type": "code",
    "id": "YQe4smBk24F3",
    "outputId": "4d1e39ef-72ef-414a-a235-8d0883aa9e00"
   },
   "outputs": [
    {
     "data": {
      "text/html": [
       "<div>\n",
       "<style scoped>\n",
       "    .dataframe tbody tr th:only-of-type {\n",
       "        vertical-align: middle;\n",
       "    }\n",
       "\n",
       "    .dataframe tbody tr th {\n",
       "        vertical-align: top;\n",
       "    }\n",
       "\n",
       "    .dataframe thead th {\n",
       "        text-align: right;\n",
       "    }\n",
       "</style>\n",
       "<table border=\"1\" class=\"dataframe\">\n",
       "  <thead>\n",
       "    <tr style=\"text-align: right;\">\n",
       "      <th></th>\n",
       "      <th>Weighted_Score</th>\n",
       "      <th>Year</th>\n",
       "      <th>Name</th>\n",
       "    </tr>\n",
       "  </thead>\n",
       "  <tbody>\n",
       "    <tr>\n",
       "      <th>1</th>\n",
       "      <td>3.465405</td>\n",
       "      <td>2003</td>\n",
       "      <td>Dinosaur Planet</td>\n",
       "    </tr>\n",
       "    <tr>\n",
       "      <th>2</th>\n",
       "      <td>3.454794</td>\n",
       "      <td>2004</td>\n",
       "      <td>Isle of Man TT 2004 Review</td>\n",
       "    </tr>\n",
       "    <tr>\n",
       "      <th>3</th>\n",
       "      <td>3.374990</td>\n",
       "      <td>1997</td>\n",
       "      <td>Character</td>\n",
       "    </tr>\n",
       "    <tr>\n",
       "      <th>4</th>\n",
       "      <td>3.173522</td>\n",
       "      <td>1994</td>\n",
       "      <td>Paula Abdul's Get Up &amp; Dance</td>\n",
       "    </tr>\n",
       "    <tr>\n",
       "      <th>5</th>\n",
       "      <td>3.190752</td>\n",
       "      <td>2004</td>\n",
       "      <td>The Rise and Fall of ECW</td>\n",
       "    </tr>\n",
       "  </tbody>\n",
       "</table>\n",
       "</div>"
      ],
      "text/plain": [
       "   Weighted_Score  Year                          Name\n",
       "1        3.465405  2003               Dinosaur Planet\n",
       "2        3.454794  2004    Isle of Man TT 2004 Review\n",
       "3        3.374990  1997                     Character\n",
       "4        3.173522  1994  Paula Abdul's Get Up & Dance\n",
       "5        3.190752  2004      The Rise and Fall of ECW"
      ]
     },
     "execution_count": 78,
     "metadata": {},
     "output_type": "execute_result"
    }
   ],
   "source": [
    "# convert weighted_score into a dataframe\n",
    "weighted_mean = pd.DataFrame(weighted_score, columns=['Weighted_Score'])\n",
    "\n",
    "# Adjust the index to start from 1 instead of 0\n",
    "weighted_mean.index += 1\n",
    "\n",
    "# Combine the aggregated dataframes (wighted_mean & movie_titles)\n",
    "combined_df = weighted_mean.join(movie_titles)\n",
    "combined_df.head(5)"
   ]
  },
  {
   "cell_type": "code",
   "execution_count": 79,
   "metadata": {
    "colab": {
     "base_uri": "https://localhost:8080/",
     "height": 225
    },
    "colab_type": "code",
    "id": "jMd68xuj24F5",
    "outputId": "948409a5-b235-4892-912a-3ec8b70f841d"
   },
   "outputs": [
    {
     "data": {
      "text/html": [
       "<div>\n",
       "<style scoped>\n",
       "    .dataframe tbody tr th:only-of-type {\n",
       "        vertical-align: middle;\n",
       "    }\n",
       "\n",
       "    .dataframe tbody tr th {\n",
       "        vertical-align: top;\n",
       "    }\n",
       "\n",
       "    .dataframe thead th {\n",
       "        text-align: right;\n",
       "    }\n",
       "</style>\n",
       "<table border=\"1\" class=\"dataframe\">\n",
       "  <thead>\n",
       "    <tr style=\"text-align: right;\">\n",
       "      <th></th>\n",
       "      <th>User</th>\n",
       "      <th>Rating</th>\n",
       "      <th>Weighted_Score</th>\n",
       "    </tr>\n",
       "  </thead>\n",
       "  <tbody>\n",
       "    <tr>\n",
       "      <th>3</th>\n",
       "      <td>2017438</td>\n",
       "      <td>4.0</td>\n",
       "      <td>3.37499</td>\n",
       "    </tr>\n",
       "    <tr>\n",
       "      <th>3</th>\n",
       "      <td>606144</td>\n",
       "      <td>1.0</td>\n",
       "      <td>3.37499</td>\n",
       "    </tr>\n",
       "    <tr>\n",
       "      <th>3</th>\n",
       "      <td>164845</td>\n",
       "      <td>1.0</td>\n",
       "      <td>3.37499</td>\n",
       "    </tr>\n",
       "    <tr>\n",
       "      <th>3</th>\n",
       "      <td>1582905</td>\n",
       "      <td>5.0</td>\n",
       "      <td>3.37499</td>\n",
       "    </tr>\n",
       "    <tr>\n",
       "      <th>3</th>\n",
       "      <td>1214640</td>\n",
       "      <td>3.0</td>\n",
       "      <td>3.37499</td>\n",
       "    </tr>\n",
       "  </tbody>\n",
       "</table>\n",
       "</div>"
      ],
      "text/plain": [
       "      User  Rating  Weighted_Score\n",
       "3  2017438     4.0         3.37499\n",
       "3   606144     1.0         3.37499\n",
       "3   164845     1.0         3.37499\n",
       "3  1582905     5.0         3.37499\n",
       "3  1214640     3.0         3.37499"
      ]
     },
     "execution_count": 79,
     "metadata": {},
     "output_type": "execute_result"
    }
   ],
   "source": [
    "# Join labels and predictions based on mean movie rating\n",
    "predictions_df = df_test.set_index('Movie').join(weighted_mean)\n",
    "predictions_df.head(5)"
   ]
  },
  {
   "cell_type": "code",
   "execution_count": 87,
   "metadata": {},
   "outputs": [
    {
     "data": {
      "text/html": [
       "<div>\n",
       "<style scoped>\n",
       "    .dataframe tbody tr th:only-of-type {\n",
       "        vertical-align: middle;\n",
       "    }\n",
       "\n",
       "    .dataframe tbody tr th {\n",
       "        vertical-align: top;\n",
       "    }\n",
       "\n",
       "    .dataframe thead th {\n",
       "        text-align: right;\n",
       "    }\n",
       "</style>\n",
       "<table border=\"1\" class=\"dataframe\">\n",
       "  <thead>\n",
       "    <tr style=\"text-align: right;\">\n",
       "      <th></th>\n",
       "      <th>User</th>\n",
       "      <th>Rating</th>\n",
       "      <th>Weighted_Score</th>\n",
       "    </tr>\n",
       "  </thead>\n",
       "  <tbody>\n",
       "    <tr>\n",
       "      <th>3</th>\n",
       "      <td>2017438</td>\n",
       "      <td>4.0</td>\n",
       "      <td>3.37499</td>\n",
       "    </tr>\n",
       "    <tr>\n",
       "      <th>3</th>\n",
       "      <td>606144</td>\n",
       "      <td>1.0</td>\n",
       "      <td>3.37499</td>\n",
       "    </tr>\n",
       "    <tr>\n",
       "      <th>3</th>\n",
       "      <td>164845</td>\n",
       "      <td>1.0</td>\n",
       "      <td>3.37499</td>\n",
       "    </tr>\n",
       "    <tr>\n",
       "      <th>3</th>\n",
       "      <td>1582905</td>\n",
       "      <td>5.0</td>\n",
       "      <td>3.37499</td>\n",
       "    </tr>\n",
       "    <tr>\n",
       "      <th>3</th>\n",
       "      <td>1214640</td>\n",
       "      <td>3.0</td>\n",
       "      <td>3.37499</td>\n",
       "    </tr>\n",
       "    <tr>\n",
       "      <th>...</th>\n",
       "      <td>...</td>\n",
       "      <td>...</td>\n",
       "      <td>...</td>\n",
       "    </tr>\n",
       "    <tr>\n",
       "      <th>4496</th>\n",
       "      <td>818752</td>\n",
       "      <td>5.0</td>\n",
       "      <td>NaN</td>\n",
       "    </tr>\n",
       "    <tr>\n",
       "      <th>4496</th>\n",
       "      <td>1679839</td>\n",
       "      <td>4.0</td>\n",
       "      <td>NaN</td>\n",
       "    </tr>\n",
       "    <tr>\n",
       "      <th>4496</th>\n",
       "      <td>2550324</td>\n",
       "      <td>4.0</td>\n",
       "      <td>NaN</td>\n",
       "    </tr>\n",
       "    <tr>\n",
       "      <th>4496</th>\n",
       "      <td>749353</td>\n",
       "      <td>5.0</td>\n",
       "      <td>NaN</td>\n",
       "    </tr>\n",
       "    <tr>\n",
       "      <th>4496</th>\n",
       "      <td>1084137</td>\n",
       "      <td>5.0</td>\n",
       "      <td>NaN</td>\n",
       "    </tr>\n",
       "  </tbody>\n",
       "</table>\n",
       "<p>100000 rows × 3 columns</p>\n",
       "</div>"
      ],
      "text/plain": [
       "         User  Rating  Weighted_Score\n",
       "3     2017438     4.0         3.37499\n",
       "3      606144     1.0         3.37499\n",
       "3      164845     1.0         3.37499\n",
       "3     1582905     5.0         3.37499\n",
       "3     1214640     3.0         3.37499\n",
       "...       ...     ...             ...\n",
       "4496   818752     5.0             NaN\n",
       "4496  1679839     4.0             NaN\n",
       "4496  2550324     4.0             NaN\n",
       "4496   749353     5.0             NaN\n",
       "4496  1084137     5.0             NaN\n",
       "\n",
       "[100000 rows x 3 columns]"
      ]
     },
     "execution_count": 87,
     "metadata": {},
     "output_type": "execute_result"
    }
   ],
   "source": [
    "predictions_df # Notice some rows have NaN values!"
   ]
  },
  {
   "cell_type": "code",
   "execution_count": 94,
   "metadata": {},
   "outputs": [
    {
     "data": {
      "text/html": [
       "<div>\n",
       "<style scoped>\n",
       "    .dataframe tbody tr th:only-of-type {\n",
       "        vertical-align: middle;\n",
       "    }\n",
       "\n",
       "    .dataframe tbody tr th {\n",
       "        vertical-align: top;\n",
       "    }\n",
       "\n",
       "    .dataframe thead th {\n",
       "        text-align: right;\n",
       "    }\n",
       "</style>\n",
       "<table border=\"1\" class=\"dataframe\">\n",
       "  <thead>\n",
       "    <tr style=\"text-align: right;\">\n",
       "      <th></th>\n",
       "      <th>User</th>\n",
       "      <th>Rating</th>\n",
       "      <th>Weighted_Score</th>\n",
       "    </tr>\n",
       "  </thead>\n",
       "  <tbody>\n",
       "    <tr>\n",
       "      <th>978</th>\n",
       "      <td>1830000</td>\n",
       "      <td>5.0</td>\n",
       "      <td>3.505442</td>\n",
       "    </tr>\n",
       "    <tr>\n",
       "      <th>978</th>\n",
       "      <td>1135948</td>\n",
       "      <td>3.0</td>\n",
       "      <td>3.505442</td>\n",
       "    </tr>\n",
       "    <tr>\n",
       "      <th>978</th>\n",
       "      <td>1517590</td>\n",
       "      <td>3.0</td>\n",
       "      <td>3.505442</td>\n",
       "    </tr>\n",
       "    <tr>\n",
       "      <th>978</th>\n",
       "      <td>2111672</td>\n",
       "      <td>3.0</td>\n",
       "      <td>3.505442</td>\n",
       "    </tr>\n",
       "    <tr>\n",
       "      <th>978</th>\n",
       "      <td>1322507</td>\n",
       "      <td>3.0</td>\n",
       "      <td>3.505442</td>\n",
       "    </tr>\n",
       "    <tr>\n",
       "      <th>978</th>\n",
       "      <td>872408</td>\n",
       "      <td>3.0</td>\n",
       "      <td>3.505442</td>\n",
       "    </tr>\n",
       "    <tr>\n",
       "      <th>980</th>\n",
       "      <td>2462935</td>\n",
       "      <td>3.0</td>\n",
       "      <td>3.482326</td>\n",
       "    </tr>\n",
       "    <tr>\n",
       "      <th>980</th>\n",
       "      <td>1638580</td>\n",
       "      <td>4.0</td>\n",
       "      <td>3.482326</td>\n",
       "    </tr>\n",
       "    <tr>\n",
       "      <th>980</th>\n",
       "      <td>609754</td>\n",
       "      <td>3.0</td>\n",
       "      <td>3.482326</td>\n",
       "    </tr>\n",
       "    <tr>\n",
       "      <th>980</th>\n",
       "      <td>1457793</td>\n",
       "      <td>3.0</td>\n",
       "      <td>3.482326</td>\n",
       "    </tr>\n",
       "    <tr>\n",
       "      <th>980</th>\n",
       "      <td>636262</td>\n",
       "      <td>1.0</td>\n",
       "      <td>3.482326</td>\n",
       "    </tr>\n",
       "    <tr>\n",
       "      <th>980</th>\n",
       "      <td>1478117</td>\n",
       "      <td>4.0</td>\n",
       "      <td>3.482326</td>\n",
       "    </tr>\n",
       "    <tr>\n",
       "      <th>982</th>\n",
       "      <td>1304264</td>\n",
       "      <td>4.0</td>\n",
       "      <td>2.913689</td>\n",
       "    </tr>\n",
       "    <tr>\n",
       "      <th>982</th>\n",
       "      <td>722298</td>\n",
       "      <td>3.0</td>\n",
       "      <td>2.913689</td>\n",
       "    </tr>\n",
       "    <tr>\n",
       "      <th>982</th>\n",
       "      <td>2600868</td>\n",
       "      <td>3.0</td>\n",
       "      <td>2.913689</td>\n",
       "    </tr>\n",
       "  </tbody>\n",
       "</table>\n",
       "</div>"
      ],
      "text/plain": [
       "        User  Rating  Weighted_Score\n",
       "978  1830000     5.0        3.505442\n",
       "978  1135948     3.0        3.505442\n",
       "978  1517590     3.0        3.505442\n",
       "978  2111672     3.0        3.505442\n",
       "978  1322507     3.0        3.505442\n",
       "978   872408     3.0        3.505442\n",
       "980  2462935     3.0        3.482326\n",
       "980  1638580     4.0        3.482326\n",
       "980   609754     3.0        3.482326\n",
       "980  1457793     3.0        3.482326\n",
       "980   636262     1.0        3.482326\n",
       "980  1478117     4.0        3.482326\n",
       "982  1304264     4.0        2.913689\n",
       "982   722298     3.0        2.913689\n",
       "982  2600868     3.0        2.913689"
      ]
     },
     "execution_count": 94,
     "metadata": {},
     "output_type": "execute_result"
    }
   ],
   "source": [
    "predictions_df[20500: 20515]"
   ]
  },
  {
   "cell_type": "code",
   "execution_count": 90,
   "metadata": {
    "colab": {
     "base_uri": "https://localhost:8080/",
     "height": 34
    },
    "colab_type": "code",
    "id": "HdCxHIO424F8",
    "outputId": "e8369ec9-e022-4b66-cd55-256ee1f5ff62"
   },
   "outputs": [
    {
     "name": "stdout",
     "output_type": "stream",
     "text": [
      "The RMSE Value for the Weighted-Mean Rating Recommender: 1.1000906629482974\n"
     ]
    }
   ],
   "source": [
    "# Compute RMSE\n",
    "# Drop NaN values from predictions_df for 'Rating' and 'Weighted_Score' columns\n",
    "predictions_df= predictions_df.dropna(subset=['Rating', 'Weighted_Score'])\n",
    "\n",
    "y_true = predictions_df['Rating']\n",
    "y_pred = predictions_df['Weighted_Score']\n",
    "\n",
    "rmse = np.sqrt(mean_squared_error(y_true=y_true, y_pred=y_pred))\n",
    "print(\"The RMSE Value for the Weighted-Mean Rating Recommender:\", rmse)"
   ]
  },
  {
   "cell_type": "code",
   "execution_count": 91,
   "metadata": {
    "colab": {
     "base_uri": "https://localhost:8080/",
     "height": 373
    },
    "colab_type": "code",
    "id": "gt1Q5Mh124F-",
    "outputId": "1e61eb00-d5a9-4265-9b80-579b21be655c"
   },
   "outputs": [
    {
     "data": {
      "text/html": [
       "<div>\n",
       "<style scoped>\n",
       "    .dataframe tbody tr th:only-of-type {\n",
       "        vertical-align: middle;\n",
       "    }\n",
       "\n",
       "    .dataframe tbody tr th {\n",
       "        vertical-align: top;\n",
       "    }\n",
       "\n",
       "    .dataframe thead th {\n",
       "        text-align: right;\n",
       "    }\n",
       "</style>\n",
       "<table border=\"1\" class=\"dataframe\">\n",
       "  <thead>\n",
       "    <tr style=\"text-align: right;\">\n",
       "      <th></th>\n",
       "      <th>Name</th>\n",
       "      <th>Weighted_Score</th>\n",
       "    </tr>\n",
       "  </thead>\n",
       "  <tbody>\n",
       "    <tr>\n",
       "      <th>1</th>\n",
       "      <td>Dinosaur Planet</td>\n",
       "      <td>3.465405</td>\n",
       "    </tr>\n",
       "    <tr>\n",
       "      <th>2</th>\n",
       "      <td>Isle of Man TT 2004 Review</td>\n",
       "      <td>3.454794</td>\n",
       "    </tr>\n",
       "    <tr>\n",
       "      <th>3</th>\n",
       "      <td>Character</td>\n",
       "      <td>3.374990</td>\n",
       "    </tr>\n",
       "    <tr>\n",
       "      <th>4</th>\n",
       "      <td>Paula Abdul's Get Up &amp; Dance</td>\n",
       "      <td>3.173522</td>\n",
       "    </tr>\n",
       "    <tr>\n",
       "      <th>5</th>\n",
       "      <td>The Rise and Fall of ECW</td>\n",
       "      <td>3.190752</td>\n",
       "    </tr>\n",
       "    <tr>\n",
       "      <th>6</th>\n",
       "      <td>Sick</td>\n",
       "      <td>3.167690</td>\n",
       "    </tr>\n",
       "    <tr>\n",
       "      <th>7</th>\n",
       "      <td>8 Man</td>\n",
       "      <td>3.641366</td>\n",
       "    </tr>\n",
       "    <tr>\n",
       "      <th>8</th>\n",
       "      <td>What the #$*! Do We Know!?</td>\n",
       "      <td>3.228887</td>\n",
       "    </tr>\n",
       "    <tr>\n",
       "      <th>9</th>\n",
       "      <td>Class of Nuke 'Em High 2</td>\n",
       "      <td>3.537344</td>\n",
       "    </tr>\n",
       "    <tr>\n",
       "      <th>10</th>\n",
       "      <td>Fighter</td>\n",
       "      <td>3.051056</td>\n",
       "    </tr>\n",
       "  </tbody>\n",
       "</table>\n",
       "</div>"
      ],
      "text/plain": [
       "                            Name  Weighted_Score\n",
       "1                Dinosaur Planet        3.465405\n",
       "2     Isle of Man TT 2004 Review        3.454794\n",
       "3                      Character        3.374990\n",
       "4   Paula Abdul's Get Up & Dance        3.173522\n",
       "5       The Rise and Fall of ECW        3.190752\n",
       "6                           Sick        3.167690\n",
       "7                          8 Man        3.641366\n",
       "8     What the #$*! Do We Know!?        3.228887\n",
       "9       Class of Nuke 'Em High 2        3.537344\n",
       "10                       Fighter        3.051056"
      ]
     },
     "execution_count": 91,
     "metadata": {},
     "output_type": "execute_result"
    }
   ],
   "source": [
    "# View top ten rated movies\n",
    "combined_df[['Name', 'Weighted_Score']].head(10)"
   ]
  },
  {
   "cell_type": "markdown",
   "metadata": {
    "colab_type": "text",
    "id": "SXa7l21yE-eY"
   },
   "source": [
    "The variable \"m\" can be seen as regularizing parameter. Changing it determines how much weight is put onto the movies with many ratings.\n",
    "Even if there is a better ranking the RMSE decreased slightly. There is a trade-off between interpretability and predictive power."
   ]
  },
  {
   "cell_type": "markdown",
   "metadata": {
    "colab_type": "text",
    "id": "0KRZO1u_24GB"
   },
   "source": [
    "## 8.2: Content Based Recommendation Systems\n",
    "\n",
    "\n",
    "The Content-Based Recommender relies on the similarity of the items being recommended. The basic idea is that if you like an item, then you will also like a “similar” item. It generally works well when it’s easy to determine the context/properties of each item. If there is no historical data for a user or there is reliable metadata for each movie, it can be useful to compare the metadata of the movies to find similar ones.\n",
    "\n",
    "![](./images/Content-based.png)"
   ]
  },
  {
   "cell_type": "markdown",
   "metadata": {
    "colab_type": "text",
    "id": "5WovG-3YFSqo"
   },
   "source": [
    "### Cosine TFIDF Movie Description Similarity"
   ]
  },
  {
   "cell_type": "markdown",
   "metadata": {
    "colab_type": "text",
    "id": "eldw_9lpNfUJ"
   },
   "source": [
    "#### TF-IDF \n",
    "\n",
    "This is a text vectorization technique which is used to determine the relative importance of a document / article / news item / movie etc.\n",
    "\n",
    "TF is simply the frequency of a word in a document. \n",
    "\n",
    "IDF is the inverse of the document frequency among the whole corpus of documents. \n",
    "\n",
    "TF-IDF is used mainly because of two reasons: Suppose we search for “the results of latest European Socccer games” on Google. It is certain that “the” will occur more frequently than “soccer games” but the relative importance of soccer games is higher than the search query point of view. \n",
    "\n",
    "In such cases, TF-IDF weighting negates the effect of high frequency words in determining the importance of an item (document).\n",
    "\n",
    "![](./images/TF-IDF-FORMULA.png)\n"
   ]
  },
  {
   "cell_type": "markdown",
   "metadata": {
    "colab_type": "text",
    "id": "Trb9DlZxOYGO"
   },
   "source": [
    "#### Cosine Similarity \n",
    "After calculating TF-IDF scores, how do we determine which items are closer to each other, rather closer to the user profile? This is accomplished using the Vector Space Model which computes the proximity based on the angle between the vectors.\n",
    "\n",
    "Consider the following example\n",
    "\n",
    "![](./images/vector-space-model.png)\n",
    "\n",
    "Sentence 2 is more likely to be using Term 2 than using Term 1. Vice-versa for Sentence 1. \n",
    "\n",
    "The method of calculating this relative measure is calculated by taking the cosine of the angle between the sentences and the terms. \n",
    "\n",
    "The ultimate reason behind using cosine is that the value of cosine will increase with decreasing value of the angle between which signifies more similarity. \n",
    "\n",
    "The vectors are length normalized after which they become vectors of length 1 and then the cosine calculation is simply the sum-product of vectors."
   ]
  },
  {
   "cell_type": "markdown",
   "metadata": {
    "colab_type": "text",
    "id": "4Cm9mjG-PSr3"
   },
   "source": [
    "In this approch we will use the movie description to create a TFIDF-matrix, which counts and weights words in all descriptions, and compute a cosine similarity between all of those sparse text-vectors. This can easily be extended to more or different features if you like.\n",
    "It is impossible for this model to compute a RMSE score, since the model does not recommend the movies directly.\n",
    "In this way it is possible to find movies closly related to each other.\n",
    "\n",
    "This approach of content based filtering can be extendend to increase the model performance by adding some more features like genres, cast, crew etc."
   ]
  },
  {
   "cell_type": "code",
   "execution_count": 95,
   "metadata": {
    "colab": {
     "base_uri": "https://localhost:8080/",
     "height": 134
    },
    "colab_type": "code",
    "id": "AdEeBvSf24GE",
    "outputId": "6dfc4ef6-f4b3-45d3-e6b1-35e2132a2375"
   },
   "outputs": [
    {
     "data": {
      "text/plain": [
       "original_title\n",
       "Toy Story                      Led by Woody, Andy's toys live happily in his ...\n",
       "Jumanji                        When siblings Judy and Peter discover an encha...\n",
       "Grumpier Old Men               A family wedding reignites the ancient feud be...\n",
       "Waiting to Exhale              Cheated on, mistreated and stepped on, the wom...\n",
       "Father of the Bride Part II    Just when George Banks has recovered from his ...\n",
       "Name: overview, dtype: object"
      ]
     },
     "execution_count": 95,
     "metadata": {},
     "output_type": "execute_result"
    }
   ],
   "source": [
    "# view sample movie descriptions\n",
    "movie_metadata['overview'].head(5)"
   ]
  },
  {
   "cell_type": "code",
   "execution_count": 96,
   "metadata": {
    "colab": {},
    "colab_type": "code",
    "id": "DiiwYdQj24GG"
   },
   "outputs": [],
   "source": [
    "# Create tf-idf matrix for text comparison\n",
    "tfidf = TfidfVectorizer(stop_words='english')\n",
    "tfidf_matrix = tfidf.fit_transform(movie_metadata['overview'])"
   ]
  },
  {
   "cell_type": "code",
   "execution_count": 97,
   "metadata": {
    "colab": {
     "base_uri": "https://localhost:8080/",
     "height": 560
    },
    "colab_type": "code",
    "id": "VU3Kr_OJ24GK",
    "outputId": "b6224e65-ad8d-4634-a896-c5f9676f7a00"
   },
   "outputs": [
    {
     "data": {
      "text/html": [
       "<div>\n",
       "<style scoped>\n",
       "    .dataframe tbody tr th:only-of-type {\n",
       "        vertical-align: middle;\n",
       "    }\n",
       "\n",
       "    .dataframe tbody tr th {\n",
       "        vertical-align: top;\n",
       "    }\n",
       "\n",
       "    .dataframe thead th {\n",
       "        text-align: right;\n",
       "    }\n",
       "</style>\n",
       "<table border=\"1\" class=\"dataframe\">\n",
       "  <thead>\n",
       "    <tr style=\"text-align: right;\">\n",
       "      <th></th>\n",
       "      <th>Toy Story</th>\n",
       "      <th>Jumanji</th>\n",
       "      <th>Grumpier Old Men</th>\n",
       "      <th>Waiting to Exhale</th>\n",
       "      <th>Father of the Bride Part II</th>\n",
       "      <th>Heat</th>\n",
       "      <th>Sabrina</th>\n",
       "      <th>Tom and Huck</th>\n",
       "      <th>Sudden Death</th>\n",
       "      <th>GoldenEye</th>\n",
       "      <th>...</th>\n",
       "      <th>The Final Storm</th>\n",
       "      <th>In a Heartbeat</th>\n",
       "      <th>Bloed, Zweet en Tranen</th>\n",
       "      <th>To Be Fat Like Me</th>\n",
       "      <th>Cadet Kelly</th>\n",
       "      <th>L'Homme à la tête de caoutchouc</th>\n",
       "      <th>Le locataire diabolique</th>\n",
       "      <th>L'Homme orchestre</th>\n",
       "      <th>Maa</th>\n",
       "      <th>Robin Hood</th>\n",
       "    </tr>\n",
       "  </thead>\n",
       "  <tbody>\n",
       "    <tr>\n",
       "      <th>Toy Story</th>\n",
       "      <td>1.000000</td>\n",
       "      <td>0.015385</td>\n",
       "      <td>0.000000</td>\n",
       "      <td>0.000000</td>\n",
       "      <td>0.000000</td>\n",
       "      <td>0.000000</td>\n",
       "      <td>0.000000</td>\n",
       "      <td>0.000000</td>\n",
       "      <td>0.000000</td>\n",
       "      <td>0.0</td>\n",
       "      <td>...</td>\n",
       "      <td>0.000000</td>\n",
       "      <td>0.023356</td>\n",
       "      <td>0.0</td>\n",
       "      <td>0.000000</td>\n",
       "      <td>0.0</td>\n",
       "      <td>0.000000</td>\n",
       "      <td>0.000000</td>\n",
       "      <td>0.000000</td>\n",
       "      <td>0.000000</td>\n",
       "      <td>0.0</td>\n",
       "    </tr>\n",
       "    <tr>\n",
       "      <th>Jumanji</th>\n",
       "      <td>0.015385</td>\n",
       "      <td>1.000000</td>\n",
       "      <td>0.046854</td>\n",
       "      <td>0.000000</td>\n",
       "      <td>0.000000</td>\n",
       "      <td>0.047646</td>\n",
       "      <td>0.000000</td>\n",
       "      <td>0.000000</td>\n",
       "      <td>0.098488</td>\n",
       "      <td>0.0</td>\n",
       "      <td>...</td>\n",
       "      <td>0.000000</td>\n",
       "      <td>0.000000</td>\n",
       "      <td>0.0</td>\n",
       "      <td>0.004192</td>\n",
       "      <td>0.0</td>\n",
       "      <td>0.014642</td>\n",
       "      <td>0.000000</td>\n",
       "      <td>0.000000</td>\n",
       "      <td>0.000000</td>\n",
       "      <td>0.0</td>\n",
       "    </tr>\n",
       "    <tr>\n",
       "      <th>Grumpier Old Men</th>\n",
       "      <td>0.000000</td>\n",
       "      <td>0.046854</td>\n",
       "      <td>1.000000</td>\n",
       "      <td>0.000000</td>\n",
       "      <td>0.023903</td>\n",
       "      <td>0.000000</td>\n",
       "      <td>0.000000</td>\n",
       "      <td>0.006463</td>\n",
       "      <td>0.000000</td>\n",
       "      <td>0.0</td>\n",
       "      <td>...</td>\n",
       "      <td>0.000000</td>\n",
       "      <td>0.000000</td>\n",
       "      <td>0.0</td>\n",
       "      <td>0.000000</td>\n",
       "      <td>0.0</td>\n",
       "      <td>0.015409</td>\n",
       "      <td>0.000000</td>\n",
       "      <td>0.000000</td>\n",
       "      <td>0.007101</td>\n",
       "      <td>0.0</td>\n",
       "    </tr>\n",
       "    <tr>\n",
       "      <th>Waiting to Exhale</th>\n",
       "      <td>0.000000</td>\n",
       "      <td>0.000000</td>\n",
       "      <td>0.000000</td>\n",
       "      <td>1.000000</td>\n",
       "      <td>0.000000</td>\n",
       "      <td>0.007417</td>\n",
       "      <td>0.000000</td>\n",
       "      <td>0.008592</td>\n",
       "      <td>0.000000</td>\n",
       "      <td>0.0</td>\n",
       "      <td>...</td>\n",
       "      <td>0.028460</td>\n",
       "      <td>0.000000</td>\n",
       "      <td>0.0</td>\n",
       "      <td>0.000000</td>\n",
       "      <td>0.0</td>\n",
       "      <td>0.000000</td>\n",
       "      <td>0.016324</td>\n",
       "      <td>0.006840</td>\n",
       "      <td>0.000000</td>\n",
       "      <td>0.0</td>\n",
       "    </tr>\n",
       "    <tr>\n",
       "      <th>Father of the Bride Part II</th>\n",
       "      <td>0.000000</td>\n",
       "      <td>0.000000</td>\n",
       "      <td>0.023903</td>\n",
       "      <td>0.000000</td>\n",
       "      <td>1.000000</td>\n",
       "      <td>0.000000</td>\n",
       "      <td>0.030866</td>\n",
       "      <td>0.000000</td>\n",
       "      <td>0.033213</td>\n",
       "      <td>0.0</td>\n",
       "      <td>...</td>\n",
       "      <td>0.000000</td>\n",
       "      <td>0.000000</td>\n",
       "      <td>0.0</td>\n",
       "      <td>0.022816</td>\n",
       "      <td>0.0</td>\n",
       "      <td>0.000000</td>\n",
       "      <td>0.000000</td>\n",
       "      <td>0.000000</td>\n",
       "      <td>0.012584</td>\n",
       "      <td>0.0</td>\n",
       "    </tr>\n",
       "    <tr>\n",
       "      <th>Heat</th>\n",
       "      <td>0.000000</td>\n",
       "      <td>0.047646</td>\n",
       "      <td>0.000000</td>\n",
       "      <td>0.007417</td>\n",
       "      <td>0.000000</td>\n",
       "      <td>1.000000</td>\n",
       "      <td>0.000000</td>\n",
       "      <td>0.000000</td>\n",
       "      <td>0.046349</td>\n",
       "      <td>0.0</td>\n",
       "      <td>...</td>\n",
       "      <td>0.000000</td>\n",
       "      <td>0.000000</td>\n",
       "      <td>0.0</td>\n",
       "      <td>0.000000</td>\n",
       "      <td>0.0</td>\n",
       "      <td>0.000000</td>\n",
       "      <td>0.015837</td>\n",
       "      <td>0.000000</td>\n",
       "      <td>0.000000</td>\n",
       "      <td>0.0</td>\n",
       "    </tr>\n",
       "    <tr>\n",
       "      <th>Sabrina</th>\n",
       "      <td>0.000000</td>\n",
       "      <td>0.000000</td>\n",
       "      <td>0.000000</td>\n",
       "      <td>0.000000</td>\n",
       "      <td>0.030866</td>\n",
       "      <td>0.000000</td>\n",
       "      <td>1.000000</td>\n",
       "      <td>0.000000</td>\n",
       "      <td>0.000000</td>\n",
       "      <td>0.0</td>\n",
       "      <td>...</td>\n",
       "      <td>0.000000</td>\n",
       "      <td>0.000000</td>\n",
       "      <td>0.0</td>\n",
       "      <td>0.028344</td>\n",
       "      <td>0.0</td>\n",
       "      <td>0.000000</td>\n",
       "      <td>0.105139</td>\n",
       "      <td>0.000000</td>\n",
       "      <td>0.000000</td>\n",
       "      <td>0.0</td>\n",
       "    </tr>\n",
       "    <tr>\n",
       "      <th>Tom and Huck</th>\n",
       "      <td>0.000000</td>\n",
       "      <td>0.000000</td>\n",
       "      <td>0.006463</td>\n",
       "      <td>0.008592</td>\n",
       "      <td>0.000000</td>\n",
       "      <td>0.000000</td>\n",
       "      <td>0.000000</td>\n",
       "      <td>1.000000</td>\n",
       "      <td>0.000000</td>\n",
       "      <td>0.0</td>\n",
       "      <td>...</td>\n",
       "      <td>0.164136</td>\n",
       "      <td>0.071019</td>\n",
       "      <td>0.0</td>\n",
       "      <td>0.000000</td>\n",
       "      <td>0.0</td>\n",
       "      <td>0.000000</td>\n",
       "      <td>0.000000</td>\n",
       "      <td>0.000000</td>\n",
       "      <td>0.006162</td>\n",
       "      <td>0.0</td>\n",
       "    </tr>\n",
       "    <tr>\n",
       "      <th>Sudden Death</th>\n",
       "      <td>0.000000</td>\n",
       "      <td>0.098488</td>\n",
       "      <td>0.000000</td>\n",
       "      <td>0.000000</td>\n",
       "      <td>0.033213</td>\n",
       "      <td>0.046349</td>\n",
       "      <td>0.000000</td>\n",
       "      <td>0.000000</td>\n",
       "      <td>1.000000</td>\n",
       "      <td>0.0</td>\n",
       "      <td>...</td>\n",
       "      <td>0.000000</td>\n",
       "      <td>0.000000</td>\n",
       "      <td>0.0</td>\n",
       "      <td>0.000000</td>\n",
       "      <td>0.0</td>\n",
       "      <td>0.000000</td>\n",
       "      <td>0.000000</td>\n",
       "      <td>0.000000</td>\n",
       "      <td>0.014963</td>\n",
       "      <td>0.0</td>\n",
       "    </tr>\n",
       "    <tr>\n",
       "      <th>GoldenEye</th>\n",
       "      <td>0.000000</td>\n",
       "      <td>0.000000</td>\n",
       "      <td>0.000000</td>\n",
       "      <td>0.000000</td>\n",
       "      <td>0.000000</td>\n",
       "      <td>0.000000</td>\n",
       "      <td>0.000000</td>\n",
       "      <td>0.000000</td>\n",
       "      <td>0.000000</td>\n",
       "      <td>1.0</td>\n",
       "      <td>...</td>\n",
       "      <td>0.043867</td>\n",
       "      <td>0.000000</td>\n",
       "      <td>0.0</td>\n",
       "      <td>0.000000</td>\n",
       "      <td>0.0</td>\n",
       "      <td>0.076444</td>\n",
       "      <td>0.000000</td>\n",
       "      <td>0.016266</td>\n",
       "      <td>0.000000</td>\n",
       "      <td>0.0</td>\n",
       "    </tr>\n",
       "  </tbody>\n",
       "</table>\n",
       "<p>10 rows × 21604 columns</p>\n",
       "</div>"
      ],
      "text/plain": [
       "                             Toy Story   Jumanji  Grumpier Old Men  \\\n",
       "Toy Story                     1.000000  0.015385          0.000000   \n",
       "Jumanji                       0.015385  1.000000          0.046854   \n",
       "Grumpier Old Men              0.000000  0.046854          1.000000   \n",
       "Waiting to Exhale             0.000000  0.000000          0.000000   \n",
       "Father of the Bride Part II   0.000000  0.000000          0.023903   \n",
       "Heat                          0.000000  0.047646          0.000000   \n",
       "Sabrina                       0.000000  0.000000          0.000000   \n",
       "Tom and Huck                  0.000000  0.000000          0.006463   \n",
       "Sudden Death                  0.000000  0.098488          0.000000   \n",
       "GoldenEye                     0.000000  0.000000          0.000000   \n",
       "\n",
       "                             Waiting to Exhale  Father of the Bride Part II  \\\n",
       "Toy Story                             0.000000                     0.000000   \n",
       "Jumanji                               0.000000                     0.000000   \n",
       "Grumpier Old Men                      0.000000                     0.023903   \n",
       "Waiting to Exhale                     1.000000                     0.000000   \n",
       "Father of the Bride Part II           0.000000                     1.000000   \n",
       "Heat                                  0.007417                     0.000000   \n",
       "Sabrina                               0.000000                     0.030866   \n",
       "Tom and Huck                          0.008592                     0.000000   \n",
       "Sudden Death                          0.000000                     0.033213   \n",
       "GoldenEye                             0.000000                     0.000000   \n",
       "\n",
       "                                 Heat   Sabrina  Tom and Huck  Sudden Death  \\\n",
       "Toy Story                    0.000000  0.000000      0.000000      0.000000   \n",
       "Jumanji                      0.047646  0.000000      0.000000      0.098488   \n",
       "Grumpier Old Men             0.000000  0.000000      0.006463      0.000000   \n",
       "Waiting to Exhale            0.007417  0.000000      0.008592      0.000000   \n",
       "Father of the Bride Part II  0.000000  0.030866      0.000000      0.033213   \n",
       "Heat                         1.000000  0.000000      0.000000      0.046349   \n",
       "Sabrina                      0.000000  1.000000      0.000000      0.000000   \n",
       "Tom and Huck                 0.000000  0.000000      1.000000      0.000000   \n",
       "Sudden Death                 0.046349  0.000000      0.000000      1.000000   \n",
       "GoldenEye                    0.000000  0.000000      0.000000      0.000000   \n",
       "\n",
       "                             GoldenEye  ...  The Final Storm  In a Heartbeat  \\\n",
       "Toy Story                          0.0  ...         0.000000        0.023356   \n",
       "Jumanji                            0.0  ...         0.000000        0.000000   \n",
       "Grumpier Old Men                   0.0  ...         0.000000        0.000000   \n",
       "Waiting to Exhale                  0.0  ...         0.028460        0.000000   \n",
       "Father of the Bride Part II        0.0  ...         0.000000        0.000000   \n",
       "Heat                               0.0  ...         0.000000        0.000000   \n",
       "Sabrina                            0.0  ...         0.000000        0.000000   \n",
       "Tom and Huck                       0.0  ...         0.164136        0.071019   \n",
       "Sudden Death                       0.0  ...         0.000000        0.000000   \n",
       "GoldenEye                          1.0  ...         0.043867        0.000000   \n",
       "\n",
       "                             Bloed, Zweet en Tranen  To Be Fat Like Me  \\\n",
       "Toy Story                                       0.0           0.000000   \n",
       "Jumanji                                         0.0           0.004192   \n",
       "Grumpier Old Men                                0.0           0.000000   \n",
       "Waiting to Exhale                               0.0           0.000000   \n",
       "Father of the Bride Part II                     0.0           0.022816   \n",
       "Heat                                            0.0           0.000000   \n",
       "Sabrina                                         0.0           0.028344   \n",
       "Tom and Huck                                    0.0           0.000000   \n",
       "Sudden Death                                    0.0           0.000000   \n",
       "GoldenEye                                       0.0           0.000000   \n",
       "\n",
       "                             Cadet Kelly  L'Homme à la tête de caoutchouc  \\\n",
       "Toy Story                            0.0                         0.000000   \n",
       "Jumanji                              0.0                         0.014642   \n",
       "Grumpier Old Men                     0.0                         0.015409   \n",
       "Waiting to Exhale                    0.0                         0.000000   \n",
       "Father of the Bride Part II          0.0                         0.000000   \n",
       "Heat                                 0.0                         0.000000   \n",
       "Sabrina                              0.0                         0.000000   \n",
       "Tom and Huck                         0.0                         0.000000   \n",
       "Sudden Death                         0.0                         0.000000   \n",
       "GoldenEye                            0.0                         0.076444   \n",
       "\n",
       "                             Le locataire diabolique  L'Homme orchestre  \\\n",
       "Toy Story                                   0.000000           0.000000   \n",
       "Jumanji                                     0.000000           0.000000   \n",
       "Grumpier Old Men                            0.000000           0.000000   \n",
       "Waiting to Exhale                           0.016324           0.006840   \n",
       "Father of the Bride Part II                 0.000000           0.000000   \n",
       "Heat                                        0.015837           0.000000   \n",
       "Sabrina                                     0.105139           0.000000   \n",
       "Tom and Huck                                0.000000           0.000000   \n",
       "Sudden Death                                0.000000           0.000000   \n",
       "GoldenEye                                   0.000000           0.016266   \n",
       "\n",
       "                                  Maa  Robin Hood  \n",
       "Toy Story                    0.000000         0.0  \n",
       "Jumanji                      0.000000         0.0  \n",
       "Grumpier Old Men             0.007101         0.0  \n",
       "Waiting to Exhale            0.000000         0.0  \n",
       "Father of the Bride Part II  0.012584         0.0  \n",
       "Heat                         0.000000         0.0  \n",
       "Sabrina                      0.000000         0.0  \n",
       "Tom and Huck                 0.006162         0.0  \n",
       "Sudden Death                 0.014963         0.0  \n",
       "GoldenEye                    0.000000         0.0  \n",
       "\n",
       "[10 rows x 21604 columns]"
      ]
     },
     "execution_count": 97,
     "metadata": {},
     "output_type": "execute_result"
    }
   ],
   "source": [
    "# Compute cosine similarity between all movie-descriptions\n",
    "similarity = cosine_similarity(tfidf_matrix)\n",
    "similarity_df = pd.DataFrame(similarity, \n",
    "                             index=movie_metadata.index.values, \n",
    "                             columns=movie_metadata.index.values)\n",
    "similarity_df.head(10)"
   ]
  },
  {
   "cell_type": "code",
   "execution_count": 98,
   "metadata": {
    "colab": {
     "base_uri": "https://localhost:8080/",
     "height": 151
    },
    "colab_type": "code",
    "id": "Tm2sEuOs24GN",
    "outputId": "8d53fd80-f9cd-40bf-8446-e4d5651eac9e"
   },
   "outputs": [
    {
     "name": "stdout",
     "output_type": "stream",
     "text": [
      "\n",
      "\n",
      "Top Recommended Movies for: Batman Begins are:-\n",
      " ['Batman Unmasked: The Psychology of the Dark Knight'\n",
      " 'Batman: The Dark Knight Returns, Part 1' 'Batman: Bad Blood'\n",
      " 'Batman: Year One' 'Batman: Under the Red Hood'\n",
      " 'Batman Beyond: The Movie' 'Batman Forever'\n",
      " 'Batman: Mask of the Phantasm' 'Batman & Bill' 'Batman']\n"
     ]
    }
   ],
   "source": [
    "# movie list \n",
    "movie_list = similarity_df.columns.values\n",
    "\n",
    "# sample movie\n",
    "movie = 'Batman Begins'\n",
    "\n",
    "# top recommendation movie count\n",
    "top_n = 10\n",
    "\n",
    "# get movie similarity records\n",
    "movie_sim = similarity_df[similarity_df.index == movie].values[0]\n",
    "\n",
    "# get movies sorted by similarity\n",
    "sorted_movie_ids = np.argsort(movie_sim)[::-1]\n",
    "\n",
    "# get recommended movie names\n",
    "recommended_movies = movie_list[sorted_movie_ids[1:top_n+1]]\n",
    "\n",
    "print('\\n\\nTop Recommended Movies for:', movie, 'are:-\\n', recommended_movies)"
   ]
  },
  {
   "cell_type": "markdown",
   "metadata": {
    "colab_type": "text",
    "id": "50vzONVBqkTu"
   },
   "source": [
    "__Your turn:__ Create a function as defined below, __`content_movie_recommender()`__ which can take in sample movie names and print a list of top N recommended movies"
   ]
  },
  {
   "cell_type": "code",
   "execution_count": 100,
   "metadata": {
    "colab": {},
    "colab_type": "code",
    "id": "t5cyFCvp24GT"
   },
   "outputs": [],
   "source": [
    "def content_movie_recommender(input_movie, similarity_database=similarity_df, movie_database_list=movie_list, top_n=10):\n",
    "    \n",
    "    # get movie similarity records\n",
    "    movie_sim = similarity_database[similarity_database.index == input_movie].values[0]\n",
    "\n",
    "    # get movies sorted by similarity\n",
    "    sorted_movie_ids = np.argsort(movie_sim)[::-1]\n",
    "\n",
    "    # get recommended movie names\n",
    "    recommended_movies = movie_database_list[sorted_movie_ids[1:top_n+1]]\n",
    "\n",
    "    print('\\n\\nTop Recommended Movies for:', input_movie, 'are:-\\n', recommended_movies)"
   ]
  },
  {
   "cell_type": "markdown",
   "metadata": {
    "colab_type": "text",
    "id": "gR0sKcxIqxql"
   },
   "source": [
    "__Your turn:__ Test your function below on the given sample movies"
   ]
  },
  {
   "cell_type": "code",
   "execution_count": 103,
   "metadata": {
    "colab": {
     "base_uri": "https://localhost:8080/",
     "height": 571
    },
    "colab_type": "code",
    "id": "L0tUINS_24GV",
    "outputId": "f08f8eba-2b5e-41af-f0df-ad80821019a1"
   },
   "outputs": [
    {
     "name": "stdout",
     "output_type": "stream",
     "text": [
      "\n",
      "\n",
      "Top Recommended Movies for: Captain America are:-\n",
      " ['Iron Man & Captain America: Heroes United'\n",
      " 'Captain America: The First Avenger' 'Team Thor' 'Education for Death'\n",
      " 'Captain America: The Winter Soldier' '49th Parallel' 'Ultimate Avengers'\n",
      " 'Philadelphia Experiment II' 'Vice Versa' 'The Lair of the White Worm']\n",
      "\n",
      "\n",
      "Top Recommended Movies for: The Terminator are:-\n",
      " ['Terminator 2: Judgment Day' 'Terminator Salvation'\n",
      " 'Terminator 3: Rise of the Machines' 'Silent House' 'They Wait'\n",
      " 'Another World' 'Teenage Caveman' 'Appleseed Alpha' 'Respire'\n",
      " 'Just Married']\n",
      "\n",
      "\n",
      "Top Recommended Movies for: The Exorcist are:-\n",
      " ['Exorcist II: The Heretic' 'Domestic Disturbance' 'Damien: Omen II'\n",
      " 'The Exorcist III' 'Like Sunday, Like Rain' 'People Like Us'\n",
      " 'Quand on a 17 Ans' \"Don't Knock Twice\" 'Zero Day' 'Brick Mansions']\n",
      "\n",
      "\n",
      "Top Recommended Movies for: The Hunger Games: Mockingjay - Part 1 are:-\n",
      " ['The Hunger Games: Catching Fire' 'The Hunger Games: Mockingjay - Part 2'\n",
      " 'Last Train from Gun Hill' 'The Hunger Games'\n",
      " 'Will Success Spoil Rock Hunter?' 'Circumstance' 'Man of Steel'\n",
      " 'The Amityville Horror' 'Pregnancy Pact' 'Bananas']\n",
      "\n",
      "\n",
      "Top Recommended Movies for: The Blair Witch Project are:-\n",
      " ['Book of Shadows: Blair Witch 2' 'Freakonomics' 'Le Bal des actrices'\n",
      " 'Greystone Park' 'Willow Creek' 'Addio zio Tom' 'The Conspiracy'\n",
      " 'A Haunted House' 'Tonight She Comes' 'Curse of the Blair Witch']\n"
     ]
    }
   ],
   "source": [
    "sample_movies = ['Captain America', 'The Terminator', 'The Exorcist', \n",
    "                 'The Hunger Games: Mockingjay - Part 1', 'The Blair Witch Project']\n",
    "                 \n",
    "for movie in sample_movies:\n",
    "    content_movie_recommender(movie, similarity_database=similarity_df, movie_database_list=movie_list, top_n=10)"
   ]
  },
  {
   "cell_type": "markdown",
   "metadata": {
    "colab_type": "text",
    "id": "r3fofy8frA2k"
   },
   "source": [
    "## 8.3: Collaborative filtering Recommendation Systems"
   ]
  },
  {
   "cell_type": "markdown",
   "metadata": {
    "colab_type": "text",
    "id": "j9Su_sBArKWX"
   },
   "source": [
    "### Collaborative Filtering\n",
    "Primarily recommends content to you based on inputs or actions from other people(say your friends).\n",
    "![collaborative filtering](./images/collaborative-filtering.png)\n",
    "\n"
   ]
  },
  {
   "cell_type": "markdown",
   "metadata": {
    "colab_type": "text",
    "id": "YxRJfswzrN5A"
   },
   "source": [
    "### What is the intuition behind this?\n",
    "\n",
    "*   **Personal tastes are correlated**\n",
    "\n",
    "\n",
    "        1.   If Alice and Bob both like X and Alice likes Y then Bob is more likely to like Y\n",
    "        2.   especially (perhaps) if Bob knows Alice"
   ]
  },
  {
   "cell_type": "markdown",
   "metadata": {
    "colab_type": "text",
    "id": "TUoI6lh6rSlG"
   },
   "source": [
    "Types of Collaborative Filtering:\n",
    "\n",
    "\n",
    "1.   Neighborhood methods\n",
    "2.   Matrix Factorization (Latent Factor) methods\n",
    "\n"
   ]
  },
  {
   "cell_type": "markdown",
   "metadata": {
    "colab_type": "text",
    "id": "23PnmU-FraW8"
   },
   "source": [
    "Assume you dont have users. Rather you have users' characterisics and properties(as shown in image).![Latent Factor method](https://miro.medium.com/max/876/1*AQEx38Wdo5H0WTSjRfAWtA.png)\n",
    "\n",
    "For example, a person who is brave-hearted is more likely to be interested in dark, horrific movies rather than someone who is soft and compassionate.\n",
    "* ^This is just an example(not in any literal sense)"
   ]
  },
  {
   "cell_type": "markdown",
   "metadata": {
    "colab_type": "text",
    "id": "fidNZWZXrdmt"
   },
   "source": [
    "So, once you have the properties and characteristics of each user, we call them as lower-dimensional features of the users. Similarly, we can have lower-dimensional features for movies(say its 10% action, 20% romance ...)\n",
    "\n",
    "With these features, we represent users and movies in a low dimensional space describing their properties. **This is called as the latent space.**\n",
    "\n",
    "We then recommend a movie based on its proximity to the user in the latent space."
   ]
  },
  {
   "cell_type": "markdown",
   "metadata": {
    "colab_type": "text",
    "id": "InGsgab1rhVT"
   },
   "source": [
    "### The problem:\n",
    "\n",
    "The problem we try to address here is the rating prediction problem. \n",
    "Say, we try to guess how much Alice would rate a movie and suggest those movies that we think Alice will rate higher."
   ]
  },
  {
   "cell_type": "markdown",
   "metadata": {
    "colab_type": "text",
    "id": "NUDZRCzhrijy"
   },
   "source": [
    "### Interesting...But, how do we predict how much Alice would rate a movie?\n",
    "\n",
    " The data we have is a rating history: ratings of users for items in the interval [1,5]. We can put all this data into a sparse matrix called R:\n",
    " \n",
    " $R = \n",
    " \\begin{pmatrix}\n",
    "  3 & ? &? \\\\ \n",
    "  ? & 4 & 5 \\\\\n",
    "  ? & ? & 2 \\\\\n",
    "  2 & 3 & ?\n",
    " \\end{pmatrix}\n",
    " \\begin{matrix}\n",
    "  Alice \\\\ \n",
    "  Bob \\\\\n",
    "  Chand \\\\\n",
    "  Deb\n",
    " \\end{matrix}\n",
    " $\n",
    "\n",
    " Each row of the matrix corresponds to a given user, and each column corresponds to a given item. For instance here, Alice has rated the first movie with a rating of 3, and Chand has rated the third item with a rating of 2.\n",
    "\n",
    " The matrix R is sparse (more than 99% of the entries are missing), and our goal is to predict the missing entries, i.e. predict the ?.\n"
   ]
  },
  {
   "cell_type": "markdown",
   "metadata": {
    "colab_type": "text",
    "id": "i_MeURMvrniQ"
   },
   "source": [
    "### Anatomy of the Rating matrix: LATENT SPACE\n",
    "Before predicting ratings, lets step back and understand the latent space more! \\\\\n",
    " In this Rating matrix, Rows represent Users and Columns represent Movies.\n",
    " $R = \n",
    "  \\begin{pmatrix}\n",
    "  --Alice-- \\\\ \n",
    "  --Bob-- \\\\\n",
    "  --Chand-- \\\\\n",
    "  --Deb--\n",
    " \\end{pmatrix}\n",
    " $\n",
    "\n",
    " In latent space(low dimensional features - fanatics), for instance, Alice could be defined as a little bit of an action fan, a little bit of a comedy fan, a lot of a romance fan, etc. As for Bob, he could be more keen on action movies:\n",
    "\n",
    "```\n",
    "Alice = 10% Action fan + 10% Comedy fan + 50% Romance fan + ⋯ \\\\\n",
    "Bob = 50% Action fan + 30% Comedy fan + 10% Romance fan + ⋯ \\\\\n",
    ": \\\\\n",
    "Zoe = ⋯\n",
    "```\n",
    "\n",
    "What would happen if we transposed our rating matrix? Instead of having users in the rows, we would now have movies, defined as their ratings.\n",
    "\n",
    "$\n",
    "R ^ T = \n",
    "  \\begin{pmatrix}\n",
    "  --Avengers-- \\\\ \n",
    "  --Matrix-- \\\\\n",
    "  --Inception-- \\\\\n",
    "  --Sherlock--\n",
    " \\end{pmatrix}\n",
    "$\n",
    "\n",
    "In the latent space, we will associate a semantic meaning behind each of the  movies, and these semantic meanings(say movie characteristics) can build back all of our original movies."
   ]
  },
  {
   "cell_type": "markdown",
   "metadata": {
    "colab_type": "text",
    "id": "vZ_r91x1rr65"
   },
   "source": [
    "### EXAMPLE\n",
    "In the below example, we convert users and movies to vectors(embeddings) and do dot-product to predict R\n",
    "\n",
    "user vector - U \\\\\n",
    "movies vector - V \\\\\n",
    "$\n",
    "R = U.V\n",
    "$"
   ]
  },
  {
   "cell_type": "markdown",
   "metadata": {
    "colab_type": "text",
    "id": "_Ynl-aVuf3Dy"
   },
   "source": [
    "### Additional hints:\n",
    "\n",
    "use dataframe map - [map](https://pandas.pydata.org/pandas-docs/stable/reference/api/pandas.Series.map.html)\n",
    "\n",
    "Create tensor - [Input](https://www.tensorflow.org/api_docs/python/tf/keras/Input#view-aliases)\n",
    "\n",
    "Create Embedding - [Embedding](https://www.tensorflow.org/api_docs/python/tf/keras/layers/Embedding)\n",
    "\n",
    "Dot product - [Dot](https://www.tensorflow.org/api_docs/python/tf/keras/layers/Dot)\n",
    "\n",
    "Fit model : \n",
    "[fit](https://www.tensorflow.org/api_docs/python/tf/keras/Model#fit)\n",
    "\n",
    "Measure Performance: [mean_squared_error](https://scikit-learn.org/stable/modules/generated/sklearn.metrics.mean_squared_error.html)"
   ]
  },
  {
   "cell_type": "markdown",
   "metadata": {
    "colab_type": "text",
    "id": "wpPZfOrDs-Qs"
   },
   "source": [
    "### Q8.3: Building a Deep Learning Matrix Factorization based Collaborative Filtering Recommendation System\n",
    "\n",
    "__Your Turn:__ Fill in the necessary blank code snippets in the following sections to train your own DL collaborative  filtering system\n",
    "\n",
    "#### Create Configuration Parameters"
   ]
  },
  {
   "cell_type": "code",
   "execution_count": 104,
   "metadata": {
    "colab": {},
    "colab_type": "code",
    "id": "AUz12Y_Z24Gh"
   },
   "outputs": [],
   "source": [
    "# Create user and movie-id mapping to convert to numbers\n",
    "user_id_mapping = {id:i for i, id in enumerate(df_filtered['User'].unique())}\n",
    "movie_id_mapping = {id:i for i, id in enumerate(df_filtered['Movie'].unique())}"
   ]
  },
  {
   "cell_type": "code",
   "execution_count": 105,
   "metadata": {
    "colab": {},
    "colab_type": "code",
    "id": "4vjVBUM724Gj"
   },
   "outputs": [],
   "source": [
    "# use dataframe map function to map users & movies to mapped ids based on above mapping\n",
    "train_user_data = df_train['User'].map(user_id_mapping)\n",
    "train_movie_data = df_train['Movie'].map(movie_id_mapping)"
   ]
  },
  {
   "cell_type": "code",
   "execution_count": 106,
   "metadata": {
    "colab": {},
    "colab_type": "code",
    "id": "_lpKylKD24Gl"
   },
   "outputs": [],
   "source": [
    "# do the same for test data\n",
    "test_user_data = df_test['User'].map(user_id_mapping)\n",
    "test_movie_data = df_test['Movie'].map(movie_id_mapping)"
   ]
  },
  {
   "cell_type": "code",
   "execution_count": 107,
   "metadata": {
    "colab": {},
    "colab_type": "code",
    "id": "GME8vJLp24Gn"
   },
   "outputs": [],
   "source": [
    "# Get input variable-sizes\n",
    "users = len(user_id_mapping)\n",
    "movies = len(movie_id_mapping)\n",
    "embedding_size = 100"
   ]
  },
  {
   "cell_type": "markdown",
   "metadata": {
    "colab_type": "text",
    "id": "enO8VNVP24Gp"
   },
   "source": [
    "#### Construct Deep Learning Model Architecture"
   ]
  },
  {
   "cell_type": "code",
   "execution_count": 109,
   "metadata": {
    "colab": {},
    "colab_type": "code",
    "id": "GSXpYgst24Gq"
   },
   "outputs": [],
   "source": [
    "# use Input() to create tensors for - 'user' and 'movie'\n",
    "user_id_input = Input(shape=(1,), name='user')\n",
    "movie_id_input = Input(shape=(1,), name='movie')"
   ]
  },
  {
   "cell_type": "code",
   "execution_count": 110,
   "metadata": {
    "colab": {},
    "colab_type": "code",
    "id": "gdV4lJri24Gs"
   },
   "outputs": [],
   "source": [
    "# Create embedding layer for users \n",
    "user_embedding = Embedding(output_dim=embedding_size, \n",
    "                           input_dim=users,\n",
    "                           input_length=1, \n",
    "                           name='user_embedding')(user_id_input)\n",
    "\n",
    "# create embedding layer for movies just like users\n",
    "movie_embedding = Embedding(output_dim=embedding_size, \n",
    "                           input_dim=movies,\n",
    "                           input_length=1, \n",
    "                           name='movie_embedding')(movie_id_input)"
   ]
  },
  {
   "cell_type": "code",
   "execution_count": 111,
   "metadata": {
    "colab": {},
    "colab_type": "code",
    "id": "cLpdb0pu24Gu"
   },
   "outputs": [],
   "source": [
    "# Reshape the embedding layers\n",
    "user_vector = Reshape([embedding_size])(user_embedding)\n",
    "movie_vector = Reshape([embedding_size])(movie_embedding)"
   ]
  },
  {
   "cell_type": "code",
   "execution_count": 112,
   "metadata": {
    "colab": {},
    "colab_type": "code",
    "id": "S-RxXy5B24Gw"
   },
   "outputs": [],
   "source": [
    "# Compute dot-product of reshaped embedding layers as prediction\n",
    "y = Dot(1, normalize=False)([user_vector, movie_vector])"
   ]
  },
  {
   "cell_type": "code",
   "execution_count": 113,
   "metadata": {
    "colab": {
     "base_uri": "https://localhost:8080/",
     "height": 403
    },
    "colab_type": "code",
    "id": "5wWeeSfR24Gy",
    "outputId": "cc2f5e4d-e795-4514-9bf1-804cab954ff3"
   },
   "outputs": [
    {
     "name": "stdout",
     "output_type": "stream",
     "text": [
      "Model: \"model\"\n",
      "__________________________________________________________________________________________________\n",
      " Layer (type)                Output Shape                 Param #   Connected to                  \n",
      "==================================================================================================\n",
      " user (InputLayer)           [(None, 1)]                  0         []                            \n",
      "                                                                                                  \n",
      " movie (InputLayer)          [(None, 1)]                  0         []                            \n",
      "                                                                                                  \n",
      " user_embedding (Embedding)  (None, 1, 100)               2082800   ['user[0][0]']                \n",
      "                                                                                                  \n",
      " movie_embedding (Embedding  (None, 1, 100)               174100    ['movie[0][0]']               \n",
      " )                                                                                                \n",
      "                                                                                                  \n",
      " reshape (Reshape)           (None, 100)                  0         ['user_embedding[0][0]']      \n",
      "                                                                                                  \n",
      " reshape_1 (Reshape)         (None, 100)                  0         ['movie_embedding[0][0]']     \n",
      "                                                                                                  \n",
      " dot (Dot)                   (None, 1)                    0         ['reshape[0][0]',             \n",
      "                                                                     'reshape_1[0][0]']           \n",
      "                                                                                                  \n",
      "==================================================================================================\n",
      "Total params: 2256900 (8.61 MB)\n",
      "Trainable params: 2256900 (8.61 MB)\n",
      "Non-trainable params: 0 (0.00 Byte)\n",
      "__________________________________________________________________________________________________\n"
     ]
    }
   ],
   "source": [
    "# Setup model\n",
    "model = Model(inputs=[user_id_input, movie_id_input], outputs=y)\n",
    "model.compile(loss='mse', optimizer='adam')\n",
    "model.summary()"
   ]
  },
  {
   "cell_type": "markdown",
   "metadata": {
    "colab_type": "text",
    "id": "g0COamq25owq"
   },
   "source": [
    "#### Train and Test the Model"
   ]
  },
  {
   "cell_type": "code",
   "execution_count": 114,
   "metadata": {
    "colab": {
     "base_uri": "https://localhost:8080/",
     "height": 218
    },
    "colab_type": "code",
    "id": "nK6aBtQN24Gz",
    "outputId": "7c729304-f1aa-4e8d-a3e6-aa4a82ebfd0e"
   },
   "outputs": [
    {
     "name": "stdout",
     "output_type": "stream",
     "text": [
      "Epoch 1/5\n",
      "5125/5125 [==============================] - 198s 38ms/step - loss: 2.0868 - val_loss: 0.7712\n",
      "Epoch 2/5\n",
      "5125/5125 [==============================] - 191s 37ms/step - loss: 0.7260 - val_loss: 0.7196\n",
      "Epoch 3/5\n",
      "5125/5125 [==============================] - 188s 37ms/step - loss: 0.6620 - val_loss: 0.6976\n",
      "Epoch 4/5\n",
      "5125/5125 [==============================] - 188s 37ms/step - loss: 0.6051 - val_loss: 0.6939\n",
      "Epoch 5/5\n",
      "5125/5125 [==============================] - 190s 37ms/step - loss: 0.5466 - val_loss: 0.7045\n"
     ]
    },
    {
     "data": {
      "text/plain": [
       "<keras.src.callbacks.History at 0x21a475ab150>"
      ]
     },
     "execution_count": 114,
     "metadata": {},
     "output_type": "execute_result"
    }
   ],
   "source": [
    "# Fit model\n",
    "X = [train_user_data, train_movie_data]\n",
    "y = df_train['Rating']\n",
    "\n",
    "batch_size = 1024\n",
    "epochs = 5\n",
    "validation_split = 0.1\n",
    "\n",
    "model.fit(X, y,\n",
    "          batch_size=batch_size, \n",
    "          epochs=epochs,\n",
    "          validation_split=validation_split,\n",
    "          shuffle=True,\n",
    "          verbose=1)"
   ]
  },
  {
   "cell_type": "code",
   "execution_count": 115,
   "metadata": {
    "colab": {
     "base_uri": "https://localhost:8080/",
     "height": 67
    },
    "colab_type": "code",
    "id": "RZLw4PX3AUkz",
    "outputId": "36987db3-b604-400f-e419-79a61f602ef1"
   },
   "outputs": [
    {
     "name": "stdout",
     "output_type": "stream",
     "text": [
      "3125/3125 [==============================] - 8s 2ms/step\n",
      "\n",
      "\n",
      "Testing Result With DL Matrix-Factorization: 0.8349 RMSE\n"
     ]
    }
   ],
   "source": [
    "# Test model by making predictions on test data\n",
    "y_pred = model.predict([test_user_data, test_movie_data]).ravel()\n",
    "# clip upper and lower ratings\n",
    "y_pred = list(map(lambda x: 1.0 if x < 1 else 5.0 if x > 5.0 else x, y_pred))\n",
    "# get true labels\n",
    "y_true = df_test['Rating'].values\n",
    "\n",
    "#  Compute RMSE\n",
    "rmse = np.sqrt(mean_squared_error(y_pred=y_pred, y_true=y_true))\n",
    "print('\\n\\nTesting Result With DL Matrix-Factorization: {:.4f} RMSE'.format(rmse))"
   ]
  },
  {
   "cell_type": "code",
   "execution_count": 116,
   "metadata": {
    "colab": {
     "base_uri": "https://localhost:8080/",
     "height": 639
    },
    "colab_type": "code",
    "id": "oAX4MABlCm-9",
    "outputId": "e041f405-8fe7-46ce-bcb1-d83de061de7f"
   },
   "outputs": [
    {
     "data": {
      "text/html": [
       "<div>\n",
       "<style scoped>\n",
       "    .dataframe tbody tr th:only-of-type {\n",
       "        vertical-align: middle;\n",
       "    }\n",
       "\n",
       "    .dataframe tbody tr th {\n",
       "        vertical-align: top;\n",
       "    }\n",
       "\n",
       "    .dataframe thead th {\n",
       "        text-align: right;\n",
       "    }\n",
       "</style>\n",
       "<table border=\"1\" class=\"dataframe\">\n",
       "  <thead>\n",
       "    <tr style=\"text-align: right;\">\n",
       "      <th></th>\n",
       "      <th>User ID</th>\n",
       "      <th>Movie ID</th>\n",
       "      <th>Movie Name</th>\n",
       "      <th>Predicted Rating</th>\n",
       "      <th>Actual Rating</th>\n",
       "    </tr>\n",
       "  </thead>\n",
       "  <tbody>\n",
       "    <tr>\n",
       "      <th>0</th>\n",
       "      <td>19837</td>\n",
       "      <td>94</td>\n",
       "      <td>Dona Herlinda and Her Son</td>\n",
       "      <td>2.9</td>\n",
       "      <td>2.0</td>\n",
       "    </tr>\n",
       "    <tr>\n",
       "      <th>1</th>\n",
       "      <td>19216</td>\n",
       "      <td>694</td>\n",
       "      <td>Koma</td>\n",
       "      <td>3.1</td>\n",
       "      <td>3.0</td>\n",
       "    </tr>\n",
       "    <tr>\n",
       "      <th>2</th>\n",
       "      <td>16553</td>\n",
       "      <td>210</td>\n",
       "      <td>The Agronomist</td>\n",
       "      <td>3.8</td>\n",
       "      <td>4.0</td>\n",
       "    </tr>\n",
       "    <tr>\n",
       "      <th>3</th>\n",
       "      <td>15720</td>\n",
       "      <td>693</td>\n",
       "      <td>When Dinosaurs Roamed America</td>\n",
       "      <td>2.6</td>\n",
       "      <td>3.0</td>\n",
       "    </tr>\n",
       "    <tr>\n",
       "      <th>4</th>\n",
       "      <td>4202</td>\n",
       "      <td>370</td>\n",
       "      <td>The Trouble with Angels</td>\n",
       "      <td>3.7</td>\n",
       "      <td>4.0</td>\n",
       "    </tr>\n",
       "    <tr>\n",
       "      <th>5</th>\n",
       "      <td>1972</td>\n",
       "      <td>437</td>\n",
       "      <td>Bean: The Movie</td>\n",
       "      <td>2.9</td>\n",
       "      <td>2.0</td>\n",
       "    </tr>\n",
       "    <tr>\n",
       "      <th>6</th>\n",
       "      <td>6447</td>\n",
       "      <td>314</td>\n",
       "      <td>Combat! Season 3: Operation 2</td>\n",
       "      <td>3.9</td>\n",
       "      <td>4.0</td>\n",
       "    </tr>\n",
       "    <tr>\n",
       "      <th>7</th>\n",
       "      <td>16397</td>\n",
       "      <td>436</td>\n",
       "      <td>Beyblade: Fierce Battle</td>\n",
       "      <td>3.2</td>\n",
       "      <td>4.0</td>\n",
       "    </tr>\n",
       "    <tr>\n",
       "      <th>8</th>\n",
       "      <td>1714</td>\n",
       "      <td>996</td>\n",
       "      <td>Miracle of the White Stallions</td>\n",
       "      <td>2.5</td>\n",
       "      <td>4.0</td>\n",
       "    </tr>\n",
       "    <tr>\n",
       "      <th>9</th>\n",
       "      <td>6205</td>\n",
       "      <td>335</td>\n",
       "      <td>The Driver</td>\n",
       "      <td>3.7</td>\n",
       "      <td>3.0</td>\n",
       "    </tr>\n",
       "    <tr>\n",
       "      <th>10</th>\n",
       "      <td>10893</td>\n",
       "      <td>989</td>\n",
       "      <td>Meet John Doe</td>\n",
       "      <td>2.4</td>\n",
       "      <td>2.0</td>\n",
       "    </tr>\n",
       "    <tr>\n",
       "      <th>11</th>\n",
       "      <td>18178</td>\n",
       "      <td>1288</td>\n",
       "      <td>Look Who's Talking Too</td>\n",
       "      <td>2.7</td>\n",
       "      <td>2.0</td>\n",
       "    </tr>\n",
       "    <tr>\n",
       "      <th>12</th>\n",
       "      <td>11867</td>\n",
       "      <td>106</td>\n",
       "      <td>Magnolia: Bonus Material</td>\n",
       "      <td>4.2</td>\n",
       "      <td>4.0</td>\n",
       "    </tr>\n",
       "    <tr>\n",
       "      <th>13</th>\n",
       "      <td>3799</td>\n",
       "      <td>688</td>\n",
       "      <td>One True Thing</td>\n",
       "      <td>4.0</td>\n",
       "      <td>5.0</td>\n",
       "    </tr>\n",
       "    <tr>\n",
       "      <th>14</th>\n",
       "      <td>15938</td>\n",
       "      <td>297</td>\n",
       "      <td>Crunch: Pick Your Spot Pilates</td>\n",
       "      <td>3.8</td>\n",
       "      <td>5.0</td>\n",
       "    </tr>\n",
       "    <tr>\n",
       "      <th>15</th>\n",
       "      <td>11413</td>\n",
       "      <td>92</td>\n",
       "      <td>They Came Back</td>\n",
       "      <td>4.3</td>\n",
       "      <td>5.0</td>\n",
       "    </tr>\n",
       "    <tr>\n",
       "      <th>16</th>\n",
       "      <td>18093</td>\n",
       "      <td>1491</td>\n",
       "      <td>Rhinestone</td>\n",
       "      <td>3.1</td>\n",
       "      <td>5.0</td>\n",
       "    </tr>\n",
       "    <tr>\n",
       "      <th>17</th>\n",
       "      <td>5583</td>\n",
       "      <td>816</td>\n",
       "      <td>My Bodyguard</td>\n",
       "      <td>2.9</td>\n",
       "      <td>2.0</td>\n",
       "    </tr>\n",
       "    <tr>\n",
       "      <th>18</th>\n",
       "      <td>3838</td>\n",
       "      <td>1022</td>\n",
       "      <td>Sesame Street: Elmo Saves Christmas</td>\n",
       "      <td>3.3</td>\n",
       "      <td>4.0</td>\n",
       "    </tr>\n",
       "    <tr>\n",
       "      <th>19</th>\n",
       "      <td>19130</td>\n",
       "      <td>911</td>\n",
       "      <td>Angelina Ballerina: Friends Forever</td>\n",
       "      <td>3.2</td>\n",
       "      <td>1.0</td>\n",
       "    </tr>\n",
       "  </tbody>\n",
       "</table>\n",
       "</div>"
      ],
      "text/plain": [
       "    User ID  Movie ID                           Movie Name  Predicted Rating  \\\n",
       "0     19837        94            Dona Herlinda and Her Son               2.9   \n",
       "1     19216       694                                 Koma               3.1   \n",
       "2     16553       210                       The Agronomist               3.8   \n",
       "3     15720       693        When Dinosaurs Roamed America               2.6   \n",
       "4      4202       370              The Trouble with Angels               3.7   \n",
       "5      1972       437                      Bean: The Movie               2.9   \n",
       "6      6447       314        Combat! Season 3: Operation 2               3.9   \n",
       "7     16397       436              Beyblade: Fierce Battle               3.2   \n",
       "8      1714       996       Miracle of the White Stallions               2.5   \n",
       "9      6205       335                           The Driver               3.7   \n",
       "10    10893       989                        Meet John Doe               2.4   \n",
       "11    18178      1288               Look Who's Talking Too               2.7   \n",
       "12    11867       106             Magnolia: Bonus Material               4.2   \n",
       "13     3799       688                       One True Thing               4.0   \n",
       "14    15938       297       Crunch: Pick Your Spot Pilates               3.8   \n",
       "15    11413        92                       They Came Back               4.3   \n",
       "16    18093      1491                           Rhinestone               3.1   \n",
       "17     5583       816                         My Bodyguard               2.9   \n",
       "18     3838      1022  Sesame Street: Elmo Saves Christmas               3.3   \n",
       "19    19130       911  Angelina Ballerina: Friends Forever               3.2   \n",
       "\n",
       "    Actual Rating  \n",
       "0             2.0  \n",
       "1             3.0  \n",
       "2             4.0  \n",
       "3             3.0  \n",
       "4             4.0  \n",
       "5             2.0  \n",
       "6             4.0  \n",
       "7             4.0  \n",
       "8             4.0  \n",
       "9             3.0  \n",
       "10            2.0  \n",
       "11            2.0  \n",
       "12            4.0  \n",
       "13            5.0  \n",
       "14            5.0  \n",
       "15            5.0  \n",
       "16            5.0  \n",
       "17            2.0  \n",
       "18            4.0  \n",
       "19            1.0  "
      ]
     },
     "execution_count": 116,
     "metadata": {},
     "output_type": "execute_result"
    }
   ],
   "source": [
    "## Let's see how our collaborative model performs by seeing the predicted and actual rating for the given user and movie pair\n",
    "results_df = pd.DataFrame({\n",
    "    'User ID': test_user_data.values,\n",
    "    'Movie ID': test_movie_data.values,\n",
    "    'Movie Name': [movie_titles['Name'].iloc[item] for item in test_movie_data],\n",
    "    'Predicted Rating': np.round(y_pred, 1),\n",
    "    'Actual Rating': y_true\n",
    "})\n",
    "\n",
    "results_df.head(20)"
   ]
  },
  {
   "cell_type": "markdown",
   "metadata": {
    "colab_type": "text",
    "id": "Gaq-sJqpc_B_"
   },
   "source": [
    "## 8.4: Hybrid Recommendation System (Content & Collaborative)\n",
    "\n",
    "One advantage of deep learning models is, that movie-metadata can easily be added to the model.\n",
    "We will tf-idf transform the short description of all movies to a sparse vector. The model will learn to reduce the dimensionality of this vector and how to combine metadata with the embedding of the user-id and the movie-id. In this way we can add any additional metadata to our own recommender.\n",
    "These kind of hybrid systems can learn how to reduce the impact of the cold start problem.\n",
    "\n",
    "Deep learning models require lots of data to train and predict. To provide our model with more data, we will include the movie metadata as well. We will do the following:\n",
    "\n",
    "\n",
    "*   Use movie metadata to combine with user and movie matrices in order to get more data\n",
    "*   Use tf-idf transform to vectorize movie metadata (Sparse Layer)\n",
    "*   Create an embedding of the metadata 512 -> 256 \n",
    "*   Combine all embeddings for movie tf-idf vectors, user and ratings to arrive at a common embedding space (256 sized embeddings per entity)\n",
    "*   Use the embeddings to train the model and get predictions on the test data\n",
    "\n",
    "\n",
    "\n",
    "\n",
    "\n"
   ]
  },
  {
   "cell_type": "markdown",
   "metadata": {
    "colab_type": "text",
    "id": "gw7fwxvQc4DV"
   },
   "source": [
    "### Additional Hints:\n",
    "\n",
    "Dense layer setup :\n",
    "[Dense](https://www.tensorflow.org/api_docs/python/tf/keras/layers/Dense#example_2)\n",
    "\n",
    "Create model using tf.keras API : \n",
    "[Model](https://www.tensorflow.org/api_docs/python/tf/keras/Model#used-in-the-notebooks)\n",
    "\n",
    "Compile model using : [Compile](https://www.tensorflow.org/api_docs/python/tf/keras/Model#compile)\n",
    "\n",
    "Fit model : \n",
    "[fit](https://www.tensorflow.org/api_docs/python/tf/keras/Model#fit)\n",
    "\n",
    "Predict accuracy: [mean_squared_error](https://scikit-learn.org/stable/modules/generated/sklearn.metrics.mean_squared_error.html)\n",
    "\n"
   ]
  },
  {
   "cell_type": "markdown",
   "metadata": {
    "colab_type": "text",
    "id": "hINM6pCk3yKz"
   },
   "source": [
    "### Q8.3: Building a Deep Learning Hybrid Recommendation System\n",
    "\n",
    "We will be building the following hybrid deep learning recommendation model as scene in the following schematic.\n",
    "\n",
    "![](./images/hybrid-dl-model.png)\n",
    "\n",
    "__Your Turn:__ Fill in the necessary blank code snippets in the following sections to train your own DL hybrid recommendation system\n",
    "\n",
    "#### Create Configuration Parameters"
   ]
  },
  {
   "cell_type": "code",
   "execution_count": 117,
   "metadata": {
    "colab": {},
    "colab_type": "code",
    "id": "QmOFI6gNZOYy"
   },
   "outputs": [],
   "source": [
    "# ceate a copy of the filtered data frame\n",
    "df_filtered_cp = df_filtered.copy(deep=True)"
   ]
  },
  {
   "cell_type": "code",
   "execution_count": 118,
   "metadata": {
    "colab": {},
    "colab_type": "code",
    "id": "eknbQW6mHsKN"
   },
   "outputs": [],
   "source": [
    "# Create user- & movie-id mapping\n",
    "user_id_mapping = {id:i for i, id in enumerate(df_filtered_cp['User'].unique())}\n",
    "movie_id_mapping = {id:i for i, id in enumerate(df_filtered_cp['Movie'].unique())}"
   ]
  },
  {
   "cell_type": "code",
   "execution_count": 119,
   "metadata": {
    "colab": {},
    "colab_type": "code",
    "id": "yLHTi2NsIEAM"
   },
   "outputs": [],
   "source": [
    "# use dataframe map function to map users & movies to mapped ids based on above mapping\n",
    "df_filtered_cp['User'] = df_filtered_cp['User'].map(user_id_mapping)\n",
    "df_filtered_cp['Movie'] = df_filtered_cp['Movie'].map(movie_id_mapping)"
   ]
  },
  {
   "cell_type": "markdown",
   "metadata": {
    "colab_type": "text",
    "id": "fh1Bg5Q_38mF"
   },
   "source": [
    "#### Create Movie Description Dataset (Content)"
   ]
  },
  {
   "cell_type": "code",
   "execution_count": 120,
   "metadata": {
    "colab": {
     "base_uri": "https://localhost:8080/",
     "height": 242
    },
    "colab_type": "code",
    "id": "CoAHPk1SIECT",
    "outputId": "341478ef-8e00-410d-dee3-ba3c79f4b409"
   },
   "outputs": [
    {
     "name": "stdout",
     "output_type": "stream",
     "text": [
      "Movie Description DF Shape: (6938, 1)\n"
     ]
    },
    {
     "data": {
      "text/html": [
       "<div>\n",
       "<style scoped>\n",
       "    .dataframe tbody tr th:only-of-type {\n",
       "        vertical-align: middle;\n",
       "    }\n",
       "\n",
       "    .dataframe tbody tr th {\n",
       "        vertical-align: top;\n",
       "    }\n",
       "\n",
       "    .dataframe thead th {\n",
       "        text-align: right;\n",
       "    }\n",
       "</style>\n",
       "<table border=\"1\" class=\"dataframe\">\n",
       "  <thead>\n",
       "    <tr style=\"text-align: right;\">\n",
       "      <th></th>\n",
       "      <th>overview</th>\n",
       "    </tr>\n",
       "    <tr>\n",
       "      <th>Id</th>\n",
       "      <th></th>\n",
       "    </tr>\n",
       "  </thead>\n",
       "  <tbody>\n",
       "    <tr>\n",
       "      <th>16182</th>\n",
       "      <td>daryl zero is a private investigator. along wi...</td>\n",
       "    </tr>\n",
       "    <tr>\n",
       "      <th>15233</th>\n",
       "      <td>clear the runway for derek zoolander, vh1's th...</td>\n",
       "    </tr>\n",
       "    <tr>\n",
       "      <th>1210</th>\n",
       "      <td>a newly arrived governor finds his province un...</td>\n",
       "    </tr>\n",
       "    <tr>\n",
       "      <th>17631</th>\n",
       "      <td>in 1879, during the zulu wars, man of the peop...</td>\n",
       "    </tr>\n",
       "    <tr>\n",
       "      <th>17631</th>\n",
       "      <td>as a child, ali neuman narrowly escaped being ...</td>\n",
       "    </tr>\n",
       "  </tbody>\n",
       "</table>\n",
       "</div>"
      ],
      "text/plain": [
       "                                                overview\n",
       "Id                                                      \n",
       "16182  daryl zero is a private investigator. along wi...\n",
       "15233  clear the runway for derek zoolander, vh1's th...\n",
       "1210   a newly arrived governor finds his province un...\n",
       "17631  in 1879, during the zulu wars, man of the peop...\n",
       "17631  as a child, ali neuman narrowly escaped being ..."
      ]
     },
     "execution_count": 120,
     "metadata": {},
     "output_type": "execute_result"
    }
   ],
   "source": [
    "# Preprocess metadata\n",
    "tmp_metadata = movie_metadata.copy()\n",
    "tmp_metadata.index = tmp_metadata.index.str.lower()\n",
    "\n",
    "# Preprocess titles\n",
    "tmp_titles = movie_titles.drop('Year', axis=1).copy()\n",
    "tmp_titles = tmp_titles.reset_index().set_index('Name')\n",
    "tmp_titles.index = tmp_titles.index.str.lower()\n",
    "\n",
    "# Combine titles and metadata\n",
    "df_id_descriptions = tmp_titles.join(tmp_metadata).dropna().set_index('Id')\n",
    "df_id_descriptions['overview'] = df_id_descriptions['overview'].str.lower()\n",
    "#del tmp_metadata,tmp_titles\n",
    "print('Movie Description DF Shape:', df_id_descriptions.shape)\n",
    "df_id_descriptions.tail()"
   ]
  },
  {
   "cell_type": "markdown",
   "metadata": {
    "colab_type": "text",
    "id": "R7__gU8E44m-"
   },
   "source": [
    "#### Create User-Rating Filtered Dataset (Collaborative)\n",
    "\n",
    "Here we filter out movie-user-ratings where movies don't have descriptions (content)"
   ]
  },
  {
   "cell_type": "code",
   "execution_count": 121,
   "metadata": {
    "colab": {
     "base_uri": "https://localhost:8080/",
     "height": 212
    },
    "colab_type": "code",
    "id": "w-NM3bV_JOG_",
    "outputId": "7a028ed8-0293-452b-ed54-e92acee43258"
   },
   "outputs": [
    {
     "name": "stdout",
     "output_type": "stream",
     "text": [
      "Movie-User-Rating DF Shape: (2311083, 3)\n"
     ]
    },
    {
     "data": {
      "text/html": [
       "<div>\n",
       "<style scoped>\n",
       "    .dataframe tbody tr th:only-of-type {\n",
       "        vertical-align: middle;\n",
       "    }\n",
       "\n",
       "    .dataframe tbody tr th {\n",
       "        vertical-align: top;\n",
       "    }\n",
       "\n",
       "    .dataframe thead th {\n",
       "        text-align: right;\n",
       "    }\n",
       "</style>\n",
       "<table border=\"1\" class=\"dataframe\">\n",
       "  <thead>\n",
       "    <tr style=\"text-align: right;\">\n",
       "      <th></th>\n",
       "      <th>Movie</th>\n",
       "      <th>User</th>\n",
       "      <th>Rating</th>\n",
       "    </tr>\n",
       "  </thead>\n",
       "  <tbody>\n",
       "    <tr>\n",
       "      <th>0</th>\n",
       "      <td>12</td>\n",
       "      <td>12</td>\n",
       "      <td>4.0</td>\n",
       "    </tr>\n",
       "    <tr>\n",
       "      <th>1</th>\n",
       "      <td>12</td>\n",
       "      <td>881</td>\n",
       "      <td>3.0</td>\n",
       "    </tr>\n",
       "    <tr>\n",
       "      <th>2</th>\n",
       "      <td>12</td>\n",
       "      <td>1097</td>\n",
       "      <td>3.0</td>\n",
       "    </tr>\n",
       "    <tr>\n",
       "      <th>3</th>\n",
       "      <td>12</td>\n",
       "      <td>787</td>\n",
       "      <td>2.0</td>\n",
       "    </tr>\n",
       "    <tr>\n",
       "      <th>4</th>\n",
       "      <td>12</td>\n",
       "      <td>2342</td>\n",
       "      <td>2.0</td>\n",
       "    </tr>\n",
       "  </tbody>\n",
       "</table>\n",
       "</div>"
      ],
      "text/plain": [
       "   Movie  User  Rating\n",
       "0     12    12     4.0\n",
       "1     12   881     3.0\n",
       "2     12  1097     3.0\n",
       "3     12   787     2.0\n",
       "4     12  2342     2.0"
      ]
     },
     "execution_count": 121,
     "metadata": {},
     "output_type": "execute_result"
    }
   ],
   "source": [
    "df_hybrid = (df_filtered_cp.set_index('Movie')\n",
    "               .join(df_id_descriptions)\n",
    "               .dropna()\n",
    "               .drop('overview', axis=1)\n",
    "               .reset_index().rename({'index':'Movie'}, \n",
    "                                      axis=1))\n",
    "print('Movie-User-Rating DF Shape:', df_hybrid.shape)\n",
    "df_hybrid.head()"
   ]
  },
  {
   "cell_type": "code",
   "execution_count": 122,
   "metadata": {
    "colab": {
     "base_uri": "https://localhost:8080/",
     "height": 34
    },
    "colab_type": "code",
    "id": "j7CHcKM_JOOw",
    "outputId": "e1378ad4-6a97-4fc3-9678-f131f7664686"
   },
   "outputs": [
    {
     "data": {
      "text/plain": [
       "((2011083, 3), (300000, 3))"
      ]
     },
     "execution_count": 122,
     "metadata": {},
     "output_type": "execute_result"
    }
   ],
   "source": [
    "# Split train- & testset\n",
    "n = 300000\n",
    "df_hybrid = df_hybrid.sample(frac=1).reset_index(drop=True)\n",
    "df_hybrid_train = df_hybrid[:-n]\n",
    "df_hybrid_test = df_hybrid[-n:]\n",
    "df_hybrid_train.shape, df_hybrid_test.shape"
   ]
  },
  {
   "cell_type": "markdown",
   "metadata": {
    "colab_type": "text",
    "id": "k33OwrFO5RpF"
   },
   "source": [
    "#### Generate TFIDF Vectors for Train and Test Datasets (Movie Descriptions)"
   ]
  },
  {
   "cell_type": "code",
   "execution_count": 123,
   "metadata": {
    "colab": {},
    "colab_type": "code",
    "id": "ZqiyhdelU775"
   },
   "outputs": [],
   "source": [
    "# Create tf-idf matrix for movie description vectors - HINT: check the overview column of df_id_description\n",
    "# Initialize the TF-IDF Vectorizer\n",
    "tfidf = TfidfVectorizer(stop_words='english')\n",
    "\n",
    "# Fit and transform the overview column of df_id_descriptions\n",
    "tfidf_hybrid = tfidf.fit_transform(df_id_descriptions['overview'])"
   ]
  },
  {
   "cell_type": "code",
   "execution_count": 125,
   "metadata": {
    "colab": {},
    "colab_type": "code",
    "id": "RgxZz-0wU7-C"
   },
   "outputs": [],
   "source": [
    "# Get mapping from movie-ids to indices in tfidf-matrix\n",
    "movie_idx_mapping = {id:i for i, id in enumerate(df_id_descriptions.index)}"
   ]
  },
  {
   "cell_type": "code",
   "execution_count": 126,
   "metadata": {
    "colab": {
     "base_uri": "https://localhost:8080/",
     "height": 50
    },
    "colab_type": "code",
    "id": "HemfBsDqU8AL",
    "outputId": "065a5eb2-3920-4028-af05-e17bd0ee3137"
   },
   "outputs": [
    {
     "name": "stderr",
     "output_type": "stream",
     "text": [
      "100%|██████████| 2011083/2011083 [08:22<00:00, 4002.17it/s]\n"
     ]
    },
    {
     "data": {
      "text/plain": [
       "2011083"
      ]
     },
     "execution_count": 126,
     "metadata": {},
     "output_type": "execute_result"
    }
   ],
   "source": [
    "# get train data tfidf vectors\n",
    "train_tfidf = []\n",
    "\n",
    "# Iterate over all movie-ids and save the tfidf-vectors (sparse format for memory efficiency)\n",
    "for idx in tqdm(df_hybrid_train['Movie'].values):\n",
    "    index = movie_idx_mapping[idx]\n",
    "    train_tfidf.append(tfidf_hybrid[index])\n",
    "\n",
    "len(train_tfidf)"
   ]
  },
  {
   "cell_type": "code",
   "execution_count": 127,
   "metadata": {
    "colab": {
     "base_uri": "https://localhost:8080/",
     "height": 50
    },
    "colab_type": "code",
    "id": "7AqgNsqrU8CZ",
    "outputId": "da454ca5-ae30-47cc-b865-4642069edb15"
   },
   "outputs": [
    {
     "name": "stderr",
     "output_type": "stream",
     "text": [
      "100%|██████████| 300000/300000 [01:32<00:00, 3257.02it/s]\n"
     ]
    },
    {
     "data": {
      "text/plain": [
       "300000"
      ]
     },
     "execution_count": 127,
     "metadata": {},
     "output_type": "execute_result"
    }
   ],
   "source": [
    "# get test data tfidf vectors\n",
    "test_tfidf = []\n",
    "\n",
    "# Iterate over all movie-ids and save the tfidf-vectors (sparse format for memory efficiency)\n",
    "for idx in tqdm(df_hybrid_test['Movie'].values):\n",
    "    index = movie_idx_mapping[idx]\n",
    "    test_tfidf.append(tfidf_hybrid[index])\n",
    "\n",
    "len(test_tfidf)"
   ]
  },
  {
   "cell_type": "code",
   "execution_count": 128,
   "metadata": {
    "colab": {
     "base_uri": "https://localhost:8080/",
     "height": 34
    },
    "colab_type": "code",
    "id": "3dyKQnCNdQTc",
    "outputId": "bcf2ef13-850c-4de3-e04a-f9884a085431"
   },
   "outputs": [
    {
     "data": {
      "text/plain": [
       "((2011083, 24142), (300000, 24142))"
      ]
     },
     "execution_count": 128,
     "metadata": {},
     "output_type": "execute_result"
    }
   ],
   "source": [
    "# Stack the sparse matrices\n",
    "train_tfidf = vstack(train_tfidf)\n",
    "test_tfidf = vstack(test_tfidf)\n",
    "\n",
    "train_tfidf.shape, test_tfidf.shape"
   ]
  },
  {
   "cell_type": "code",
   "execution_count": 129,
   "metadata": {
    "colab": {
     "base_uri": "https://localhost:8080/",
     "height": 34
    },
    "colab_type": "code",
    "id": "dMI3SxfNdwNQ",
    "outputId": "454e8563-c55e-4874-87b9-793441bdc431"
   },
   "outputs": [
    {
     "data": {
      "text/plain": [
       "scipy.sparse._csr.csr_matrix"
      ]
     },
     "execution_count": 129,
     "metadata": {},
     "output_type": "execute_result"
    }
   ],
   "source": [
    "type(train_tfidf)"
   ]
  },
  {
   "cell_type": "markdown",
   "metadata": {
    "colab_type": "text",
    "id": "M4m5y7Zv5ZuK"
   },
   "source": [
    "This shows we are using sparse matrices to represent the vectors as dense vectors would typically give a out of memory error!"
   ]
  },
  {
   "cell_type": "markdown",
   "metadata": {
    "colab_type": "text",
    "id": "rCZjFT6JeIDs"
   },
   "source": [
    "#### Construct Deep Learning Model Architecture"
   ]
  },
  {
   "cell_type": "code",
   "execution_count": 130,
   "metadata": {
    "colab": {},
    "colab_type": "code",
    "id": "y_WYqzMpeJby"
   },
   "outputs": [],
   "source": [
    "# setup NN parameters\n",
    "user_embed_dim = 256\n",
    "movie_embed_dim = 256\n",
    "userid_input_shape = 1\n",
    "movieid_input_shape = 1\n",
    "tfidf_input_shape = tfidf_hybrid.shape[1]"
   ]
  },
  {
   "cell_type": "code",
   "execution_count": 131,
   "metadata": {
    "colab": {},
    "colab_type": "code",
    "id": "Ea74tynzeqGB"
   },
   "outputs": [],
   "source": [
    "# Create the input layers\n",
    "\n",
    "# user and movie input layers\n",
    "user_id_input = Input(shape=(userid_input_shape,), name='user')\n",
    "movie_id_input = Input(shape=(movieid_input_shape,), name='movie')\n",
    "\n",
    "# tfidf input layer\n",
    "tfidf_input = Input(shape=(tfidf_input_shape,), name='tfidf', sparse=True)"
   ]
  },
  {
   "cell_type": "code",
   "execution_count": 132,
   "metadata": {
    "colab": {},
    "colab_type": "code",
    "id": "zc_bGQ6ne3Cj"
   },
   "outputs": [],
   "source": [
    "# Create embeddings layers for users and movies\n",
    "\n",
    "# user embedding\n",
    "user_embedding = Embedding(output_dim=user_embed_dim,\n",
    "                           input_dim=len(user_id_mapping),\n",
    "                           input_length=userid_input_shape,\n",
    "                           name='user_embedding')(user_id_input)\n",
    "\n",
    "# movie embedding\n",
    "movie_embedding = Embedding(output_dim=user_embed_dim,\n",
    "                           input_dim=len(movie_id_mapping),\n",
    "                           input_length=movieid_input_shape,\n",
    "                           name='movie_embedding')(movie_id_input)"
   ]
  },
  {
   "cell_type": "code",
   "execution_count": 133,
   "metadata": {
    "colab": {},
    "colab_type": "code",
    "id": "pm_H8CaXe3Gn"
   },
   "outputs": [],
   "source": [
    "# Dimensionality reduction with Dense layers\n",
    "tfidf_vectors = Dense(512, activation='relu')(tfidf_input)\n",
    "tfidf_vectors = Dense(256, activation='relu')(tfidf_vectors)"
   ]
  },
  {
   "cell_type": "code",
   "execution_count": 134,
   "metadata": {
    "colab": {},
    "colab_type": "code",
    "id": "rlNBswdYe3I8"
   },
   "outputs": [],
   "source": [
    "# Reshape both user and movie embedding layers\n",
    "user_vectors = Reshape([user_embed_dim])(user_embedding)\n",
    "movie_vectors = Reshape([movie_embed_dim])(movie_embedding)"
   ]
  },
  {
   "cell_type": "code",
   "execution_count": 135,
   "metadata": {
    "colab": {},
    "colab_type": "code",
    "id": "LfcefQQEe3E2"
   },
   "outputs": [],
   "source": [
    "# Concatenate all layers into one \n",
    "hybrid_layer = Concatenate()([user_vectors, movie_vectors, tfidf_vectors])"
   ]
  },
  {
   "cell_type": "code",
   "execution_count": 136,
   "metadata": {
    "colab": {},
    "colab_type": "code",
    "id": "WfZK5Dg9oxVA"
   },
   "outputs": [],
   "source": [
    "# add in dense and output layers\n",
    "dense = Dense(512, activation='relu')(hybrid_layer)\n",
    "dense = Dropout(0.2)(dense)\n",
    "output = Dense(1)(dense)"
   ]
  },
  {
   "cell_type": "code",
   "execution_count": 137,
   "metadata": {
    "colab": {
     "base_uri": "https://localhost:8080/",
     "height": 622
    },
    "colab_type": "code",
    "id": "odLeDjgzoxYA",
    "outputId": "56430bf2-ce38-43d6-f2c7-82974b41af94"
   },
   "outputs": [
    {
     "name": "stdout",
     "output_type": "stream",
     "text": [
      "Model: \"model_1\"\n",
      "__________________________________________________________________________________________________\n",
      " Layer (type)                Output Shape                 Param #   Connected to                  \n",
      "==================================================================================================\n",
      " user (InputLayer)           [(None, 1)]                  0         []                            \n",
      "                                                                                                  \n",
      " movie (InputLayer)          [(None, 1)]                  0         []                            \n",
      "                                                                                                  \n",
      " tfidf (InputLayer)          [(None, 24142)]              0         []                            \n",
      "                                                                                                  \n",
      " user_embedding (Embedding)  (None, 1, 256)               5331968   ['user[0][0]']                \n",
      "                                                                                                  \n",
      " movie_embedding (Embedding  (None, 1, 256)               445696    ['movie[0][0]']               \n",
      " )                                                                                                \n",
      "                                                                                                  \n",
      " dense (Dense)               (None, 512)                  1236121   ['tfidf[0][0]']               \n",
      "                                                          6                                       \n",
      "                                                                                                  \n",
      " reshape_2 (Reshape)         (None, 256)                  0         ['user_embedding[0][0]']      \n",
      "                                                                                                  \n",
      " reshape_3 (Reshape)         (None, 256)                  0         ['movie_embedding[0][0]']     \n",
      "                                                                                                  \n",
      " dense_1 (Dense)             (None, 256)                  131328    ['dense[0][0]']               \n",
      "                                                                                                  \n",
      " concatenate (Concatenate)   (None, 768)                  0         ['reshape_2[0][0]',           \n",
      "                                                                     'reshape_3[0][0]',           \n",
      "                                                                     'dense_1[0][0]']             \n",
      "                                                                                                  \n",
      " dense_2 (Dense)             (None, 512)                  393728    ['concatenate[0][0]']         \n",
      "                                                                                                  \n",
      " dropout (Dropout)           (None, 512)                  0         ['dense_2[0][0]']             \n",
      "                                                                                                  \n",
      " dense_3 (Dense)             (None, 1)                    513       ['dropout[0][0]']             \n",
      "                                                                                                  \n",
      "==================================================================================================\n",
      "Total params: 18664449 (71.20 MB)\n",
      "Trainable params: 18664449 (71.20 MB)\n",
      "Non-trainable params: 0 (0.00 Byte)\n",
      "__________________________________________________________________________________________________\n"
     ]
    }
   ],
   "source": [
    "# create and view model summary\n",
    "model = Model(inputs=[user_id_input, movie_id_input, tfidf_input], outputs=output)\n",
    "model.compile(loss='mse', optimizer='adam')\n",
    "model.summary()"
   ]
  },
  {
   "cell_type": "markdown",
   "metadata": {
    "colab_type": "text",
    "id": "upDnm3r76Ivj"
   },
   "source": [
    "#### Train and Test the Model"
   ]
  },
  {
   "cell_type": "code",
   "execution_count": 155,
   "metadata": {},
   "outputs": [
    {
     "ename": "ValueError",
     "evalue": "`validation_split` is only supported for Tensors or NumPy arrays, found following types in the input: [<class 'scipy.sparse._csr.csr_matrix'>]",
     "output_type": "error",
     "traceback": [
      "\u001b[1;31m---------------------------------------------------------------------------\u001b[0m",
      "\u001b[1;31mValueError\u001b[0m                                Traceback (most recent call last)",
      "Cell \u001b[1;32mIn[155], line 7\u001b[0m\n\u001b[0;32m      5\u001b[0m X \u001b[38;5;241m=\u001b[39m [df_hybrid_train[\u001b[38;5;124m'\u001b[39m\u001b[38;5;124mUser\u001b[39m\u001b[38;5;124m'\u001b[39m], df_hybrid_train[\u001b[38;5;124m'\u001b[39m\u001b[38;5;124mMovie\u001b[39m\u001b[38;5;124m'\u001b[39m], train_tfidf]\n\u001b[0;32m      6\u001b[0m y \u001b[38;5;241m=\u001b[39m df_hybrid_train[\u001b[38;5;124m'\u001b[39m\u001b[38;5;124mRating\u001b[39m\u001b[38;5;124m'\u001b[39m]\n\u001b[1;32m----> 7\u001b[0m model\u001b[38;5;241m.\u001b[39mfit(X, y,\n\u001b[0;32m      8\u001b[0m           batch_size\u001b[38;5;241m=\u001b[39mbatch_size, \n\u001b[0;32m      9\u001b[0m           epochs\u001b[38;5;241m=\u001b[39mepochs, \u001b[38;5;66;03m## Change the epochs to find better improved model.\u001b[39;00m\n\u001b[0;32m     10\u001b[0m           validation_split\u001b[38;5;241m=\u001b[39m\u001b[38;5;241m0.1\u001b[39m,\n\u001b[0;32m     11\u001b[0m           shuffle\u001b[38;5;241m=\u001b[39m\u001b[38;5;28;01mTrue\u001b[39;00m)\n",
      "File \u001b[1;32m~\\anaconda3\\Lib\\site-packages\\keras\\src\\utils\\traceback_utils.py:70\u001b[0m, in \u001b[0;36mfilter_traceback.<locals>.error_handler\u001b[1;34m(*args, **kwargs)\u001b[0m\n\u001b[0;32m     67\u001b[0m     filtered_tb \u001b[38;5;241m=\u001b[39m _process_traceback_frames(e\u001b[38;5;241m.\u001b[39m__traceback__)\n\u001b[0;32m     68\u001b[0m     \u001b[38;5;66;03m# To get the full stack trace, call:\u001b[39;00m\n\u001b[0;32m     69\u001b[0m     \u001b[38;5;66;03m# `tf.debugging.disable_traceback_filtering()`\u001b[39;00m\n\u001b[1;32m---> 70\u001b[0m     \u001b[38;5;28;01mraise\u001b[39;00m e\u001b[38;5;241m.\u001b[39mwith_traceback(filtered_tb) \u001b[38;5;28;01mfrom\u001b[39;00m \u001b[38;5;28;01mNone\u001b[39;00m\n\u001b[0;32m     71\u001b[0m \u001b[38;5;28;01mfinally\u001b[39;00m:\n\u001b[0;32m     72\u001b[0m     \u001b[38;5;28;01mdel\u001b[39;00m filtered_tb\n",
      "File \u001b[1;32m~\\anaconda3\\Lib\\site-packages\\keras\\src\\engine\\data_adapter.py:1766\u001b[0m, in \u001b[0;36mtrain_validation_split\u001b[1;34m(arrays, validation_split)\u001b[0m\n\u001b[0;32m   1764\u001b[0m unsplitable \u001b[38;5;241m=\u001b[39m [\u001b[38;5;28mtype\u001b[39m(t) \u001b[38;5;28;01mfor\u001b[39;00m t \u001b[38;5;129;01min\u001b[39;00m flat_arrays \u001b[38;5;28;01mif\u001b[39;00m \u001b[38;5;129;01mnot\u001b[39;00m _can_split(t)]\n\u001b[0;32m   1765\u001b[0m \u001b[38;5;28;01mif\u001b[39;00m unsplitable:\n\u001b[1;32m-> 1766\u001b[0m     \u001b[38;5;28;01mraise\u001b[39;00m \u001b[38;5;167;01mValueError\u001b[39;00m(\n\u001b[0;32m   1767\u001b[0m         \u001b[38;5;124m\"\u001b[39m\u001b[38;5;124m`validation_split` is only supported for Tensors or NumPy \u001b[39m\u001b[38;5;124m\"\u001b[39m\n\u001b[0;32m   1768\u001b[0m         \u001b[38;5;124m\"\u001b[39m\u001b[38;5;124marrays, found following types in the input: \u001b[39m\u001b[38;5;132;01m{}\u001b[39;00m\u001b[38;5;124m\"\u001b[39m\u001b[38;5;241m.\u001b[39mformat(unsplitable)\n\u001b[0;32m   1769\u001b[0m     )\n\u001b[0;32m   1771\u001b[0m \u001b[38;5;28;01mif\u001b[39;00m \u001b[38;5;28mall\u001b[39m(t \u001b[38;5;129;01mis\u001b[39;00m \u001b[38;5;28;01mNone\u001b[39;00m \u001b[38;5;28;01mfor\u001b[39;00m t \u001b[38;5;129;01min\u001b[39;00m flat_arrays):\n\u001b[0;32m   1772\u001b[0m     \u001b[38;5;28;01mreturn\u001b[39;00m arrays, arrays\n",
      "\u001b[1;31mValueError\u001b[0m: `validation_split` is only supported for Tensors or NumPy arrays, found following types in the input: [<class 'scipy.sparse._csr.csr_matrix'>]"
     ]
    }
   ],
   "source": [
    "# fit the model - original code\n",
    "batch_size=1024\n",
    "epochs=10\n",
    "\n",
    "X = [df_hybrid_train['User'], df_hybrid_train['Movie'], train_tfidf]\n",
    "y = df_hybrid_train['Rating']\n",
    "model.fit(X, y,\n",
    "          batch_size=batch_size, \n",
    "          epochs=epochs, ## Change the epochs to find better improved model.\n",
    "          validation_split=0.1,\n",
    "          shuffle=True)"
   ]
  },
  {
   "cell_type": "markdown",
   "metadata": {},
   "source": [
    "##### Fit Model Try 2"
   ]
  },
  {
   "cell_type": "code",
   "execution_count": 157,
   "metadata": {},
   "outputs": [
    {
     "ename": "MemoryError",
     "evalue": "Unable to allocate 362. GiB for an array with shape (2011083, 24142) and data type float64",
     "output_type": "error",
     "traceback": [
      "\u001b[1;31m---------------------------------------------------------------------------\u001b[0m",
      "\u001b[1;31mMemoryError\u001b[0m                               Traceback (most recent call last)",
      "Cell \u001b[1;32mIn[157], line 4\u001b[0m\n\u001b[0;32m      2\u001b[0m batch_size\u001b[38;5;241m=\u001b[39m\u001b[38;5;241m1024\u001b[39m\n\u001b[0;32m      3\u001b[0m epochs\u001b[38;5;241m=\u001b[39m\u001b[38;5;241m10\u001b[39m\n\u001b[1;32m----> 4\u001b[0m train_tfidf \u001b[38;5;241m=\u001b[39m train_tfidf\u001b[38;5;241m.\u001b[39mtoarray() \u001b[38;5;66;03m# Added this line -> Memory Error\u001b[39;00m\n\u001b[0;32m      5\u001b[0m X \u001b[38;5;241m=\u001b[39m [df_hybrid_train[\u001b[38;5;124m'\u001b[39m\u001b[38;5;124mUser\u001b[39m\u001b[38;5;124m'\u001b[39m], df_hybrid_train[\u001b[38;5;124m'\u001b[39m\u001b[38;5;124mMovie\u001b[39m\u001b[38;5;124m'\u001b[39m], train_tfidf]\n\u001b[0;32m      6\u001b[0m y \u001b[38;5;241m=\u001b[39m df_hybrid_train[\u001b[38;5;124m'\u001b[39m\u001b[38;5;124mRating\u001b[39m\u001b[38;5;124m'\u001b[39m]\n",
      "File \u001b[1;32m~\\anaconda3\\Lib\\site-packages\\scipy\\sparse\\_compressed.py:1051\u001b[0m, in \u001b[0;36m_cs_matrix.toarray\u001b[1;34m(self, order, out)\u001b[0m\n\u001b[0;32m   1049\u001b[0m \u001b[38;5;28;01mif\u001b[39;00m out \u001b[38;5;129;01mis\u001b[39;00m \u001b[38;5;28;01mNone\u001b[39;00m \u001b[38;5;129;01mand\u001b[39;00m order \u001b[38;5;129;01mis\u001b[39;00m \u001b[38;5;28;01mNone\u001b[39;00m:\n\u001b[0;32m   1050\u001b[0m     order \u001b[38;5;241m=\u001b[39m \u001b[38;5;28mself\u001b[39m\u001b[38;5;241m.\u001b[39m_swap(\u001b[38;5;124m'\u001b[39m\u001b[38;5;124mcf\u001b[39m\u001b[38;5;124m'\u001b[39m)[\u001b[38;5;241m0\u001b[39m]\n\u001b[1;32m-> 1051\u001b[0m out \u001b[38;5;241m=\u001b[39m \u001b[38;5;28mself\u001b[39m\u001b[38;5;241m.\u001b[39m_process_toarray_args(order, out)\n\u001b[0;32m   1052\u001b[0m \u001b[38;5;28;01mif\u001b[39;00m \u001b[38;5;129;01mnot\u001b[39;00m (out\u001b[38;5;241m.\u001b[39mflags\u001b[38;5;241m.\u001b[39mc_contiguous \u001b[38;5;129;01mor\u001b[39;00m out\u001b[38;5;241m.\u001b[39mflags\u001b[38;5;241m.\u001b[39mf_contiguous):\n\u001b[0;32m   1053\u001b[0m     \u001b[38;5;28;01mraise\u001b[39;00m \u001b[38;5;167;01mValueError\u001b[39;00m(\u001b[38;5;124m'\u001b[39m\u001b[38;5;124mOutput array must be C or F contiguous\u001b[39m\u001b[38;5;124m'\u001b[39m)\n",
      "File \u001b[1;32m~\\anaconda3\\Lib\\site-packages\\scipy\\sparse\\_base.py:1298\u001b[0m, in \u001b[0;36mspmatrix._process_toarray_args\u001b[1;34m(self, order, out)\u001b[0m\n\u001b[0;32m   1296\u001b[0m     \u001b[38;5;28;01mreturn\u001b[39;00m out\n\u001b[0;32m   1297\u001b[0m \u001b[38;5;28;01melse\u001b[39;00m:\n\u001b[1;32m-> 1298\u001b[0m     \u001b[38;5;28;01mreturn\u001b[39;00m np\u001b[38;5;241m.\u001b[39mzeros(\u001b[38;5;28mself\u001b[39m\u001b[38;5;241m.\u001b[39mshape, dtype\u001b[38;5;241m=\u001b[39m\u001b[38;5;28mself\u001b[39m\u001b[38;5;241m.\u001b[39mdtype, order\u001b[38;5;241m=\u001b[39morder)\n",
      "\u001b[1;31mMemoryError\u001b[0m: Unable to allocate 362. GiB for an array with shape (2011083, 24142) and data type float64"
     ]
    }
   ],
   "source": [
    "# fit the model - original code\n",
    "batch_size=1024\n",
    "epochs=10\n",
    "train_tfidf = train_tfidf.toarray() # Added this line -> Memory Error\n",
    "X = [df_hybrid_train['User'], df_hybrid_train['Movie'], train_tfidf]\n",
    "y = df_hybrid_train['Rating']\n",
    "model.fit(X, y,\n",
    "          batch_size=batch_size, \n",
    "          epochs=epochs, ## Change the epochs to find better improved model.\n",
    "          validation_split=0.1,\n",
    "          shuffle=True)"
   ]
  },
  {
   "cell_type": "markdown",
   "metadata": {},
   "source": [
    "##### Fit Model Try 3"
   ]
  },
  {
   "cell_type": "code",
   "execution_count": 152,
   "metadata": {},
   "outputs": [
    {
     "name": "stdout",
     "output_type": "stream",
     "text": [
      "Epoch 1/10\n"
     ]
    },
    {
     "ename": "InvalidArgumentError",
     "evalue": "Graph execution error:\n\nTypeError: 'SparseTensor' object is not subscriptable\nTraceback (most recent call last):\n\n  File \"C:\\Users\\rafae\\anaconda3\\Lib\\site-packages\\tensorflow\\python\\ops\\script_ops.py\", line 266, in __call__\n    return func(device, token, args)\n           ^^^^^^^^^^^^^^^^^^^^^^^^^\n\n  File \"C:\\Users\\rafae\\anaconda3\\Lib\\site-packages\\tensorflow\\python\\ops\\script_ops.py\", line 144, in __call__\n    outputs = self._call(device, args)\n              ^^^^^^^^^^^^^^^^^^^^^^^^\n\n  File \"C:\\Users\\rafae\\anaconda3\\Lib\\site-packages\\tensorflow\\python\\ops\\script_ops.py\", line 151, in _call\n    ret = self._func(*args)\n          ^^^^^^^^^^^^^^^^^\n\n  File \"C:\\Users\\rafae\\anaconda3\\Lib\\site-packages\\tensorflow\\python\\autograph\\impl\\api.py\", line 643, in wrapper\n    return func(*args, **kwargs)\n           ^^^^^^^^^^^^^^^^^^^^^\n\n  File \"C:\\Users\\rafae\\anaconda3\\Lib\\site-packages\\keras\\src\\engine\\data_adapter.py\", line 519, in py_method\n    return [slice_array(inp) for inp in flat_inputs]\n           ^^^^^^^^^^^^^^^^^^^^^^^^^^^^^^^^^^^^^^^^^\n\n  File \"C:\\Users\\rafae\\anaconda3\\Lib\\site-packages\\keras\\src\\engine\\data_adapter.py\", line 519, in <listcomp>\n    return [slice_array(inp) for inp in flat_inputs]\n            ^^^^^^^^^^^^^^^^\n\n  File \"C:\\Users\\rafae\\anaconda3\\Lib\\site-packages\\keras\\src\\engine\\data_adapter.py\", line 515, in slice_array\n    return training_utils.slice_arrays(\n           ^^^^^^^^^^^^^^^^^^^^^^^^^^^^\n\n  File \"C:\\Users\\rafae\\anaconda3\\Lib\\site-packages\\keras\\src\\engine\\training_utils.py\", line 47, in slice_arrays\n    entries = [[x[i : i + 1] for i in indices] for x in arrays]\n              ^^^^^^^^^^^^^^^^^^^^^^^^^^^^^^^^^^^^^^^^^^^^^^^^^\n\n  File \"C:\\Users\\rafae\\anaconda3\\Lib\\site-packages\\keras\\src\\engine\\training_utils.py\", line 47, in <listcomp>\n    entries = [[x[i : i + 1] for i in indices] for x in arrays]\n               ^^^^^^^^^^^^^^^^^^^^^^^^^^^^^^^\n\n  File \"C:\\Users\\rafae\\anaconda3\\Lib\\site-packages\\keras\\src\\engine\\training_utils.py\", line 47, in <listcomp>\n    entries = [[x[i : i + 1] for i in indices] for x in arrays]\n                ~^^^^^^^^^^^\n\nTypeError: 'SparseTensor' object is not subscriptable\n\n\n\t [[{{node EagerPyFunc}}]]\n\t [[IteratorGetNext]] [Op:__inference_train_function_113176]",
     "output_type": "error",
     "traceback": [
      "\u001b[1;31m---------------------------------------------------------------------------\u001b[0m",
      "\u001b[1;31mInvalidArgumentError\u001b[0m                      Traceback (most recent call last)",
      "Cell \u001b[1;32mIn[152], line 16\u001b[0m\n\u001b[0;32m      7\u001b[0m X_train, X_val, y_train, y_val, tfidf_train, tfidf_val \u001b[38;5;241m=\u001b[39m train_test_split(\n\u001b[0;32m      8\u001b[0m     df_hybrid_train[[\u001b[38;5;124m'\u001b[39m\u001b[38;5;124mUser\u001b[39m\u001b[38;5;124m'\u001b[39m, \u001b[38;5;124m'\u001b[39m\u001b[38;5;124mMovie\u001b[39m\u001b[38;5;124m'\u001b[39m]], \n\u001b[0;32m      9\u001b[0m     df_hybrid_train[\u001b[38;5;124m'\u001b[39m\u001b[38;5;124mRating\u001b[39m\u001b[38;5;124m'\u001b[39m],\n\u001b[1;32m   (...)\u001b[0m\n\u001b[0;32m     12\u001b[0m     random_state\u001b[38;5;241m=\u001b[39m\u001b[38;5;241m42\u001b[39m\n\u001b[0;32m     13\u001b[0m )\n\u001b[0;32m     15\u001b[0m \u001b[38;5;66;03m# Train the model\u001b[39;00m\n\u001b[1;32m---> 16\u001b[0m model\u001b[38;5;241m.\u001b[39mfit(\n\u001b[0;32m     17\u001b[0m     [X_train[\u001b[38;5;124m'\u001b[39m\u001b[38;5;124mUser\u001b[39m\u001b[38;5;124m'\u001b[39m], X_train[\u001b[38;5;124m'\u001b[39m\u001b[38;5;124mMovie\u001b[39m\u001b[38;5;124m'\u001b[39m], tfidf_train], \n\u001b[0;32m     18\u001b[0m     y_train,\n\u001b[0;32m     19\u001b[0m     batch_size\u001b[38;5;241m=\u001b[39mbatch_size, \n\u001b[0;32m     20\u001b[0m     epochs\u001b[38;5;241m=\u001b[39mepochs, \n\u001b[0;32m     21\u001b[0m     validation_data\u001b[38;5;241m=\u001b[39m([X_val[\u001b[38;5;124m'\u001b[39m\u001b[38;5;124mUser\u001b[39m\u001b[38;5;124m'\u001b[39m], X_val[\u001b[38;5;124m'\u001b[39m\u001b[38;5;124mMovie\u001b[39m\u001b[38;5;124m'\u001b[39m], tfidf_val], y_val),\n\u001b[0;32m     22\u001b[0m     shuffle\u001b[38;5;241m=\u001b[39m\u001b[38;5;28;01mTrue\u001b[39;00m\n\u001b[0;32m     23\u001b[0m )\n",
      "File \u001b[1;32m~\\anaconda3\\Lib\\site-packages\\keras\\src\\utils\\traceback_utils.py:70\u001b[0m, in \u001b[0;36mfilter_traceback.<locals>.error_handler\u001b[1;34m(*args, **kwargs)\u001b[0m\n\u001b[0;32m     67\u001b[0m     filtered_tb \u001b[38;5;241m=\u001b[39m _process_traceback_frames(e\u001b[38;5;241m.\u001b[39m__traceback__)\n\u001b[0;32m     68\u001b[0m     \u001b[38;5;66;03m# To get the full stack trace, call:\u001b[39;00m\n\u001b[0;32m     69\u001b[0m     \u001b[38;5;66;03m# `tf.debugging.disable_traceback_filtering()`\u001b[39;00m\n\u001b[1;32m---> 70\u001b[0m     \u001b[38;5;28;01mraise\u001b[39;00m e\u001b[38;5;241m.\u001b[39mwith_traceback(filtered_tb) \u001b[38;5;28;01mfrom\u001b[39;00m \u001b[38;5;28;01mNone\u001b[39;00m\n\u001b[0;32m     71\u001b[0m \u001b[38;5;28;01mfinally\u001b[39;00m:\n\u001b[0;32m     72\u001b[0m     \u001b[38;5;28;01mdel\u001b[39;00m filtered_tb\n",
      "File \u001b[1;32m~\\anaconda3\\Lib\\site-packages\\tensorflow\\python\\eager\\execute.py:53\u001b[0m, in \u001b[0;36mquick_execute\u001b[1;34m(op_name, num_outputs, inputs, attrs, ctx, name)\u001b[0m\n\u001b[0;32m     51\u001b[0m \u001b[38;5;28;01mtry\u001b[39;00m:\n\u001b[0;32m     52\u001b[0m   ctx\u001b[38;5;241m.\u001b[39mensure_initialized()\n\u001b[1;32m---> 53\u001b[0m   tensors \u001b[38;5;241m=\u001b[39m pywrap_tfe\u001b[38;5;241m.\u001b[39mTFE_Py_Execute(ctx\u001b[38;5;241m.\u001b[39m_handle, device_name, op_name,\n\u001b[0;32m     54\u001b[0m                                       inputs, attrs, num_outputs)\n\u001b[0;32m     55\u001b[0m \u001b[38;5;28;01mexcept\u001b[39;00m core\u001b[38;5;241m.\u001b[39m_NotOkStatusException \u001b[38;5;28;01mas\u001b[39;00m e:\n\u001b[0;32m     56\u001b[0m   \u001b[38;5;28;01mif\u001b[39;00m name \u001b[38;5;129;01mis\u001b[39;00m \u001b[38;5;129;01mnot\u001b[39;00m \u001b[38;5;28;01mNone\u001b[39;00m:\n",
      "\u001b[1;31mInvalidArgumentError\u001b[0m: Graph execution error:\n\nTypeError: 'SparseTensor' object is not subscriptable\nTraceback (most recent call last):\n\n  File \"C:\\Users\\rafae\\anaconda3\\Lib\\site-packages\\tensorflow\\python\\ops\\script_ops.py\", line 266, in __call__\n    return func(device, token, args)\n           ^^^^^^^^^^^^^^^^^^^^^^^^^\n\n  File \"C:\\Users\\rafae\\anaconda3\\Lib\\site-packages\\tensorflow\\python\\ops\\script_ops.py\", line 144, in __call__\n    outputs = self._call(device, args)\n              ^^^^^^^^^^^^^^^^^^^^^^^^\n\n  File \"C:\\Users\\rafae\\anaconda3\\Lib\\site-packages\\tensorflow\\python\\ops\\script_ops.py\", line 151, in _call\n    ret = self._func(*args)\n          ^^^^^^^^^^^^^^^^^\n\n  File \"C:\\Users\\rafae\\anaconda3\\Lib\\site-packages\\tensorflow\\python\\autograph\\impl\\api.py\", line 643, in wrapper\n    return func(*args, **kwargs)\n           ^^^^^^^^^^^^^^^^^^^^^\n\n  File \"C:\\Users\\rafae\\anaconda3\\Lib\\site-packages\\keras\\src\\engine\\data_adapter.py\", line 519, in py_method\n    return [slice_array(inp) for inp in flat_inputs]\n           ^^^^^^^^^^^^^^^^^^^^^^^^^^^^^^^^^^^^^^^^^\n\n  File \"C:\\Users\\rafae\\anaconda3\\Lib\\site-packages\\keras\\src\\engine\\data_adapter.py\", line 519, in <listcomp>\n    return [slice_array(inp) for inp in flat_inputs]\n            ^^^^^^^^^^^^^^^^\n\n  File \"C:\\Users\\rafae\\anaconda3\\Lib\\site-packages\\keras\\src\\engine\\data_adapter.py\", line 515, in slice_array\n    return training_utils.slice_arrays(\n           ^^^^^^^^^^^^^^^^^^^^^^^^^^^^\n\n  File \"C:\\Users\\rafae\\anaconda3\\Lib\\site-packages\\keras\\src\\engine\\training_utils.py\", line 47, in slice_arrays\n    entries = [[x[i : i + 1] for i in indices] for x in arrays]\n              ^^^^^^^^^^^^^^^^^^^^^^^^^^^^^^^^^^^^^^^^^^^^^^^^^\n\n  File \"C:\\Users\\rafae\\anaconda3\\Lib\\site-packages\\keras\\src\\engine\\training_utils.py\", line 47, in <listcomp>\n    entries = [[x[i : i + 1] for i in indices] for x in arrays]\n               ^^^^^^^^^^^^^^^^^^^^^^^^^^^^^^^\n\n  File \"C:\\Users\\rafae\\anaconda3\\Lib\\site-packages\\keras\\src\\engine\\training_utils.py\", line 47, in <listcomp>\n    entries = [[x[i : i + 1] for i in indices] for x in arrays]\n                ~^^^^^^^^^^^\n\nTypeError: 'SparseTensor' object is not subscriptable\n\n\n\t [[{{node EagerPyFunc}}]]\n\t [[IteratorGetNext]] [Op:__inference_train_function_113176]"
     ]
    }
   ],
   "source": [
    "# fit the model\n",
    "batch_size=1024\n",
    "epochs=10\n",
    "\n",
    "from sklearn.model_selection import train_test_split\n",
    "\n",
    "# Split the data into train and validation sets\n",
    "X_train, X_val, y_train, y_val, tfidf_train, tfidf_val = train_test_split(\n",
    "    df_hybrid_train[['User', 'Movie']], \n",
    "    df_hybrid_train['Rating'],\n",
    "    train_tfidf,\n",
    "    test_size=0.1,  # You can adjust the test size here\n",
    "    random_state=42\n",
    ")\n",
    "\n",
    "# Train the model\n",
    "model.fit(\n",
    "    [X_train['User'], X_train['Movie'], tfidf_train], \n",
    "    y_train,\n",
    "    batch_size=batch_size, \n",
    "    epochs=epochs, \n",
    "    validation_data=([X_val['User'], X_val['Movie'], tfidf_val], y_val),\n",
    "    shuffle=True\n",
    ")\n",
    "\n"
   ]
  },
  {
   "cell_type": "code",
   "execution_count": null,
   "metadata": {
    "colab": {
     "base_uri": "https://localhost:8080/",
     "height": 67
    },
    "colab_type": "code",
    "id": "ZLkTXmxhpK7r",
    "outputId": "4d99eaa3-5f84-4814-e083-a82058bacc68"
   },
   "outputs": [],
   "source": [
    "# create test input data and true outputs\n",
    "X_test = [df_hybrid_test['User'], df_hybrid_test['Movie'], test_tfidf]\n",
    "y_true = df_hybrid_test['Rating'].values \n",
    "\n",
    "# Test model by making predictions on test data\n",
    "y_pred = model.predict(X_test).ravel()\n",
    "# clip upper and lower ratings\n",
    "y_pred = list(map(lambda x: 1.0 if x < 1 else 5.0 if x > 5.0 else x, y_pred))\n",
    "\n",
    "#  Compute RMSE\n",
    "rmse = np.sqrt(mean_squared_error(y_pred=y_pred, y_true=y_true))\n",
    "print('\\n\\nTesting Result With DL Hybrid Recommender: {:.4f} RMSE'.format(rmse))"
   ]
  },
  {
   "cell_type": "code",
   "execution_count": null,
   "metadata": {
    "colab": {
     "base_uri": "https://localhost:8080/",
     "height": 639
    },
    "colab_type": "code",
    "id": "ecgDG4C9pLAG",
    "outputId": "e13970a0-c7a0-4b0d-d2f3-7d765e901881"
   },
   "outputs": [],
   "source": [
    "## Let's see how our collaborative model performs by seeing the predicted and actual rating for the given user and movie pair\n",
    "results_df = pd.DataFrame({\n",
    "    'User ID': df_hybrid_test['User'].values,\n",
    "    'Movie ID': df_hybrid_test['Movie'].values,\n",
    "    'Movie Name': [movie_titles['Name'].iloc[item] for item in df_hybrid_test['Movie']],\n",
    "    'Predicted Rating': np.round(y_pred, 1),\n",
    "    'Actual Rating': y_true\n",
    "})\n",
    "\n",
    "results_df.head(20)"
   ]
  }
 ],
 "metadata": {
  "accelerator": "GPU",
  "colab": {
   "collapsed_sections": [],
   "machine_shape": "hm",
   "name": "Recommendation_Systems.ipynb",
   "provenance": []
  },
  "kernelspec": {
   "display_name": "Python 3 (ipykernel)",
   "language": "python",
   "name": "python3"
  },
  "language_info": {
   "codemirror_mode": {
    "name": "ipython",
    "version": 3
   },
   "file_extension": ".py",
   "mimetype": "text/x-python",
   "name": "python",
   "nbconvert_exporter": "python",
   "pygments_lexer": "ipython3",
   "version": "3.11.4"
  }
 },
 "nbformat": 4,
 "nbformat_minor": 1
}
